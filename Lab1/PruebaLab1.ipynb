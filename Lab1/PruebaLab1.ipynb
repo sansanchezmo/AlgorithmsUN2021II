{
  "nbformat": 4,
  "nbformat_minor": 0,
  "metadata": {
    "colab": {
      "name": "PruebaLab1.ipynb",
      "provenance": [],
      "collapsed_sections": []
    },
    "kernelspec": {
      "name": "python3",
      "display_name": "Python 3"
    },
    "language_info": {
      "name": "python"
    }
  },
  "cells": [
    {
      "cell_type": "markdown",
      "metadata": {
        "id": "nEp9DPcExdJh"
      },
      "source": [
        "# Test Lab 1\n",
        "Esto es una prueba :D\n"
      ]
    },
    {
      "cell_type": "code",
      "metadata": {
        "colab": {
          "base_uri": "https://localhost:8080/"
        },
        "id": "P5GU8ASCxZ70",
        "outputId": "973e44b9-1781-41e7-d5da-90def9177393"
      },
      "source": [
        "print('Prueba')"
      ],
      "execution_count": 1,
      "outputs": [
        {
          "output_type": "stream",
          "name": "stdout",
          "text": [
            "Prueba\n"
          ]
        }
      ]
    }
  ]
}