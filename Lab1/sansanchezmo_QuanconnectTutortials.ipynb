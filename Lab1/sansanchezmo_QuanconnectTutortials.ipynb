{
  "nbformat": 4,
  "nbformat_minor": 0,
  "metadata": {
    "colab": {
      "name": "sansanchezmo_QuanconnectTutortials.ipynb",
      "provenance": []
    },
    "kernelspec": {
      "name": "python3",
      "display_name": "Python 3"
    },
    "language_info": {
      "name": "python"
    }
  },
  "cells": [
    {
      "cell_type": "markdown",
      "metadata": {
        "id": "72KFrlKbUdeB"
      },
      "source": [
        "## **LAB1:** QuantConnect Tutorials\n",
        ">#### **Nombre:** Santiago Sánchez Mora\n",
        ">#### **Asignatura:** Algoritmos\n",
        ">#### **Grupo:** 1\n",
        ">#### **Fecha:** 17 de Octubre de 2021\n",
        "\n",
        "\n",
        "\n",
        "\n",
        "\n",
        "\n",
        "\n",
        "\n",
        "\n"
      ]
    },
    {
      "cell_type": "markdown",
      "metadata": {
        "id": "Lq4Ik51YYaAr"
      },
      "source": [
        "## 1. **Data Types and Data Structures**"
      ]
    },
    {
      "cell_type": "markdown",
      "metadata": {
        "id": "0Bx-XsMp49_i"
      },
      "source": [
        "### **1.1.** Basic Variable Types"
      ]
    },
    {
      "cell_type": "code",
      "metadata": {
        "colab": {
          "base_uri": "https://localhost:8080/"
        },
        "id": "aq-RgOHFazkB",
        "outputId": "2981ff59-7975-40d3-a2b5-cd66abb790d4"
      },
      "source": [
        "# QC Code\n",
        "my_string1 = 'Welcome to'\n",
        "my_string2 = 'QuantConnect'\n",
        "print(my_string1 + ' ' + my_string2)"
      ],
      "execution_count": 161,
      "outputs": [
        {
          "output_type": "stream",
          "name": "stdout",
          "text": [
            "Welcome to QuantConnect\n"
          ]
        }
      ]
    },
    {
      "cell_type": "code",
      "metadata": {
        "colab": {
          "base_uri": "https://localhost:8080/"
        },
        "id": "dMbukSXfcpiO",
        "outputId": "757f97f4-973d-45b2-ddcc-addd68b16763"
      },
      "source": [
        "# Changed code\n",
        "my_string1 = 'Esto es'\n",
        "my_string2 = 'UNcode falso'\n",
        "print(my_string1 + ' ' + my_string2)"
      ],
      "execution_count": 162,
      "outputs": [
        {
          "output_type": "stream",
          "name": "stdout",
          "text": [
            "Esto es UNcode falso\n"
          ]
        }
      ]
    },
    {
      "cell_type": "markdown",
      "metadata": {
        "id": "VFaEU2-cqn3I"
      },
      "source": [
        "---"
      ]
    },
    {
      "cell_type": "code",
      "metadata": {
        "colab": {
          "base_uri": "https://localhost:8080/"
        },
        "id": "GhDQsNAjqpTF",
        "outputId": "506bf263-58da-41e0-930b-0dbfaa59b453"
      },
      "source": [
        "# QC Code\n",
        "my_int = 10\n",
        "print(my_int)\n",
        "print(type(my_int))"
      ],
      "execution_count": 163,
      "outputs": [
        {
          "output_type": "stream",
          "name": "stdout",
          "text": [
            "10\n",
            "<class 'int'>\n"
          ]
        }
      ]
    },
    {
      "cell_type": "code",
      "metadata": {
        "colab": {
          "base_uri": "https://localhost:8080/"
        },
        "id": "KTMkTx_mr4Tr",
        "outputId": "1fa82f0a-d198-4560-e644-9c87892d6424"
      },
      "source": [
        "# Changed code\n",
        "my_int = 4725132\n",
        "print(my_int)\n",
        "print(type(my_int))"
      ],
      "execution_count": 164,
      "outputs": [
        {
          "output_type": "stream",
          "name": "stdout",
          "text": [
            "4725132\n",
            "<class 'int'>\n"
          ]
        }
      ]
    },
    {
      "cell_type": "markdown",
      "metadata": {
        "id": "xpdgSFjIr_0r"
      },
      "source": [
        "---"
      ]
    },
    {
      "cell_type": "code",
      "metadata": {
        "colab": {
          "base_uri": "https://localhost:8080/"
        },
        "id": "U0NmWCWXsAj2",
        "outputId": "7fb96f74-4512-4f7e-9126-63f8bb68ccff"
      },
      "source": [
        "# QC Code\n",
        "my_string = \"100\"\n",
        "print(type(my_string))\n",
        "my_int = int(my_string)\n",
        "print(type(my_int))"
      ],
      "execution_count": 165,
      "outputs": [
        {
          "output_type": "stream",
          "name": "stdout",
          "text": [
            "<class 'str'>\n",
            "<class 'int'>\n"
          ]
        }
      ]
    },
    {
      "cell_type": "code",
      "metadata": {
        "colab": {
          "base_uri": "https://localhost:8080/"
        },
        "id": "vh-ajK6SsQNM",
        "outputId": "7ce570cc-74a1-4ccd-df5a-0bfb7b64cc8b"
      },
      "source": [
        "# Changed code\n",
        "my_string = \"4725132\"\n",
        "print(type(my_string))\n",
        "my_int = int(my_string)\n",
        "print(type(my_int))"
      ],
      "execution_count": 166,
      "outputs": [
        {
          "output_type": "stream",
          "name": "stdout",
          "text": [
            "<class 'str'>\n",
            "<class 'int'>\n"
          ]
        }
      ]
    },
    {
      "cell_type": "markdown",
      "metadata": {
        "id": "el8i6WABsVRx"
      },
      "source": [
        "---\n"
      ]
    },
    {
      "cell_type": "code",
      "metadata": {
        "colab": {
          "base_uri": "https://localhost:8080/"
        },
        "id": "Lur4VIsssWV9",
        "outputId": "052f6647-1855-463a-ba8f-e33a44eac9c8"
      },
      "source": [
        "# QC Code\n",
        "my_float = 1.0\n",
        "print(type(my_float))\n",
        "my_int = 1\n",
        "print(type(my_int))"
      ],
      "execution_count": 167,
      "outputs": [
        {
          "output_type": "stream",
          "name": "stdout",
          "text": [
            "<class 'float'>\n",
            "<class 'int'>\n"
          ]
        }
      ]
    },
    {
      "cell_type": "code",
      "metadata": {
        "colab": {
          "base_uri": "https://localhost:8080/"
        },
        "id": "J_ahPvWhsm2z",
        "outputId": "d050a82f-8393-40f9-af1b-01675ceed5c1"
      },
      "source": [
        "# Changed code\n",
        "my_float = 4725132.0\n",
        "print(type(my_float))\n",
        "my_int = 4725132\n",
        "print(type(my_int))"
      ],
      "execution_count": 168,
      "outputs": [
        {
          "output_type": "stream",
          "name": "stdout",
          "text": [
            "<class 'float'>\n",
            "<class 'int'>\n"
          ]
        }
      ]
    },
    {
      "cell_type": "markdown",
      "metadata": {
        "id": "s-oKZ8IBs-xG"
      },
      "source": [
        "---"
      ]
    },
    {
      "cell_type": "code",
      "metadata": {
        "colab": {
          "base_uri": "https://localhost:8080/"
        },
        "id": "vOiYVBKctAEd",
        "outputId": "33ae08b3-a154-459e-e019-bdd7ba067ffb"
      },
      "source": [
        "# QC Code\n",
        "my_string = \"100\"\n",
        "my_float = float(my_string)\n",
        "print(type(my_float))"
      ],
      "execution_count": 169,
      "outputs": [
        {
          "output_type": "stream",
          "name": "stdout",
          "text": [
            "<class 'float'>\n"
          ]
        }
      ]
    },
    {
      "cell_type": "code",
      "metadata": {
        "colab": {
          "base_uri": "https://localhost:8080/"
        },
        "id": "VpV3o6EvtTFX",
        "outputId": "04bbcd5b-8183-4b12-8c02-63899e7cb560"
      },
      "source": [
        "# Changed code\n",
        "my_string = \"4725132\"\n",
        "my_float = float(my_string)\n",
        "print(type(my_float))"
      ],
      "execution_count": 170,
      "outputs": [
        {
          "output_type": "stream",
          "name": "stdout",
          "text": [
            "<class 'float'>\n"
          ]
        }
      ]
    },
    {
      "cell_type": "markdown",
      "metadata": {
        "id": "H0xpTqbPtbF9"
      },
      "source": [
        "---"
      ]
    },
    {
      "cell_type": "code",
      "metadata": {
        "colab": {
          "base_uri": "https://localhost:8080/"
        },
        "id": "lXyVS602tc5j",
        "outputId": "77d50f2e-cd58-4fa0-e8a8-547079e6e2fd"
      },
      "source": [
        "# QC Code\n",
        "my_bool = False\n",
        "print(my_bool)\n",
        "print(type(my_bool))"
      ],
      "execution_count": 171,
      "outputs": [
        {
          "output_type": "stream",
          "name": "stdout",
          "text": [
            "False\n",
            "<class 'bool'>\n"
          ]
        }
      ]
    },
    {
      "cell_type": "code",
      "metadata": {
        "colab": {
          "base_uri": "https://localhost:8080/"
        },
        "id": "rHAgV4gctoW3",
        "outputId": "ecd8f358-9e3b-4935-876e-cca5bab01453"
      },
      "source": [
        "# Changed code\n",
        "my_bool = True\n",
        "print(my_bool)\n",
        "print(type(my_bool))"
      ],
      "execution_count": 172,
      "outputs": [
        {
          "output_type": "stream",
          "name": "stdout",
          "text": [
            "True\n",
            "<class 'bool'>\n"
          ]
        }
      ]
    },
    {
      "cell_type": "markdown",
      "metadata": {
        "id": "P6_WsHAkc5ut"
      },
      "source": [
        "### **1.2.** Basic Math Operations"
      ]
    },
    {
      "cell_type": "code",
      "metadata": {
        "colab": {
          "base_uri": "https://localhost:8080/"
        },
        "id": "mnLRIKN_uEjB",
        "outputId": "b92ac39f-6ab6-4243-f8c6-533989b05e3d"
      },
      "source": [
        "# QC Code\n",
        "print(\"Addition \", 1+1)\n",
        "print(\"Subtraction \", 5-2)\n",
        "print(\"Multiplication \", 2*3)\n",
        "print(\"Division\", 10/2)\n",
        "print(\"exponent\", 2**3)"
      ],
      "execution_count": 173,
      "outputs": [
        {
          "output_type": "stream",
          "name": "stdout",
          "text": [
            "Addition  2\n",
            "Subtraction  3\n",
            "Multiplication  6\n",
            "Division 5.0\n",
            "exponent 8\n"
          ]
        }
      ]
    },
    {
      "cell_type": "code",
      "metadata": {
        "colab": {
          "base_uri": "https://localhost:8080/"
        },
        "id": "m3LPu339ubRa",
        "outputId": "bbfc11b1-aa79-4df9-aca8-b98850aedc83"
      },
      "source": [
        "# Changed code\n",
        "print(\"Suma \", 2+2)\n",
        "print(\"Resta \", 9-8)\n",
        "print(\"Multiplicación \", 6*6)\n",
        "print(\"División\", 36/6)\n",
        "print(\"Potencia\", 5**2)"
      ],
      "execution_count": 174,
      "outputs": [
        {
          "output_type": "stream",
          "name": "stdout",
          "text": [
            "Suma  4\n",
            "Resta  1\n",
            "Multiplicación  36\n",
            "División 6.0\n",
            "Potencia 25\n"
          ]
        }
      ]
    },
    {
      "cell_type": "markdown",
      "metadata": {
        "id": "7cJ6A19DeP33"
      },
      "source": [
        "### **1.3.** Data Collections"
      ]
    },
    {
      "cell_type": "code",
      "metadata": {
        "colab": {
          "base_uri": "https://localhost:8080/"
        },
        "id": "3nc46MS-uycj",
        "outputId": "e1d8c504-a865-4a5e-b68f-cabed264c0d7"
      },
      "source": [
        "# QC Code\n",
        "my_list = ['Quant', 'Connect', 1,2,3]\n",
        "print(my_list)"
      ],
      "execution_count": 175,
      "outputs": [
        {
          "output_type": "stream",
          "name": "stdout",
          "text": [
            "['Quant', 'Connect', 1, 2, 3]\n"
          ]
        }
      ]
    },
    {
      "cell_type": "code",
      "metadata": {
        "colab": {
          "base_uri": "https://localhost:8080/"
        },
        "id": "8QRghuIEu4F6",
        "outputId": "48c05f2a-5ac5-43db-a01d-4776d4163486"
      },
      "source": [
        "# Changed code\n",
        "my_list = ['Número', 1, 'Piña', 48]\n",
        "print(my_list)"
      ],
      "execution_count": 176,
      "outputs": [
        {
          "output_type": "stream",
          "name": "stdout",
          "text": [
            "['Número', 1, 'Piña', 48]\n"
          ]
        }
      ]
    },
    {
      "cell_type": "markdown",
      "metadata": {
        "id": "LpBiAnTcvcMM"
      },
      "source": [
        "---"
      ]
    },
    {
      "cell_type": "code",
      "metadata": {
        "colab": {
          "base_uri": "https://localhost:8080/"
        },
        "id": "rGUKc8NGvdFo",
        "outputId": "d6f7d233-d5d3-4a7f-adae-bb4491eb000d"
      },
      "source": [
        "# QC Code\n",
        "my_list = ['Quant', 'Connect', 1,2,3]\n",
        "print(len(my_list))\n",
        "print(my_list[0])\n",
        "print(my_list[len(my_list) - 1])"
      ],
      "execution_count": 177,
      "outputs": [
        {
          "output_type": "stream",
          "name": "stdout",
          "text": [
            "5\n",
            "Quant\n",
            "3\n"
          ]
        }
      ]
    },
    {
      "cell_type": "code",
      "metadata": {
        "colab": {
          "base_uri": "https://localhost:8080/"
        },
        "id": "5-Kyr13mvmhf",
        "outputId": "f3778920-d076-48d2-c3dc-96a00eaaec2a"
      },
      "source": [
        "# Changed code\n",
        "my_list = ['Número', 1, 'Piña', 48]\n",
        "print(len(my_list))\n",
        "print(my_list[0])\n",
        "print(my_list[len(my_list) - 1])"
      ],
      "execution_count": 178,
      "outputs": [
        {
          "output_type": "stream",
          "name": "stdout",
          "text": [
            "4\n",
            "Número\n",
            "48\n"
          ]
        }
      ]
    },
    {
      "cell_type": "markdown",
      "metadata": {
        "id": "8tsAvCmAvw9X"
      },
      "source": [
        "---"
      ]
    },
    {
      "cell_type": "code",
      "metadata": {
        "colab": {
          "base_uri": "https://localhost:8080/"
        },
        "id": "vkry63Y9vx2B",
        "outputId": "62c9fc2e-da50-4c25-e3d1-7bf9d4b5ad7c"
      },
      "source": [
        "# QC Code\n",
        "my_list = ['Quant','Connect',1,2,3]\n",
        "my_list[2] = 'go'\n",
        "print(my_list)"
      ],
      "execution_count": 179,
      "outputs": [
        {
          "output_type": "stream",
          "name": "stdout",
          "text": [
            "['Quant', 'Connect', 'go', 2, 3]\n"
          ]
        }
      ]
    },
    {
      "cell_type": "code",
      "metadata": {
        "colab": {
          "base_uri": "https://localhost:8080/"
        },
        "id": "l4PlQV7ev5Xt",
        "outputId": "3c7c3bc6-69d9-4c9f-b791-1d713507c680"
      },
      "source": [
        "# Changed code\n",
        "my_list = ['Número', 1, 'Piña', 48]\n",
        "my_list[0] = 'go'\n",
        "print(my_list)"
      ],
      "execution_count": 180,
      "outputs": [
        {
          "output_type": "stream",
          "name": "stdout",
          "text": [
            "['go', 1, 'Piña', 48]\n"
          ]
        }
      ]
    },
    {
      "cell_type": "markdown",
      "metadata": {
        "id": "HBjax84pwDyM"
      },
      "source": [
        "---"
      ]
    },
    {
      "cell_type": "code",
      "metadata": {
        "colab": {
          "base_uri": "https://localhost:8080/"
        },
        "id": "UjmDtu-mwEvo",
        "outputId": "fbe76769-e927-40f8-ae16-4c583737df17"
      },
      "source": [
        "# QC Code\n",
        "my_list = ['Quant','Connect',1,2,3]\n",
        "print(my_list[1:3])"
      ],
      "execution_count": 181,
      "outputs": [
        {
          "output_type": "stream",
          "name": "stdout",
          "text": [
            "['Connect', 1]\n"
          ]
        }
      ]
    },
    {
      "cell_type": "code",
      "metadata": {
        "colab": {
          "base_uri": "https://localhost:8080/"
        },
        "id": "z0tp1YCdwLhW",
        "outputId": "cdffec32-a9c4-46e0-94b0-599b8ce54924"
      },
      "source": [
        "# Changed code\n",
        "my_list = ['Número', 1, 'Piña', 48]\n",
        "print(my_list[1:3])"
      ],
      "execution_count": 182,
      "outputs": [
        {
          "output_type": "stream",
          "name": "stdout",
          "text": [
            "[1, 'Piña']\n"
          ]
        }
      ]
    },
    {
      "cell_type": "markdown",
      "metadata": {
        "id": "l78QRrg-wYGD"
      },
      "source": [
        "---"
      ]
    },
    {
      "cell_type": "code",
      "metadata": {
        "colab": {
          "base_uri": "https://localhost:8080/"
        },
        "id": "2ozAapHAwYrs",
        "outputId": "0fd28d8d-346e-4fbc-d0af-9720c8011c65"
      },
      "source": [
        "# QC Code\n",
        "my_list = ['Quant','Connect',1,2,3]\n",
        "print(my_list[1:])"
      ],
      "execution_count": 183,
      "outputs": [
        {
          "output_type": "stream",
          "name": "stdout",
          "text": [
            "['Connect', 1, 2, 3]\n"
          ]
        }
      ]
    },
    {
      "cell_type": "code",
      "metadata": {
        "colab": {
          "base_uri": "https://localhost:8080/"
        },
        "id": "An4Me-Giwk3c",
        "outputId": "8cd851f0-96fc-4e88-928b-a50dc30facbe"
      },
      "source": [
        "# Changed code\n",
        "my_list = ['Número', 1, 'Piña', 48]\n",
        "print(my_list[1:])"
      ],
      "execution_count": 184,
      "outputs": [
        {
          "output_type": "stream",
          "name": "stdout",
          "text": [
            "[1, 'Piña', 48]\n"
          ]
        }
      ]
    },
    {
      "cell_type": "markdown",
      "metadata": {
        "id": "rSOOJ9UbwysE"
      },
      "source": [
        "---"
      ]
    },
    {
      "cell_type": "code",
      "metadata": {
        "colab": {
          "base_uri": "https://localhost:8080/"
        },
        "id": "Spb296xMwzYU",
        "outputId": "18f9c2cd-ef8d-4845-d753-51d52a9527c7"
      },
      "source": [
        "# QC Code\n",
        "my_list = ['Quant','Connect',1,2,3]\n",
        "print(my_list[:3])"
      ],
      "execution_count": 185,
      "outputs": [
        {
          "output_type": "stream",
          "name": "stdout",
          "text": [
            "['Quant', 'Connect', 1]\n"
          ]
        }
      ]
    },
    {
      "cell_type": "code",
      "metadata": {
        "colab": {
          "base_uri": "https://localhost:8080/"
        },
        "id": "oqrldSrsw5qf",
        "outputId": "6187f6d6-893f-4d4c-af55-0d2c525186c2"
      },
      "source": [
        "# Changed code\n",
        "my_list = ['Número', 1, 'Piña', 48]\n",
        "print(my_list[:3])"
      ],
      "execution_count": 186,
      "outputs": [
        {
          "output_type": "stream",
          "name": "stdout",
          "text": [
            "['Número', 1, 'Piña']\n"
          ]
        }
      ]
    },
    {
      "cell_type": "markdown",
      "metadata": {
        "id": "r0Fv9updxJR2"
      },
      "source": [
        "---"
      ]
    },
    {
      "cell_type": "code",
      "metadata": {
        "colab": {
          "base_uri": "https://localhost:8080/"
        },
        "id": "tmZCStbcxKjC",
        "outputId": "d64cec08-7959-4f6a-c4d1-2a05f84561c2"
      },
      "source": [
        "# QC Code\n",
        "my_list = ['Hello', 'Quant']\n",
        "my_list.append('Hello')\n",
        "print(my_list)\n",
        "my_list.remove('Hello')\n",
        "print(my_list)"
      ],
      "execution_count": 187,
      "outputs": [
        {
          "output_type": "stream",
          "name": "stdout",
          "text": [
            "['Hello', 'Quant', 'Hello']\n",
            "['Quant', 'Hello']\n"
          ]
        }
      ]
    },
    {
      "cell_type": "code",
      "metadata": {
        "colab": {
          "base_uri": "https://localhost:8080/"
        },
        "id": "wTAg4u4axUvF",
        "outputId": "a9222656-bad3-4fa4-dacb-2c6ca393b934"
      },
      "source": [
        "# Changed code\n",
        "my_list = ['Número', 1, 'Piña', 48]\n",
        "my_list.append('Piña')\n",
        "print(my_list)\n",
        "my_list.remove('Piña')\n",
        "print(my_list)"
      ],
      "execution_count": 188,
      "outputs": [
        {
          "output_type": "stream",
          "name": "stdout",
          "text": [
            "['Número', 1, 'Piña', 48, 'Piña']\n",
            "['Número', 1, 48, 'Piña']\n"
          ]
        }
      ]
    },
    {
      "cell_type": "markdown",
      "metadata": {
        "id": "_-Np1xjNxn-T"
      },
      "source": [
        "---"
      ]
    },
    {
      "cell_type": "code",
      "metadata": {
        "id": "lKvtQVrHxovd",
        "colab": {
          "base_uri": "https://localhost:8080/"
        },
        "outputId": "c97d9808-2560-4db6-c062-e8082a237976"
      },
      "source": [
        "# QC Code\n",
        "my_tuple = ('Welcome','to','QuantConnect')\n",
        "print(my_tuple[1:]) "
      ],
      "execution_count": 189,
      "outputs": [
        {
          "output_type": "stream",
          "name": "stdout",
          "text": [
            "('to', 'QuantConnect')\n"
          ]
        }
      ]
    },
    {
      "cell_type": "code",
      "metadata": {
        "colab": {
          "base_uri": "https://localhost:8080/"
        },
        "id": "rkc39VeazWZJ",
        "outputId": "a2a2cffb-7beb-4087-f6fa-6ad8046412b3"
      },
      "source": [
        "# Changed code\n",
        "my_tuple = ('Hola','Piñata','Perro')\n",
        "print(my_tuple[1:]) "
      ],
      "execution_count": 190,
      "outputs": [
        {
          "output_type": "stream",
          "name": "stdout",
          "text": [
            "('Piñata', 'Perro')\n"
          ]
        }
      ]
    },
    {
      "cell_type": "markdown",
      "metadata": {
        "id": "8NB_jsUE0NUI"
      },
      "source": [
        "---"
      ]
    },
    {
      "cell_type": "code",
      "metadata": {
        "colab": {
          "base_uri": "https://localhost:8080/"
        },
        "id": "-U9yW7S20OPT",
        "outputId": "daa392eb-c4e0-464a-ec95-46d0ea1a6dee"
      },
      "source": [
        "# QC Code\n",
        "stock_list = ['AAPL','GOOG','IBM','AAPL','IBM','FB','F','GOOG']\n",
        "stock_set = set(stock_list)\n",
        "print(stock_set)"
      ],
      "execution_count": 191,
      "outputs": [
        {
          "output_type": "stream",
          "name": "stdout",
          "text": [
            "{'GOOG', 'AAPL', 'F', 'FB', 'IBM'}\n"
          ]
        }
      ]
    },
    {
      "cell_type": "code",
      "metadata": {
        "colab": {
          "base_uri": "https://localhost:8080/"
        },
        "id": "hLdKVyVP0bP_",
        "outputId": "b1357911-4509-4234-96b8-4175c68c883d"
      },
      "source": [
        "# Changed code\n",
        "stock_list = ['Antonio','Benito','Carlos','Daniela','Elena','Fernando','Gabriela','Hernán', 'Antonio', 'Fernando']\n",
        "stock_set = set(stock_list)\n",
        "print(stock_set)"
      ],
      "execution_count": 192,
      "outputs": [
        {
          "output_type": "stream",
          "name": "stdout",
          "text": [
            "{'Benito', 'Fernando', 'Hernán', 'Antonio', 'Carlos', 'Daniela', 'Gabriela', 'Elena'}\n"
          ]
        }
      ]
    },
    {
      "cell_type": "markdown",
      "metadata": {
        "id": "uOyWWylB0wTi"
      },
      "source": [
        "---"
      ]
    },
    {
      "cell_type": "code",
      "metadata": {
        "colab": {
          "base_uri": "https://localhost:8080/"
        },
        "id": "LVVFgTm60w66",
        "outputId": "95f96b50-8296-46cb-c847-43f5a824e739"
      },
      "source": [
        "# QC Code\n",
        "my_dic = {'AAPL': 'Apple', 'FB': 'FaceBook', 'GOOG': 'Alphabet'}\n",
        "print(my_dic['GOOG'])"
      ],
      "execution_count": 193,
      "outputs": [
        {
          "output_type": "stream",
          "name": "stdout",
          "text": [
            "Alphabet\n"
          ]
        }
      ]
    },
    {
      "cell_type": "code",
      "metadata": {
        "colab": {
          "base_uri": "https://localhost:8080/"
        },
        "id": "fLhVLNfh1Lkj",
        "outputId": "a8791c92-b9ce-44af-aab9-ae23fca8e7db"
      },
      "source": [
        "# Changed code\n",
        "my_dic = {'item1': 48, 'FBI': 'CSI', 'key': 'DOG'}\n",
        "print(my_dic['FBI'])"
      ],
      "execution_count": 194,
      "outputs": [
        {
          "output_type": "stream",
          "name": "stdout",
          "text": [
            "CSI\n"
          ]
        }
      ]
    },
    {
      "cell_type": "markdown",
      "metadata": {
        "id": "_iIbwuUI1gve"
      },
      "source": [
        "---"
      ]
    },
    {
      "cell_type": "code",
      "metadata": {
        "colab": {
          "base_uri": "https://localhost:8080/"
        },
        "id": "w1CM2oWc1hni",
        "outputId": "93ec022b-91f1-42f3-faa7-178f68d0cffe"
      },
      "source": [
        "# QC Code\n",
        "my_dic = {'AAPL': 'Apple', 'FB': 'FaceBook', 'GOOG': 'Alphabet'}\n",
        "my_dic['GOOG'] = 'Alphabet Company'\n",
        "print(my_dic['GOOG'])"
      ],
      "execution_count": 195,
      "outputs": [
        {
          "output_type": "stream",
          "name": "stdout",
          "text": [
            "Alphabet Company\n"
          ]
        }
      ]
    },
    {
      "cell_type": "code",
      "metadata": {
        "colab": {
          "base_uri": "https://localhost:8080/"
        },
        "id": "NGaa0KvH1pjO",
        "outputId": "c1294732-1105-4e6a-8234-7cc6e6455b6c"
      },
      "source": [
        "# Changed code\n",
        "my_dic = {'item1': 48, 'FBI': 'CSI', 'key': 'DOG'}\n",
        "my_dic['FBI'] = 'Criminal Minds'\n",
        "print(my_dic['FBI'])"
      ],
      "execution_count": 196,
      "outputs": [
        {
          "output_type": "stream",
          "name": "stdout",
          "text": [
            "Criminal Minds\n"
          ]
        }
      ]
    },
    {
      "cell_type": "markdown",
      "metadata": {
        "id": "hmu-k-v217Iu"
      },
      "source": [
        "---"
      ]
    },
    {
      "cell_type": "code",
      "metadata": {
        "colab": {
          "base_uri": "https://localhost:8080/"
        },
        "id": "ffeP3sjS17zu",
        "outputId": "9407527c-8f61-4332-e548-9a19f6bc3384"
      },
      "source": [
        "# QC Code\n",
        "my_dic = {'AAPL': 'Apple', 'FB': 'FaceBook', 'GOOG': 'Alphabet'}\n",
        "print(my_dic.keys())"
      ],
      "execution_count": 197,
      "outputs": [
        {
          "output_type": "stream",
          "name": "stdout",
          "text": [
            "dict_keys(['AAPL', 'FB', 'GOOG'])\n"
          ]
        }
      ]
    },
    {
      "cell_type": "code",
      "metadata": {
        "colab": {
          "base_uri": "https://localhost:8080/"
        },
        "id": "Wu7HM1ES2DOD",
        "outputId": "deb402b4-785e-44e6-92f1-54f5e929f6df"
      },
      "source": [
        "# Changed code\n",
        "my_dic = {'item1': 48, 'FBI': 'CSI', 'key': 'DOG'}\n",
        "print(my_dic.keys())"
      ],
      "execution_count": 198,
      "outputs": [
        {
          "output_type": "stream",
          "name": "stdout",
          "text": [
            "dict_keys(['item1', 'FBI', 'key'])\n"
          ]
        }
      ]
    },
    {
      "cell_type": "markdown",
      "metadata": {
        "id": "Vc3HNwEQeXcs"
      },
      "source": [
        "### **1.4.** Common String Operations"
      ]
    },
    {
      "cell_type": "code",
      "metadata": {
        "colab": {
          "base_uri": "https://localhost:8080/"
        },
        "id": "DaZ37D2D2SZ0",
        "outputId": "a81e31e0-e036-435f-b8fa-5efe527bcc2b"
      },
      "source": [
        "# QC Code\n",
        "my_str = 'Welcome to QuantConnect'\n",
        "print(my_str[8:])"
      ],
      "execution_count": 199,
      "outputs": [
        {
          "output_type": "stream",
          "name": "stdout",
          "text": [
            "to QuantConnect\n"
          ]
        }
      ]
    },
    {
      "cell_type": "code",
      "metadata": {
        "colab": {
          "base_uri": "https://localhost:8080/"
        },
        "id": "7B-NUjtr2Xjs",
        "outputId": "d4a1108f-bc5c-43c0-bedd-cc850d4a07c7"
      },
      "source": [
        "# Changed code\n",
        "my_str = 'Slicing desde el caracter en la posición 7'\n",
        "print(my_str[7:])"
      ],
      "execution_count": 200,
      "outputs": [
        {
          "output_type": "stream",
          "name": "stdout",
          "text": [
            " desde el caracter en la posición 7\n"
          ]
        }
      ]
    },
    {
      "cell_type": "markdown",
      "metadata": {
        "id": "eIuyJERw2mW6"
      },
      "source": [
        "---"
      ]
    },
    {
      "cell_type": "code",
      "metadata": {
        "colab": {
          "base_uri": "https://localhost:8080/"
        },
        "id": "CA7Vf0jQ2nEJ",
        "outputId": "a1d54b55-b21c-47fa-8919-6cd37edd49bb"
      },
      "source": [
        "# QC Code\n",
        "print(\"Counting the number of e's in this sentence\".count('e'))\n",
        "print('The first time e appears in this sentence'.find('e'))\n",
        "print('all the a in this sentence now becomes e'.replace('a','e'))"
      ],
      "execution_count": 201,
      "outputs": [
        {
          "output_type": "stream",
          "name": "stdout",
          "text": [
            "6\n",
            "2\n",
            "ell the e in this sentence now becomes e\n"
          ]
        }
      ]
    },
    {
      "cell_type": "code",
      "metadata": {
        "colab": {
          "base_uri": "https://localhost:8080/"
        },
        "id": "z_XIXfhr2vlI",
        "outputId": "0c3bed2e-9993-4df3-b6e6-43f484c4db04"
      },
      "source": [
        "# Changed code\n",
        "print(\"Este semestre es excelente\".count('e'))\n",
        "print('El número que resultará de aplicar este método es el 6'.find('e'))\n",
        "print('Este semestre es excelente'.replace('e','3')) "
      ],
      "execution_count": 202,
      "outputs": [
        {
          "output_type": "stream",
          "name": "stdout",
          "text": [
            "9\n",
            "6\n",
            "Est3 s3m3str3 3s 3xc3l3nt3\n"
          ]
        }
      ]
    },
    {
      "cell_type": "markdown",
      "metadata": {
        "id": "XiyX7tFt4AmI"
      },
      "source": [
        "---"
      ]
    },
    {
      "cell_type": "code",
      "metadata": {
        "colab": {
          "base_uri": "https://localhost:8080/"
        },
        "id": "5J8B6uHs4BQV",
        "outputId": "273d7f51-f7b9-4149-8881-bc9111943cfd"
      },
      "source": [
        "# QC Code\n",
        "Time = '2016-04-01 09:43:00'\n",
        "splited_list = Time.split(' ')\n",
        "date = splited_list[0]\n",
        "time = splited_list[1]\n",
        "print(date, time)\n",
        "hour = time.split(':')[0]\n",
        "print(hour)"
      ],
      "execution_count": 203,
      "outputs": [
        {
          "output_type": "stream",
          "name": "stdout",
          "text": [
            "2016-04-01 09:43:00\n",
            "09\n"
          ]
        }
      ]
    },
    {
      "cell_type": "code",
      "metadata": {
        "colab": {
          "base_uri": "https://localhost:8080/"
        },
        "id": "7qLHcmrO4XqK",
        "outputId": "2f8fb4ae-9e5c-4e6c-c527-5a86c70a5765"
      },
      "source": [
        "# Changed code\n",
        "Time = '2077-07-07 12:13:14'\n",
        "splited_list = Time.split(' ')\n",
        "date = splited_list[0]\n",
        "time = splited_list[1]\n",
        "print(date, time)\n",
        "hour = time.split(':')[1]\n",
        "print(hour)"
      ],
      "execution_count": 204,
      "outputs": [
        {
          "output_type": "stream",
          "name": "stdout",
          "text": [
            "2077-07-07 12:13:14\n",
            "13\n"
          ]
        }
      ]
    },
    {
      "cell_type": "markdown",
      "metadata": {
        "id": "wiZ65ZHA4lB7"
      },
      "source": [
        "---"
      ]
    },
    {
      "cell_type": "code",
      "metadata": {
        "colab": {
          "base_uri": "https://localhost:8080/"
        },
        "id": "S52b8pFD4lu7",
        "outputId": "4c9bc964-bff5-4925-a67a-72961eec2cdc"
      },
      "source": [
        "# QC Code\n",
        "my_time = 'Hour: {}, Minute: {}'.format(9, 43)\n",
        "print(my_time)"
      ],
      "execution_count": 205,
      "outputs": [
        {
          "output_type": "stream",
          "name": "stdout",
          "text": [
            "Hour: 9, Minute: 43\n"
          ]
        }
      ]
    },
    {
      "cell_type": "code",
      "metadata": {
        "colab": {
          "base_uri": "https://localhost:8080/"
        },
        "id": "f_WiBS2K5Y2d",
        "outputId": "42e59098-0d90-4fca-cbb9-b99431389b37"
      },
      "source": [
        "# Changed code\n",
        "my_time = 'Name: {}, Age: {}, Work: {}'.format('Albertito', 18, 'Baker')\n",
        "print(my_time)"
      ],
      "execution_count": 206,
      "outputs": [
        {
          "output_type": "stream",
          "name": "stdout",
          "text": [
            "Name: Albertito, Age: 18, Work: Baker\n"
          ]
        }
      ]
    },
    {
      "cell_type": "markdown",
      "metadata": {
        "id": "EiKFjpNW5woJ"
      },
      "source": [
        "---"
      ]
    },
    {
      "cell_type": "code",
      "metadata": {
        "colab": {
          "base_uri": "https://localhost:8080/"
        },
        "id": "JY_l8N5g5xWy",
        "outputId": "d52fbb52-8fda-43cc-99f6-ddbd107b3d83"
      },
      "source": [
        "# QC Code\n",
        "print('pi is %f' % 3.14)\n",
        "print('%s to %s' % ('Welcome', 'QuantConnect'))"
      ],
      "execution_count": 207,
      "outputs": [
        {
          "output_type": "stream",
          "name": "stdout",
          "text": [
            "pi is 3.140000\n",
            "Welcome to QuantConnect\n"
          ]
        }
      ]
    },
    {
      "cell_type": "code",
      "metadata": {
        "colab": {
          "base_uri": "https://localhost:8080/"
        },
        "id": "r0Y_hBDo6FYe",
        "outputId": "dea21377-8111-433a-8352-1e5338cd91b4"
      },
      "source": [
        "# Changed code\n",
        "print('euler is not %f' % 4)\n",
        "print('%s to %s' % ('Welcome', 'the Jungle'))"
      ],
      "execution_count": 208,
      "outputs": [
        {
          "output_type": "stream",
          "name": "stdout",
          "text": [
            "euler is not 4.000000\n",
            "Welcome to the Jungle\n"
          ]
        }
      ]
    },
    {
      "cell_type": "markdown",
      "metadata": {
        "id": "pAI-aIkKedxK"
      },
      "source": [
        "## 2. **Logical Operations and Loops**"
      ]
    },
    {
      "cell_type": "markdown",
      "metadata": {
        "id": "PPHDubvGoiz0"
      },
      "source": [
        "### **2.1.** Logical Operations"
      ]
    },
    {
      "cell_type": "code",
      "metadata": {
        "colab": {
          "base_uri": "https://localhost:8080/"
        },
        "id": "WgMS-wV_6leM",
        "outputId": "1e1d39eb-15f1-4160-ca36-80957d6f72fd"
      },
      "source": [
        "# QC Code\n",
        "print(1 == 0)    # 1 equals 0\n",
        "print(1 == 1)    # 1 equals 1\n",
        "print(1 != 0)    # 1 is not equal to 0\n",
        "print(5 >= 5)    # 5 is greater than or equal to 5\n",
        "print(5 >= 6)    # 5 is greater than or equal to 6"
      ],
      "execution_count": 209,
      "outputs": [
        {
          "output_type": "stream",
          "name": "stdout",
          "text": [
            "False\n",
            "True\n",
            "True\n",
            "True\n",
            "False\n"
          ]
        }
      ]
    },
    {
      "cell_type": "code",
      "metadata": {
        "colab": {
          "base_uri": "https://localhost:8080/"
        },
        "id": "3OW612tY7DCU",
        "outputId": "7ba628bf-d40f-458f-e6e1-2c7bda761418"
      },
      "source": [
        "# Changed code\n",
        "print(9 == 9)    # 1 equals 0\n",
        "print(1 != 1)    # 1 equals 1\n",
        "print(1 != 1)    # 1 is not equal to 0\n",
        "print(48 >= 5)   # 5 is greater than or equal to 5\n",
        "print(13 >= 34)  # 5 is greater than or equal to 6"
      ],
      "execution_count": 210,
      "outputs": [
        {
          "output_type": "stream",
          "name": "stdout",
          "text": [
            "True\n",
            "False\n",
            "False\n",
            "True\n",
            "False\n"
          ]
        }
      ]
    },
    {
      "cell_type": "markdown",
      "metadata": {
        "id": "Hypg6lx27QHG"
      },
      "source": [
        "---"
      ]
    },
    {
      "cell_type": "code",
      "metadata": {
        "colab": {
          "base_uri": "https://localhost:8080/"
        },
        "id": "oC78BtKt7Q0m",
        "outputId": "dfa1e4fb-8472-41b6-b373-f9658e10ba2f"
      },
      "source": [
        "# QC Code\n",
        "print(2 > 1 and 3 > 2)\n",
        "print(2 > 1 and 3 < 2)\n",
        "print(2 > 1 or  3 < 2)\n",
        "print(2 < 1 and 3 < 2)"
      ],
      "execution_count": 211,
      "outputs": [
        {
          "output_type": "stream",
          "name": "stdout",
          "text": [
            "True\n",
            "False\n",
            "True\n",
            "False\n"
          ]
        }
      ]
    },
    {
      "cell_type": "code",
      "metadata": {
        "colab": {
          "base_uri": "https://localhost:8080/"
        },
        "id": "wF81HKBW7boP",
        "outputId": "544acd49-ead9-42c4-885d-ce5fa61cb707"
      },
      "source": [
        "# Changed code\n",
        "print(3 > 4 and 3 > 2)\n",
        "print(72 > 14 and 93 < 7)\n",
        "print(22 > 11 or  38 < 52)\n",
        "print(3 < 1 and 4 < 5)"
      ],
      "execution_count": 212,
      "outputs": [
        {
          "output_type": "stream",
          "name": "stdout",
          "text": [
            "False\n",
            "False\n",
            "True\n",
            "False\n"
          ]
        }
      ]
    },
    {
      "cell_type": "markdown",
      "metadata": {
        "id": "34NuudWC7xpp"
      },
      "source": [
        "---"
      ]
    },
    {
      "cell_type": "code",
      "metadata": {
        "colab": {
          "base_uri": "https://localhost:8080/"
        },
        "id": "E4_A60Iw7yPv",
        "outputId": "200c2272-ff57-4916-a796-3878d58e530e"
      },
      "source": [
        "# QC Code\n",
        "print((3 > 2 or 1 < 3) and (1!=3 and 4>3) and not ( 3 < 2 or 1 < 3 and (1!=3 and 4>3)))\n",
        "print(3 > 2 or 1 < 3 and (1!=3 and 4>3) and not ( 3 < 2 or 1 < 3 and (1!=3 and 4>3)))"
      ],
      "execution_count": 213,
      "outputs": [
        {
          "output_type": "stream",
          "name": "stdout",
          "text": [
            "False\n",
            "True\n"
          ]
        }
      ]
    },
    {
      "cell_type": "code",
      "metadata": {
        "colab": {
          "base_uri": "https://localhost:8080/"
        },
        "id": "CqncL5T478vn",
        "outputId": "215ae491-f639-417c-9d26-31fd1c81149d"
      },
      "source": [
        "# Changed code\n",
        "print((1 == 1) and (2 > 0) and (4 != 9) and (0 == 0) or (7 < 2))\n",
        "print(1 == 1 and 2 > 0 and 4 != 9 and (0 != 0 or 7 < 2))"
      ],
      "execution_count": 214,
      "outputs": [
        {
          "output_type": "stream",
          "name": "stdout",
          "text": [
            "True\n",
            "False\n"
          ]
        }
      ]
    },
    {
      "cell_type": "markdown",
      "metadata": {
        "id": "GwZ4ecXaovow"
      },
      "source": [
        "### **2.2.** If Statement"
      ]
    },
    {
      "cell_type": "code",
      "metadata": {
        "colab": {
          "base_uri": "https://localhost:8080/"
        },
        "id": "rl-8cBZf9LvP",
        "outputId": "b9c040cd-6316-4561-80ac-b33461bad3dc"
      },
      "source": [
        "# QC Code\n",
        "i = 0\n",
        "if i == 0: print('i == 0 is True')"
      ],
      "execution_count": 215,
      "outputs": [
        {
          "output_type": "stream",
          "name": "stdout",
          "text": [
            "i == 0 is True\n"
          ]
        }
      ]
    },
    {
      "cell_type": "code",
      "metadata": {
        "colab": {
          "base_uri": "https://localhost:8080/"
        },
        "id": "x_rgChlu9SIZ",
        "outputId": "b34bf7a7-3faa-4ef2-c7b7-5eb7c2cf7392"
      },
      "source": [
        "# Changed code\n",
        "i = 4725132\n",
        "if i == 4725132: print('i == 4725135 is False')"
      ],
      "execution_count": 216,
      "outputs": [
        {
          "output_type": "stream",
          "name": "stdout",
          "text": [
            "i == 4725135 is False\n"
          ]
        }
      ]
    },
    {
      "cell_type": "markdown",
      "metadata": {
        "id": "VMph_AYb9eOX"
      },
      "source": [
        "---"
      ]
    },
    {
      "cell_type": "code",
      "metadata": {
        "colab": {
          "base_uri": "https://localhost:8080/"
        },
        "id": "6rRbJNsG9eya",
        "outputId": "58a990a7-8c6c-4f64-be9c-d55945bb8607"
      },
      "source": [
        "# QC Code\n",
        "p = 1 > 0\n",
        "q = 2 > 3\n",
        "if p and q:\n",
        "    print('p and q is true')\n",
        "elif p and not q:\n",
        "    print('q is false')\n",
        "elif q and not p:\n",
        "    print('p is false')\n",
        "else:\n",
        "    print('None of p and q is true')"
      ],
      "execution_count": 217,
      "outputs": [
        {
          "output_type": "stream",
          "name": "stdout",
          "text": [
            "q is false\n"
          ]
        }
      ]
    },
    {
      "cell_type": "code",
      "metadata": {
        "colab": {
          "base_uri": "https://localhost:8080/"
        },
        "id": "1a1_p6mo9rr0",
        "outputId": "f5834b50-0673-4849-f65e-4c06a4b885bd"
      },
      "source": [
        "# Changed code\n",
        "p = 0 == 0\n",
        "q = 4725132 < 4725133\n",
        "if p and q:\n",
        "    print('p and q is true')\n",
        "elif p and not q:\n",
        "    print('q is false')\n",
        "elif q and not p:\n",
        "    print('p is false')\n",
        "else:\n",
        "    print('None of p and q is true')"
      ],
      "execution_count": 218,
      "outputs": [
        {
          "output_type": "stream",
          "name": "stdout",
          "text": [
            "p and q is true\n"
          ]
        }
      ]
    },
    {
      "cell_type": "markdown",
      "metadata": {
        "id": "hSzJd-TupMfx"
      },
      "source": [
        "### **2.3.** Loop Structure"
      ]
    },
    {
      "cell_type": "code",
      "metadata": {
        "colab": {
          "base_uri": "https://localhost:8080/"
        },
        "id": "_i4uSjP4-AO0",
        "outputId": "8a0c3258-a0c6-4d0d-a1fd-47f9e758bea9"
      },
      "source": [
        "# QC Code\n",
        "i = 0\n",
        "while i < 5:\n",
        "    print(i)\n",
        "    i += 1"
      ],
      "execution_count": 219,
      "outputs": [
        {
          "output_type": "stream",
          "name": "stdout",
          "text": [
            "0\n",
            "1\n",
            "2\n",
            "3\n",
            "4\n"
          ]
        }
      ]
    },
    {
      "cell_type": "code",
      "metadata": {
        "colab": {
          "base_uri": "https://localhost:8080/"
        },
        "id": "NzTTEdoT-Eoi",
        "outputId": "5dc2cd3d-1bea-4f8c-f97d-35dec2e7c095"
      },
      "source": [
        "# Changed code\n",
        "i = 4725132\n",
        "while i <= 4725140:\n",
        "    print(i)\n",
        "    i += 1"
      ],
      "execution_count": 220,
      "outputs": [
        {
          "output_type": "stream",
          "name": "stdout",
          "text": [
            "4725132\n",
            "4725133\n",
            "4725134\n",
            "4725135\n",
            "4725136\n",
            "4725137\n",
            "4725138\n",
            "4725139\n",
            "4725140\n"
          ]
        }
      ]
    },
    {
      "cell_type": "markdown",
      "metadata": {
        "id": "copDn-SP-UZn"
      },
      "source": [
        "---"
      ]
    },
    {
      "cell_type": "code",
      "metadata": {
        "colab": {
          "base_uri": "https://localhost:8080/"
        },
        "id": "9weCnTnK-U-C",
        "outputId": "7e69c37a-fa66-4e8b-dafe-ce6a24e97a35"
      },
      "source": [
        "# QC Code\n",
        "for x in [1,2,3,4,5]: print(x)"
      ],
      "execution_count": 221,
      "outputs": [
        {
          "output_type": "stream",
          "name": "stdout",
          "text": [
            "1\n",
            "2\n",
            "3\n",
            "4\n",
            "5\n"
          ]
        }
      ]
    },
    {
      "cell_type": "code",
      "metadata": {
        "colab": {
          "base_uri": "https://localhost:8080/"
        },
        "id": "HWAOpSXJ-ZZb",
        "outputId": "fb3778eb-971e-4a01-9e05-1cc396d3f699"
      },
      "source": [
        "# Changed code\n",
        "for x in ['Uno', 'Dos', 'Tres', 'Cuatro']: print(x)"
      ],
      "execution_count": 222,
      "outputs": [
        {
          "output_type": "stream",
          "name": "stdout",
          "text": [
            "Uno\n",
            "Dos\n",
            "Tres\n",
            "Cuatro\n"
          ]
        }
      ]
    },
    {
      "cell_type": "markdown",
      "metadata": {
        "id": "2zurh6w--my8"
      },
      "source": [
        "---"
      ]
    },
    {
      "cell_type": "code",
      "metadata": {
        "colab": {
          "base_uri": "https://localhost:8080/"
        },
        "id": "DWaVUFxu-nxM",
        "outputId": "6145839b-4142-47f7-e861-8efe7019047f"
      },
      "source": [
        "# QC Code\n",
        "stocks = ['AAPL','GOOG','IBM','FB','F','V', 'G', 'GE']\n",
        "selected = ['AAPL','IBM']\n",
        "new_list = []\n",
        "for stock in stocks:\n",
        "    if stock not in selected:\n",
        "        new_list.append(stock)\n",
        "print(new_list)"
      ],
      "execution_count": 223,
      "outputs": [
        {
          "output_type": "stream",
          "name": "stdout",
          "text": [
            "['GOOG', 'FB', 'F', 'V', 'G', 'GE']\n"
          ]
        }
      ]
    },
    {
      "cell_type": "code",
      "metadata": {
        "colab": {
          "base_uri": "https://localhost:8080/"
        },
        "id": "Pt9iYAgT-uDT",
        "outputId": "15c821b6-5bed-4f97-9440-48210a65372e"
      },
      "source": [
        "# Changed code\n",
        "stocks = ['Manzana', 'Piña', 'Lechuga', 'Tomate']\n",
        "selected = ['Manzana','Lechuga']\n",
        "new_list = []\n",
        "for stock in stocks:\n",
        "    if stock not in selected:\n",
        "        new_list.append(stock)\n",
        "print(new_list)"
      ],
      "execution_count": 224,
      "outputs": [
        {
          "output_type": "stream",
          "name": "stdout",
          "text": [
            "['Piña', 'Tomate']\n"
          ]
        }
      ]
    },
    {
      "cell_type": "markdown",
      "metadata": {
        "id": "8V1XchsT_qv8"
      },
      "source": [
        "---"
      ]
    },
    {
      "cell_type": "code",
      "metadata": {
        "colab": {
          "base_uri": "https://localhost:8080/"
        },
        "id": "q9HcO8jR_rvW",
        "outputId": "c5978600-c3eb-4729-9278-27ba85ab708d"
      },
      "source": [
        "# QC Code\n",
        "stocks = ['AAPL','GOOG','IBM','FB','F','V', 'G', 'GE']\n",
        "for stock in stocks:\n",
        "    print(stock)\n",
        "    if stock == 'FB': break"
      ],
      "execution_count": 225,
      "outputs": [
        {
          "output_type": "stream",
          "name": "stdout",
          "text": [
            "AAPL\n",
            "GOOG\n",
            "IBM\n",
            "FB\n"
          ]
        }
      ]
    },
    {
      "cell_type": "code",
      "metadata": {
        "colab": {
          "base_uri": "https://localhost:8080/"
        },
        "id": "pOcFECpiArcT",
        "outputId": "84bb58ab-d341-4e81-ded8-3794069cabe1"
      },
      "source": [
        "# Changed code\n",
        "stocks = ['Manzana', 'Piña', 'Lechuga', 'Tomate']\n",
        "for stock in stocks:\n",
        "    print(stock)\n",
        "    if stock == 'Piña': break"
      ],
      "execution_count": 226,
      "outputs": [
        {
          "output_type": "stream",
          "name": "stdout",
          "text": [
            "Manzana\n",
            "Piña\n"
          ]
        }
      ]
    },
    {
      "cell_type": "markdown",
      "metadata": {
        "id": "WvWoXcVBA7ul"
      },
      "source": [
        "---"
      ]
    },
    {
      "cell_type": "code",
      "metadata": {
        "colab": {
          "base_uri": "https://localhost:8080/"
        },
        "id": "TnXnpZ1aA8VX",
        "outputId": "e513b086-d5b9-49f1-8698-d415936729aa"
      },
      "source": [
        "# QC Code\n",
        "stocks = ['AAPL','GOOG','IBM','FB','F','V', 'G', 'GE']\n",
        "for stock in stocks:\n",
        "    if stock == 'FB': continue\n",
        "    print(stock)"
      ],
      "execution_count": 227,
      "outputs": [
        {
          "output_type": "stream",
          "name": "stdout",
          "text": [
            "AAPL\n",
            "GOOG\n",
            "IBM\n",
            "F\n",
            "V\n",
            "G\n",
            "GE\n"
          ]
        }
      ]
    },
    {
      "cell_type": "code",
      "metadata": {
        "colab": {
          "base_uri": "https://localhost:8080/"
        },
        "id": "TLVpLt-kBBFu",
        "outputId": "ce551e52-8c3a-4aaf-92a5-d85e9b969e4d"
      },
      "source": [
        "# Changed code\n",
        "stocks = ['Manzana', 'Piña', 'Lechuga', 'Tomate']\n",
        "for stock in stocks:\n",
        "    if stock == 'Piña': continue\n",
        "    print(stock)"
      ],
      "execution_count": 228,
      "outputs": [
        {
          "output_type": "stream",
          "name": "stdout",
          "text": [
            "Manzana\n",
            "Lechuga\n",
            "Tomate\n"
          ]
        }
      ]
    },
    {
      "cell_type": "markdown",
      "metadata": {
        "id": "YRlhhCTVpSib"
      },
      "source": [
        "### **2.4.** List Comprehension"
      ]
    },
    {
      "cell_type": "code",
      "metadata": {
        "colab": {
          "base_uri": "https://localhost:8080/"
        },
        "id": "-FmigbwCBNYL",
        "outputId": "4266dfef-718d-4dc4-88d8-6b7105b0c4b7"
      },
      "source": [
        "# QC Code\n",
        "squares = []\n",
        "for i in [1,2,3,4,5]:\n",
        "    squares.append(i**2)\n",
        "print(squares)"
      ],
      "execution_count": 229,
      "outputs": [
        {
          "output_type": "stream",
          "name": "stdout",
          "text": [
            "[1, 4, 9, 16, 25]\n"
          ]
        }
      ]
    },
    {
      "cell_type": "code",
      "metadata": {
        "colab": {
          "base_uri": "https://localhost:8080/"
        },
        "id": "WNi5OuihBTVE",
        "outputId": "549da1d6-84ca-4b3d-fbe3-d43c17b1948f"
      },
      "source": [
        "# Changed code\n",
        "squares = []\n",
        "for i in ['a','b','c','d','e']:\n",
        "    squares.append(i*3)\n",
        "print(squares)"
      ],
      "execution_count": 230,
      "outputs": [
        {
          "output_type": "stream",
          "name": "stdout",
          "text": [
            "['aaa', 'bbb', 'ccc', 'ddd', 'eee']\n"
          ]
        }
      ]
    },
    {
      "cell_type": "markdown",
      "metadata": {
        "id": "qPRnynSpB6fJ"
      },
      "source": [
        "---"
      ]
    },
    {
      "cell_type": "code",
      "metadata": {
        "colab": {
          "base_uri": "https://localhost:8080/"
        },
        "id": "kEbG5EIGB7LA",
        "outputId": "ebfeeafa-266a-4a9b-f7ea-57e04b31e27b"
      },
      "source": [
        "# QC Code\n",
        "foo = [1,2,3,4,5]\n",
        "squares = [x**2 for x in foo]\n",
        "print(squares)"
      ],
      "execution_count": 231,
      "outputs": [
        {
          "output_type": "stream",
          "name": "stdout",
          "text": [
            "[1, 4, 9, 16, 25]\n"
          ]
        }
      ]
    },
    {
      "cell_type": "code",
      "metadata": {
        "colab": {
          "base_uri": "https://localhost:8080/"
        },
        "id": "w_k7QC_PCCYe",
        "outputId": "a4b4c2aa-b71d-413c-c309-dc1d8e63d0dd"
      },
      "source": [
        "# Changed code\n",
        "foo = ['a', 'b', 'c', 'd', 'e']\n",
        "squares = [x*3 for x in foo]\n",
        "print(squares)"
      ],
      "execution_count": 232,
      "outputs": [
        {
          "output_type": "stream",
          "name": "stdout",
          "text": [
            "['aaa', 'bbb', 'ccc', 'ddd', 'eee']\n"
          ]
        }
      ]
    },
    {
      "cell_type": "markdown",
      "metadata": {
        "id": "7oCUf0XyCUOW"
      },
      "source": [
        "---"
      ]
    },
    {
      "cell_type": "code",
      "metadata": {
        "colab": {
          "base_uri": "https://localhost:8080/"
        },
        "id": "HSAkgL6qCU2H",
        "outputId": "acb320c5-d64c-4078-e4bc-1701f5d16d47"
      },
      "source": [
        "# QC Code\n",
        "stocks = ['AAPL','GOOG','IBM','FB','F','V', 'G', 'GE']\n",
        "selected = ['AAPL','IBM']\n",
        "new_list = [x for x in stocks if x not in selected]\n",
        "print(new_list)"
      ],
      "execution_count": 233,
      "outputs": [
        {
          "output_type": "stream",
          "name": "stdout",
          "text": [
            "['GOOG', 'FB', 'F', 'V', 'G', 'GE']\n"
          ]
        }
      ]
    },
    {
      "cell_type": "code",
      "metadata": {
        "colab": {
          "base_uri": "https://localhost:8080/"
        },
        "id": "09REmHbCCcfV",
        "outputId": "9e4320f2-e02f-4e8e-bca8-0974a133b83a"
      },
      "source": [
        "# Changed code\n",
        "stocks = ['Lápiz','Papel','Esfero','Borrador','Compás','Regla']\n",
        "selected = ['Compás','Esfero']\n",
        "new_list = [x for x in stocks if x not in selected]\n",
        "print(new_list)"
      ],
      "execution_count": 234,
      "outputs": [
        {
          "output_type": "stream",
          "name": "stdout",
          "text": [
            "['Lápiz', 'Papel', 'Borrador', 'Regla']\n"
          ]
        }
      ]
    },
    {
      "cell_type": "markdown",
      "metadata": {
        "id": "NeO7toL4C5Aw"
      },
      "source": [
        "---"
      ]
    },
    {
      "cell_type": "code",
      "metadata": {
        "colab": {
          "base_uri": "https://localhost:8080/"
        },
        "id": "Ynd8N3-ZC5qS",
        "outputId": "ac6b86b0-2172-4fa6-f7f6-b5cd9cdb0c7f"
      },
      "source": [
        "# QC Code\n",
        "print([(x, y) for x in [1,2,3] for y in [3,1,4] if x != y])\n",
        "print([str(x) + ' vs ' + str(y) for x in ['AAPL','GOOG','IBM','FB']\n",
        "                                for y in ['F','V','G','GE'] if x != y])"
      ],
      "execution_count": 235,
      "outputs": [
        {
          "output_type": "stream",
          "name": "stdout",
          "text": [
            "[(1, 3), (1, 4), (2, 3), (2, 1), (2, 4), (3, 1), (3, 4)]\n",
            "['AAPL vs F', 'AAPL vs V', 'AAPL vs G', 'AAPL vs GE', 'GOOG vs F', 'GOOG vs V', 'GOOG vs G', 'GOOG vs GE', 'IBM vs F', 'IBM vs V', 'IBM vs G', 'IBM vs GE', 'FB vs F', 'FB vs V', 'FB vs G', 'FB vs GE']\n"
          ]
        }
      ]
    },
    {
      "cell_type": "code",
      "metadata": {
        "colab": {
          "base_uri": "https://localhost:8080/"
        },
        "id": "EVicvmqHEOka",
        "outputId": "6c7b83ae-9c2f-45e6-a427-13895315698e"
      },
      "source": [
        "# Changed code\n",
        "print([(x, y) for x in ['Andrés','Santiago','Joaquin'] for y in ['Alberto','Santiago','Andrés'] if x != y])\n",
        "print([str(x) + ' vs ' + str(y) for x in ['Andrés','Santiago','Joaquin']\n",
        "                                for y in ['Alberto','Santiago','Andrés'] if x != y])"
      ],
      "execution_count": 236,
      "outputs": [
        {
          "output_type": "stream",
          "name": "stdout",
          "text": [
            "[('Andrés', 'Alberto'), ('Andrés', 'Santiago'), ('Santiago', 'Alberto'), ('Santiago', 'Andrés'), ('Joaquin', 'Alberto'), ('Joaquin', 'Santiago'), ('Joaquin', 'Andrés')]\n",
            "['Andrés vs Alberto', 'Andrés vs Santiago', 'Santiago vs Alberto', 'Santiago vs Andrés', 'Joaquin vs Alberto', 'Joaquin vs Santiago', 'Joaquin vs Andrés']\n"
          ]
        }
      ]
    },
    {
      "cell_type": "markdown",
      "metadata": {
        "id": "JCn0pNa9pY04"
      },
      "source": [
        "## 3. **Functions and Objective-Oriented Programming**"
      ]
    },
    {
      "cell_type": "markdown",
      "metadata": {
        "id": "Mb8AbiCCpo9c"
      },
      "source": [
        "### **3.1.** Functions"
      ]
    },
    {
      "cell_type": "code",
      "metadata": {
        "colab": {
          "base_uri": "https://localhost:8080/"
        },
        "id": "5f7Ekc-xFsv5",
        "outputId": "a691c28d-5c1c-4fc4-dca0-30b150b73000"
      },
      "source": [
        "# QC Code\n",
        "def product(x,y):\n",
        "    return x*y\n",
        "print(product(2,3))\n",
        "print(product(5,10))"
      ],
      "execution_count": 237,
      "outputs": [
        {
          "output_type": "stream",
          "name": "stdout",
          "text": [
            "6\n",
            "50\n"
          ]
        }
      ]
    },
    {
      "cell_type": "code",
      "metadata": {
        "colab": {
          "base_uri": "https://localhost:8080/"
        },
        "id": "Q-VvfFrMF0Mu",
        "outputId": "fbf49aa2-3dd0-471e-8f66-0315c9bb0430"
      },
      "source": [
        "# Changed code\n",
        "def product(x,y):\n",
        "    return x*y\n",
        "print(product('Andrea ',4))\n",
        "print(product(2,30))"
      ],
      "execution_count": 238,
      "outputs": [
        {
          "output_type": "stream",
          "name": "stdout",
          "text": [
            "Andrea Andrea Andrea Andrea \n",
            "60\n"
          ]
        }
      ]
    },
    {
      "cell_type": "markdown",
      "metadata": {
        "id": "Q4n63VbmGCjm"
      },
      "source": [
        "---"
      ]
    },
    {
      "cell_type": "code",
      "metadata": {
        "colab": {
          "base_uri": "https://localhost:8080/"
        },
        "id": "haaQVbQ8GFMw",
        "outputId": "93b2808e-2bce-4d38-de1a-ade1c8df718a"
      },
      "source": [
        "# QC Code\n",
        "def say_hi():\n",
        "    print('Welcome to QuantConnect')\n",
        "say_hi()"
      ],
      "execution_count": 239,
      "outputs": [
        {
          "output_type": "stream",
          "name": "stdout",
          "text": [
            "Welcome to QuantConnect\n"
          ]
        }
      ]
    },
    {
      "cell_type": "code",
      "metadata": {
        "colab": {
          "base_uri": "https://localhost:8080/"
        },
        "id": "OOTM15QDGRrZ",
        "outputId": "b86b3afb-1d7d-47da-9c4c-787ca3cc95e7"
      },
      "source": [
        "# Changed code\n",
        "def say_hi():\n",
        "    print('Bienvenido a la Universidad Nacional de Colombia')\n",
        "say_hi()"
      ],
      "execution_count": 240,
      "outputs": [
        {
          "output_type": "stream",
          "name": "stdout",
          "text": [
            "Bienvenido a la Universidad Nacional de Colombia\n"
          ]
        }
      ]
    },
    {
      "cell_type": "markdown",
      "metadata": {
        "id": "N_8SdF4upymm"
      },
      "source": [
        "### **3.2.** Built-in Function"
      ]
    },
    {
      "cell_type": "code",
      "metadata": {
        "colab": {
          "base_uri": "https://localhost:8080/"
        },
        "id": "9rGsml5YGYNu",
        "outputId": "0c47005e-2409-4f46-d92a-9b75f8d66abf"
      },
      "source": [
        "# QC Code\n",
        "print(range(10))\n",
        "print(range(1, 11))\n",
        "print(range(1, 11, 2))"
      ],
      "execution_count": 241,
      "outputs": [
        {
          "output_type": "stream",
          "name": "stdout",
          "text": [
            "range(0, 10)\n",
            "range(1, 11)\n",
            "range(1, 11, 2)\n"
          ]
        }
      ]
    },
    {
      "cell_type": "code",
      "metadata": {
        "colab": {
          "base_uri": "https://localhost:8080/"
        },
        "id": "qabqbWaeG4o8",
        "outputId": "7e4ea581-b78f-421d-faea-27dab04469b7"
      },
      "source": [
        "# Changed code\n",
        "print(range(4725132))\n",
        "print(range(1, 4725132))\n",
        "print(range(1, 4725132, 100))"
      ],
      "execution_count": 242,
      "outputs": [
        {
          "output_type": "stream",
          "name": "stdout",
          "text": [
            "range(0, 4725132)\n",
            "range(1, 4725132)\n",
            "range(1, 4725132, 100)\n"
          ]
        }
      ]
    },
    {
      "cell_type": "markdown",
      "metadata": {
        "id": "7QPVAb1DHAte"
      },
      "source": [
        "---"
      ]
    },
    {
      "cell_type": "code",
      "metadata": {
        "colab": {
          "base_uri": "https://localhost:8080/"
        },
        "id": "vbEVfNThHBdV",
        "outputId": "8fc0f572-e13e-456a-f68d-24f89b7f4846"
      },
      "source": [
        "# QC Code\n",
        "tickers = ['AAPL', 'GOOGL', 'IBM', 'FB', 'F', 'V', 'G', 'GE']\n",
        "print(\"The number of tickers is {}\".format(len(tickers)))\n",
        "for k in range(len(tickers)):\n",
        "    print(k + 1, tickers[k])"
      ],
      "execution_count": 243,
      "outputs": [
        {
          "output_type": "stream",
          "name": "stdout",
          "text": [
            "The number of tickers is 8\n",
            "1 AAPL\n",
            "2 GOOGL\n",
            "3 IBM\n",
            "4 FB\n",
            "5 F\n",
            "6 V\n",
            "7 G\n",
            "8 GE\n"
          ]
        }
      ]
    },
    {
      "cell_type": "code",
      "metadata": {
        "colab": {
          "base_uri": "https://localhost:8080/"
        },
        "id": "1juqxAfXHbG-",
        "outputId": "31a2f360-4ea6-4249-97d4-11a1adb73670"
      },
      "source": [
        "# Changed code\n",
        "tickers = ['Papel higiénico', 'Fresas', 'Durex', 'GForce RTX 3090', 'Tabaco', 'Ariel líquido', 'Oka Loka', 'Diablo Rojo']\n",
        "print(\"Hay que comprar {} cosas para completar el mercado:\".format(len(tickers)))\n",
        "for k in range(len(tickers)):\n",
        "    print(k + 1, tickers[k])"
      ],
      "execution_count": 244,
      "outputs": [
        {
          "output_type": "stream",
          "name": "stdout",
          "text": [
            "Hay que comprar 8 cosas para completar el mercado:\n",
            "1 Papel higiénico\n",
            "2 Fresas\n",
            "3 Durex\n",
            "4 GForce RTX 3090\n",
            "5 Tabaco\n",
            "6 Ariel líquido\n",
            "7 Oka Loka\n",
            "8 Diablo Rojo\n"
          ]
        }
      ]
    },
    {
      "cell_type": "markdown",
      "metadata": {
        "id": "4XwQmjP1IB1z"
      },
      "source": [
        "---"
      ]
    },
    {
      "cell_type": "code",
      "metadata": {
        "colab": {
          "base_uri": "https://localhost:8080/"
        },
        "id": "GyrUBJKhICm9",
        "outputId": "a83aabe1-d59b-4cc3-af65-2c9fe49b528b"
      },
      "source": [
        "# QC Code\n",
        "tickers = ['AAPL','GOOG','IBM','FB','F','V', 'G', 'GE']\n",
        "print(list(map(len,tickers)))"
      ],
      "execution_count": 245,
      "outputs": [
        {
          "output_type": "stream",
          "name": "stdout",
          "text": [
            "[4, 4, 3, 2, 1, 1, 1, 2]\n"
          ]
        }
      ]
    },
    {
      "cell_type": "code",
      "metadata": {
        "colab": {
          "base_uri": "https://localhost:8080/"
        },
        "id": "PRqi_ifHIGcT",
        "outputId": "3bdde747-6824-4ad3-943b-18c4e96aeff7"
      },
      "source": [
        "# Changed code\n",
        "tickers = ['AAPL', (1,2), 4, {'Arroz'},'Foca', 4.56]\n",
        "print(list(map(type,tickers)))"
      ],
      "execution_count": 246,
      "outputs": [
        {
          "output_type": "stream",
          "name": "stdout",
          "text": [
            "[<class 'str'>, <class 'tuple'>, <class 'int'>, <class 'set'>, <class 'str'>, <class 'float'>]\n"
          ]
        }
      ]
    },
    {
      "cell_type": "markdown",
      "metadata": {
        "id": "eeRKXKzrInMj"
      },
      "source": [
        "---"
      ]
    },
    {
      "cell_type": "code",
      "metadata": {
        "colab": {
          "base_uri": "https://localhost:8080/"
        },
        "id": "tC_SJb6uIoW7",
        "outputId": "dfec57ca-87a1-45fe-c4f2-e812fe179527"
      },
      "source": [
        "# QC Code\n",
        "a = map(lambda x: x**2, range(10))\n",
        "print(list(a))"
      ],
      "execution_count": 247,
      "outputs": [
        {
          "output_type": "stream",
          "name": "stdout",
          "text": [
            "[0, 1, 4, 9, 16, 25, 36, 49, 64, 81]\n"
          ]
        }
      ]
    },
    {
      "cell_type": "code",
      "metadata": {
        "colab": {
          "base_uri": "https://localhost:8080/"
        },
        "id": "ZnzmG9xTI5E2",
        "outputId": "fc16e911-94c3-4b4e-eeb9-4b0da39beacd"
      },
      "source": [
        "# Changed code\n",
        "a = map(lambda x: x-1, range(5))\n",
        "print(list(a))"
      ],
      "execution_count": 248,
      "outputs": [
        {
          "output_type": "stream",
          "name": "stdout",
          "text": [
            "[-1, 0, 1, 2, 3]\n"
          ]
        }
      ]
    },
    {
      "cell_type": "markdown",
      "metadata": {
        "id": "UJcHXtXfJbwG"
      },
      "source": [
        "---"
      ]
    },
    {
      "cell_type": "code",
      "metadata": {
        "colab": {
          "base_uri": "https://localhost:8080/"
        },
        "id": "bYwMoDujJcY1",
        "outputId": "2278b002-e517-431b-ac9d-0f9635615b38"
      },
      "source": [
        "# QC Code\n",
        "a = map(lambda x, y: x+y, [1,2,3,4,5], [5,4,3,2,1])\n",
        "print(list(a))"
      ],
      "execution_count": 249,
      "outputs": [
        {
          "output_type": "stream",
          "name": "stdout",
          "text": [
            "[6, 6, 6, 6, 6]\n"
          ]
        }
      ]
    },
    {
      "cell_type": "code",
      "metadata": {
        "colab": {
          "base_uri": "https://localhost:8080/"
        },
        "id": "chvMwnY4KExf",
        "outputId": "a5d3472a-cad9-4aae-a0dd-8f66d47f757e"
      },
      "source": [
        "# Changed code\n",
        "a = map(lambda x, y: x+y, ['Quiero ','por ','no ','podido ','...'], ['saber ','qué ','he ','olvidarla','...'])\n",
        "for x in list(a): print(x, end='')"
      ],
      "execution_count": 250,
      "outputs": [
        {
          "output_type": "stream",
          "name": "stdout",
          "text": [
            "Quiero saber por qué no he podido olvidarla......"
          ]
        }
      ]
    },
    {
      "cell_type": "markdown",
      "metadata": {
        "id": "FxeNOqT7LJB0"
      },
      "source": [
        "---"
      ]
    },
    {
      "cell_type": "code",
      "metadata": {
        "colab": {
          "base_uri": "https://localhost:8080/"
        },
        "id": "SZR-V4pmLJkF",
        "outputId": "71bcaa97-70f4-4293-a650-77720502b0f1"
      },
      "source": [
        "# QC Code\n",
        "sorted([5,2,3,4,1])"
      ],
      "execution_count": 251,
      "outputs": [
        {
          "output_type": "execute_result",
          "data": {
            "text/plain": [
              "[1, 2, 3, 4, 5]"
            ]
          },
          "metadata": {},
          "execution_count": 251
        }
      ]
    },
    {
      "cell_type": "code",
      "metadata": {
        "colab": {
          "base_uri": "https://localhost:8080/"
        },
        "id": "bSsYJe3bLOBo",
        "outputId": "a6939f92-0b7e-446f-b556-ef2263e13a89"
      },
      "source": [
        "# Changed code\n",
        "sorted(['a', 'b', 'h', 'd', 'g', 'c', 'e', 'f'])"
      ],
      "execution_count": 252,
      "outputs": [
        {
          "output_type": "execute_result",
          "data": {
            "text/plain": [
              "['a', 'b', 'c', 'd', 'e', 'f', 'g', 'h']"
            ]
          },
          "metadata": {},
          "execution_count": 252
        }
      ]
    },
    {
      "cell_type": "markdown",
      "metadata": {
        "id": "SynVcfP8LfNZ"
      },
      "source": [
        "---"
      ]
    },
    {
      "cell_type": "code",
      "metadata": {
        "colab": {
          "base_uri": "https://localhost:8080/"
        },
        "id": "qr5GxsnELf9V",
        "outputId": "0b7876a5-698b-44a8-a169-7e0e735c1c60"
      },
      "source": [
        "# QC Code\n",
        "price_list = [('AAPL', 144.09), ('GOOGL', 911.71), ('MSFT', 69), ('FB', 150), ('WMT', 75.32)]\n",
        "sorted(price_list, key = lambda x: x[1])"
      ],
      "execution_count": 253,
      "outputs": [
        {
          "output_type": "execute_result",
          "data": {
            "text/plain": [
              "[('MSFT', 69),\n",
              " ('WMT', 75.32),\n",
              " ('AAPL', 144.09),\n",
              " ('FB', 150),\n",
              " ('GOOGL', 911.71)]"
            ]
          },
          "metadata": {},
          "execution_count": 253
        }
      ]
    },
    {
      "cell_type": "code",
      "metadata": {
        "colab": {
          "base_uri": "https://localhost:8080/"
        },
        "id": "MeyQdsO8N8L0",
        "outputId": "00af91fd-a66d-4568-9cda-ecf0107fa4e9"
      },
      "source": [
        "# Changed code\n",
        "price_list = [('Barriletes', 2000), ('Lasagna', 5000), ('Desodorante', 8000), ('Papel higiénico', 10000)]\n",
        "sorted(price_list, key = lambda x: x[0])"
      ],
      "execution_count": 254,
      "outputs": [
        {
          "output_type": "execute_result",
          "data": {
            "text/plain": [
              "[('Barriletes', 2000),\n",
              " ('Desodorante', 8000),\n",
              " ('Lasagna', 5000),\n",
              " ('Papel higiénico', 10000)]"
            ]
          },
          "metadata": {},
          "execution_count": 254
        }
      ]
    },
    {
      "cell_type": "markdown",
      "metadata": {
        "id": "oXTcrpuBOfVF"
      },
      "source": [
        "---"
      ]
    },
    {
      "cell_type": "code",
      "metadata": {
        "colab": {
          "base_uri": "https://localhost:8080/"
        },
        "id": "VsCEmyGMOgEm",
        "outputId": "9b048eb4-b4ad-41c4-8086-f4f111eacfcf"
      },
      "source": [
        "# QC Code\n",
        "price_list = [('AAPL', 144.09), ('GOOGL', 911.71), ('MSFT', 69), ('FB', 150), ('WMT', 75.32)]\n",
        "sorted(price_list, key = lambda x: x[1], reverse = True)"
      ],
      "execution_count": 255,
      "outputs": [
        {
          "output_type": "execute_result",
          "data": {
            "text/plain": [
              "[('GOOGL', 911.71),\n",
              " ('FB', 150),\n",
              " ('AAPL', 144.09),\n",
              " ('WMT', 75.32),\n",
              " ('MSFT', 69)]"
            ]
          },
          "metadata": {},
          "execution_count": 255
        }
      ]
    },
    {
      "cell_type": "code",
      "metadata": {
        "colab": {
          "base_uri": "https://localhost:8080/"
        },
        "id": "7eP_1aG6REVM",
        "outputId": "c2956026-c991-49b0-dfad-0e6757432b4f"
      },
      "source": [
        "# Changed code\n",
        "price_list = [('Barriletes', 2000), ('Lasagna', 5000), ('Desodorante', 8000), ('Papel higiénico', 10000)]\n",
        "sorted(price_list, key = lambda x: x[0], reverse = True)"
      ],
      "execution_count": 256,
      "outputs": [
        {
          "output_type": "execute_result",
          "data": {
            "text/plain": [
              "[('Papel higiénico', 10000),\n",
              " ('Lasagna', 5000),\n",
              " ('Desodorante', 8000),\n",
              " ('Barriletes', 2000)]"
            ]
          },
          "metadata": {},
          "execution_count": 256
        }
      ]
    },
    {
      "cell_type": "markdown",
      "metadata": {
        "id": "fy-ZuejiRLGh"
      },
      "source": [
        "---"
      ]
    },
    {
      "cell_type": "code",
      "metadata": {
        "colab": {
          "base_uri": "https://localhost:8080/"
        },
        "id": "zApMaeEXRL4d",
        "outputId": "c76d1ddb-ba81-4cec-a4a4-cad60ec77a44"
      },
      "source": [
        "# QC Code\n",
        "price_list = [('AAPL', 144.09), ('GOOGL', 911.71), ('MSFT', 69), ('FB', 150), ('WMT', 75.32)]\n",
        "price_list.sort(key = lambda x: x[1])\n",
        "print(price_list)"
      ],
      "execution_count": 257,
      "outputs": [
        {
          "output_type": "stream",
          "name": "stdout",
          "text": [
            "[('MSFT', 69), ('WMT', 75.32), ('AAPL', 144.09), ('FB', 150), ('GOOGL', 911.71)]\n"
          ]
        }
      ]
    },
    {
      "cell_type": "code",
      "metadata": {
        "colab": {
          "base_uri": "https://localhost:8080/"
        },
        "id": "olVpZitaR5WA",
        "outputId": "c647139b-ee1a-4ab2-987b-3f64df82747b"
      },
      "source": [
        "# Changed code\n",
        "price_list = [('Barriletes', 2000), ('Lasagna', 5000), ('Desodorante', 8000), ('Papel higiénico', 10000)]\n",
        "price_list.sort(key = lambda x: x[0])\n",
        "print(price_list)"
      ],
      "execution_count": 258,
      "outputs": [
        {
          "output_type": "stream",
          "name": "stdout",
          "text": [
            "[('Barriletes', 2000), ('Desodorante', 8000), ('Lasagna', 5000), ('Papel higiénico', 10000)]\n"
          ]
        }
      ]
    },
    {
      "cell_type": "markdown",
      "metadata": {
        "id": "AeQ8I153p4MQ"
      },
      "source": [
        "### **3.3.** Object-Oriented Programming"
      ]
    },
    {
      "cell_type": "code",
      "metadata": {
        "colab": {
          "base_uri": "https://localhost:8080/"
        },
        "id": "BTTzSqi2zcic",
        "outputId": "3d4dec6a-8370-4ce6-9346-f6056ba8f10b"
      },
      "source": [
        "# QC Code\n",
        "class Stock:\n",
        "    def __init__(self, ticker, open, close, volume):\n",
        "        self.ticker = ticker\n",
        "        self.open = open\n",
        "        self.close = close\n",
        "        self.volume = volume\n",
        "        self.rate_return = float(close)/open - 1\n",
        "\n",
        "    def update(self, open, close):\n",
        "        self.open = open\n",
        "        self.close = close\n",
        "        self.rate_return = float(self.close)/self.open - 1\n",
        "\n",
        "    def print_return(self):\n",
        "        print(self.rate_return)\n",
        "apple  = Stock('AAPL', 143.69, 144.09, 20109375)\n",
        "google = Stock('GOOGL', 898.7, 911.7, 1561616)\n",
        "print(apple.ticker)\n",
        "google.print_return()\n",
        "google.update(912.8,913.4)\n",
        "google.print_return()"
      ],
      "execution_count": 259,
      "outputs": [
        {
          "output_type": "stream",
          "name": "stdout",
          "text": [
            "AAPL\n",
            "0.014465338822744034\n",
            "0.0006573181419806673\n"
          ]
        }
      ]
    },
    {
      "cell_type": "code",
      "metadata": {
        "colab": {
          "base_uri": "https://localhost:8080/"
        },
        "id": "u75Rb_jW5puS",
        "outputId": "5831d92c-cba7-4cc8-87e8-81cf4af5632f"
      },
      "source": [
        "# Changed code\n",
        "class Fruta:\n",
        "    def __init__(self, Nombre, Caducidad, Cantidad, Precio):\n",
        "        self.nombre = Nombre\n",
        "        self.caducidad = Caducidad\n",
        "        self.cantidad = Cantidad\n",
        "        self.precio = Precio\n",
        "        self.total_price = Cantidad * Precio\n",
        "\n",
        "    def update(self, Cantidad, Precio):\n",
        "        self.cantidad = Cantidad\n",
        "        self.precio = Precio\n",
        "        self.total_price = Cantidad * Precio\n",
        "\n",
        "    def print_total_price(self):\n",
        "        print(self.total_price)\n",
        "fruit  = Fruta('Apple', '07/07/21', 14, 5000)\n",
        "pineapple = Fruta('Pineapple', '09/07/21', 10, 8000)\n",
        "print(fruit.nombre)\n",
        "pineapple.print_total_price()\n",
        "pineapple.update(20, 7500)\n",
        "pineapple.print_total_price()"
      ],
      "execution_count": 260,
      "outputs": [
        {
          "output_type": "stream",
          "name": "stdout",
          "text": [
            "Apple\n",
            "80000\n",
            "150000\n"
          ]
        }
      ]
    },
    {
      "cell_type": "markdown",
      "metadata": {
        "id": "N6tLroT-8rum"
      },
      "source": [
        "---"
      ]
    },
    {
      "cell_type": "code",
      "metadata": {
        "colab": {
          "base_uri": "https://localhost:8080/",
          "height": 35
        },
        "id": "4xF3q-h78sUo",
        "outputId": "57185cc2-0693-4b23-e9d6-a3bf4587329b"
      },
      "source": [
        "# QC Code\n",
        "apple.ceo = 'Tim Cook'\n",
        "apple.ceo"
      ],
      "execution_count": 261,
      "outputs": [
        {
          "output_type": "execute_result",
          "data": {
            "application/vnd.google.colaboratory.intrinsic+json": {
              "type": "string"
            },
            "text/plain": [
              "'Tim Cook'"
            ]
          },
          "metadata": {},
          "execution_count": 261
        }
      ]
    },
    {
      "cell_type": "code",
      "metadata": {
        "colab": {
          "base_uri": "https://localhost:8080/",
          "height": 35
        },
        "id": "OdzzN-cf8xf-",
        "outputId": "06b8af18-74b0-41e6-9d68-f981bb6c4d55"
      },
      "source": [
        "# Changed code\n",
        "fruit.owner = 'Pablo Palacios'\n",
        "fruit.owner"
      ],
      "execution_count": 262,
      "outputs": [
        {
          "output_type": "execute_result",
          "data": {
            "application/vnd.google.colaboratory.intrinsic+json": {
              "type": "string"
            },
            "text/plain": [
              "'Pablo Palacios'"
            ]
          },
          "metadata": {},
          "execution_count": 262
        }
      ]
    },
    {
      "cell_type": "markdown",
      "metadata": {
        "id": "p7rWZYZM8-h7"
      },
      "source": [
        "---"
      ]
    },
    {
      "cell_type": "code",
      "metadata": {
        "colab": {
          "base_uri": "https://localhost:8080/"
        },
        "id": "XdeBU7aM8_aK",
        "outputId": "1c40a2af-2be9-4efb-c6c2-3c9034d9107a"
      },
      "source": [
        "# QC Code\n",
        "dir(apple)"
      ],
      "execution_count": 263,
      "outputs": [
        {
          "output_type": "execute_result",
          "data": {
            "text/plain": [
              "['__class__',\n",
              " '__delattr__',\n",
              " '__dict__',\n",
              " '__dir__',\n",
              " '__doc__',\n",
              " '__eq__',\n",
              " '__format__',\n",
              " '__ge__',\n",
              " '__getattribute__',\n",
              " '__gt__',\n",
              " '__hash__',\n",
              " '__init__',\n",
              " '__init_subclass__',\n",
              " '__le__',\n",
              " '__lt__',\n",
              " '__module__',\n",
              " '__ne__',\n",
              " '__new__',\n",
              " '__reduce__',\n",
              " '__reduce_ex__',\n",
              " '__repr__',\n",
              " '__setattr__',\n",
              " '__sizeof__',\n",
              " '__str__',\n",
              " '__subclasshook__',\n",
              " '__weakref__',\n",
              " 'ceo',\n",
              " 'close',\n",
              " 'open',\n",
              " 'print_return',\n",
              " 'rate_return',\n",
              " 'ticker',\n",
              " 'update',\n",
              " 'volume']"
            ]
          },
          "metadata": {},
          "execution_count": 263
        }
      ]
    },
    {
      "cell_type": "code",
      "metadata": {
        "colab": {
          "base_uri": "https://localhost:8080/"
        },
        "id": "zoNaG2vz_H81",
        "outputId": "59204b64-7743-4d72-9265-8796c3cf4755"
      },
      "source": [
        "# Changed code\n",
        "dir(fruit)"
      ],
      "execution_count": 264,
      "outputs": [
        {
          "output_type": "execute_result",
          "data": {
            "text/plain": [
              "['__class__',\n",
              " '__delattr__',\n",
              " '__dict__',\n",
              " '__dir__',\n",
              " '__doc__',\n",
              " '__eq__',\n",
              " '__format__',\n",
              " '__ge__',\n",
              " '__getattribute__',\n",
              " '__gt__',\n",
              " '__hash__',\n",
              " '__init__',\n",
              " '__init_subclass__',\n",
              " '__le__',\n",
              " '__lt__',\n",
              " '__module__',\n",
              " '__ne__',\n",
              " '__new__',\n",
              " '__reduce__',\n",
              " '__reduce_ex__',\n",
              " '__repr__',\n",
              " '__setattr__',\n",
              " '__sizeof__',\n",
              " '__str__',\n",
              " '__subclasshook__',\n",
              " '__weakref__',\n",
              " 'caducidad',\n",
              " 'cantidad',\n",
              " 'nombre',\n",
              " 'owner',\n",
              " 'precio',\n",
              " 'print_total_price',\n",
              " 'total_price',\n",
              " 'update']"
            ]
          },
          "metadata": {},
          "execution_count": 264
        }
      ]
    },
    {
      "cell_type": "markdown",
      "metadata": {
        "id": "t77Gqyt0QdM1"
      },
      "source": [
        "---"
      ]
    },
    {
      "cell_type": "code",
      "metadata": {
        "colab": {
          "base_uri": "https://localhost:8080/"
        },
        "id": "Q679Hk5vQeWj",
        "outputId": "b093293e-7591-4ccf-fb67-cdb8721e039e"
      },
      "source": [
        "class Child(Stock):\n",
        "    def __init__(self, name):\n",
        "        self.name = name\n",
        "aa = Child('AA')\n",
        "print(aa.name)\n",
        "aa.update(100, 102)\n",
        "print(aa.open)\n",
        "print(aa.close)\n",
        "aa.print_return()"
      ],
      "execution_count": 265,
      "outputs": [
        {
          "output_type": "stream",
          "name": "stdout",
          "text": [
            "AA\n",
            "100\n",
            "102\n",
            "0.020000000000000018\n"
          ]
        }
      ]
    },
    {
      "cell_type": "code",
      "metadata": {
        "colab": {
          "base_uri": "https://localhost:8080/"
        },
        "id": "6UgMt2DzRtWv",
        "outputId": "10c33872-fdcc-4588-95cf-7c295e599403"
      },
      "source": [
        "class Frutita(Fruta):\n",
        "    def __init__(self, nombre):\n",
        "        self.nombre = nombre\n",
        "aa = Frutita('Manzanita')\n",
        "print(aa.nombre)\n",
        "aa.update(15, 10000)\n",
        "print(aa.cantidad)\n",
        "print(aa.precio)\n",
        "aa.print_total_price()"
      ],
      "execution_count": 266,
      "outputs": [
        {
          "output_type": "stream",
          "name": "stdout",
          "text": [
            "Manzanita\n",
            "15\n",
            "10000\n",
            "150000\n"
          ]
        }
      ]
    },
    {
      "cell_type": "markdown",
      "metadata": {
        "id": "t-MoCFexp_3S"
      },
      "source": [
        "## 4. **NumPy and Basic Pandas**"
      ]
    },
    {
      "cell_type": "markdown",
      "metadata": {
        "id": "dpQB3gJTqQMr"
      },
      "source": [
        "### **4.1.** NumPy"
      ]
    },
    {
      "cell_type": "code",
      "metadata": {
        "colab": {
          "base_uri": "https://localhost:8080/"
        },
        "id": "BJH0NcE0Tjuw",
        "outputId": "84b0de62-c068-433b-886d-ac0265eeb90e"
      },
      "source": [
        "# QC Code\n",
        "import numpy as np\n",
        "\n",
        "price_list = [143.73, 145.83, 143.68, 144.02, 143.5, 142.62]\n",
        "price_array = np.array(price_list)\n",
        "print(price_array, type(price_array))\n"
      ],
      "execution_count": 267,
      "outputs": [
        {
          "output_type": "stream",
          "name": "stdout",
          "text": [
            "[143.73 145.83 143.68 144.02 143.5  142.62] <class 'numpy.ndarray'>\n"
          ]
        }
      ]
    },
    {
      "cell_type": "code",
      "metadata": {
        "colab": {
          "base_uri": "https://localhost:8080/"
        },
        "id": "0Sqt5hmkT9rM",
        "outputId": "2c422197-0b6f-480e-9133-20e5fee13b6e"
      },
      "source": [
        "# Changed code\n",
        "import numpy as np\n",
        "\n",
        "price_list = [487, 565, 154, 649, 523, 978]\n",
        "price_array = np.array(price_list)\n",
        "print(price_array, type(price_array))\n"
      ],
      "execution_count": 268,
      "outputs": [
        {
          "output_type": "stream",
          "name": "stdout",
          "text": [
            "[487 565 154 649 523 978] <class 'numpy.ndarray'>\n"
          ]
        }
      ]
    },
    {
      "cell_type": "markdown",
      "metadata": {
        "id": "01m3eGRvUNS3"
      },
      "source": [
        "---"
      ]
    },
    {
      "cell_type": "code",
      "metadata": {
        "colab": {
          "base_uri": "https://localhost:8080/"
        },
        "id": "PxBgpo6uUOHM",
        "outputId": "4fc5354a-836b-4982-d112-7701212a00e6"
      },
      "source": [
        "# QC Code\n",
        "Ar = np.array([[1,3], [2,4]])\n",
        "print(Ar, type(Ar))"
      ],
      "execution_count": 269,
      "outputs": [
        {
          "output_type": "stream",
          "name": "stdout",
          "text": [
            "[[1 3]\n",
            " [2 4]] <class 'numpy.ndarray'>\n"
          ]
        }
      ]
    },
    {
      "cell_type": "code",
      "metadata": {
        "colab": {
          "base_uri": "https://localhost:8080/"
        },
        "id": "pJg7HTLbUfj9",
        "outputId": "6c59e8fe-f0cb-46f1-b54d-a72dc79ddba4"
      },
      "source": [
        "# QC Code\n",
        "Ar = np.array([[20,65, 84], [44,87,46]])\n",
        "print(Ar, type(Ar))"
      ],
      "execution_count": 270,
      "outputs": [
        {
          "output_type": "stream",
          "name": "stdout",
          "text": [
            "[[20 65 84]\n",
            " [44 87 46]] <class 'numpy.ndarray'>\n"
          ]
        }
      ]
    },
    {
      "cell_type": "markdown",
      "metadata": {
        "id": "h4gmJJEdUurO"
      },
      "source": [
        "---"
      ]
    },
    {
      "cell_type": "code",
      "metadata": {
        "colab": {
          "base_uri": "https://localhost:8080/"
        },
        "id": "Mc5zSE40UvXi",
        "outputId": "f32578bb-a9b0-4519-a08b-ed6f596f480e"
      },
      "source": [
        "# QC Code\n",
        "Ar = np.array([[1,3], [2,4]])\n",
        "print(Ar.shape)"
      ],
      "execution_count": 271,
      "outputs": [
        {
          "output_type": "stream",
          "name": "stdout",
          "text": [
            "(2, 2)\n"
          ]
        }
      ]
    },
    {
      "cell_type": "code",
      "metadata": {
        "colab": {
          "base_uri": "https://localhost:8080/"
        },
        "id": "6_FZxljQVETQ",
        "outputId": "a2be05cd-540c-4b3f-fcff-f6eaa70683cc"
      },
      "source": [
        "# Changed code\n",
        "Ar = np.array([[20,65, 84], [44,87,46]])\n",
        "print(Ar.shape)"
      ],
      "execution_count": 272,
      "outputs": [
        {
          "output_type": "stream",
          "name": "stdout",
          "text": [
            "(2, 3)\n"
          ]
        }
      ]
    },
    {
      "cell_type": "markdown",
      "metadata": {
        "id": "fLV8JYs5VN_8"
      },
      "source": [
        "---"
      ]
    },
    {
      "cell_type": "code",
      "metadata": {
        "colab": {
          "base_uri": "https://localhost:8080/"
        },
        "id": "8J82uFwtVOzk",
        "outputId": "b104bb74-7c97-408a-a801-44894cd9e9e5"
      },
      "source": [
        "# QC Code\n",
        "Ar = np.array([[1,3], [2,4]])\n",
        "print(Ar[0])\n",
        "print(Ar[1])"
      ],
      "execution_count": 273,
      "outputs": [
        {
          "output_type": "stream",
          "name": "stdout",
          "text": [
            "[1 3]\n",
            "[2 4]\n"
          ]
        }
      ]
    },
    {
      "cell_type": "code",
      "metadata": {
        "colab": {
          "base_uri": "https://localhost:8080/"
        },
        "id": "HnVR0rGyVagW",
        "outputId": "6c125a30-f94c-46af-e3b2-a23730e0c51c"
      },
      "source": [
        "# Changed code\n",
        "Ar = np.array([[20,65, 84], [44,87,46]])\n",
        "print(Ar[0])\n",
        "print(Ar[1])"
      ],
      "execution_count": 274,
      "outputs": [
        {
          "output_type": "stream",
          "name": "stdout",
          "text": [
            "[20 65 84]\n",
            "[44 87 46]\n"
          ]
        }
      ]
    },
    {
      "cell_type": "markdown",
      "metadata": {
        "id": "Cl3IaiuoVg_m"
      },
      "source": [
        "---"
      ]
    },
    {
      "cell_type": "code",
      "metadata": {
        "colab": {
          "base_uri": "https://localhost:8080/"
        },
        "id": "6-z33Cx4Vht_",
        "outputId": "8f7382aa-2b6b-46d9-8244-e0c2e2b1ecd9"
      },
      "source": [
        "# QC Code\n",
        "Ar = np.array([[1,3], [2,4]])\n",
        "print('First column:', Ar[:,0])\n",
        "print('Second column:', Ar[:,1])"
      ],
      "execution_count": 275,
      "outputs": [
        {
          "output_type": "stream",
          "name": "stdout",
          "text": [
            "First column: [1 2]\n",
            "Second column: [3 4]\n"
          ]
        }
      ]
    },
    {
      "cell_type": "code",
      "metadata": {
        "colab": {
          "base_uri": "https://localhost:8080/"
        },
        "id": "LFWDm_F9Vvyk",
        "outputId": "fcf051e6-0a1c-49d2-bb89-e039f44e2f1c"
      },
      "source": [
        "# Changed code\n",
        "Ar = np.array([[20,65, 84], [44,87,46]])\n",
        "print('First column:', Ar[:,0])\n",
        "print('Second column:', Ar[:,1])"
      ],
      "execution_count": 276,
      "outputs": [
        {
          "output_type": "stream",
          "name": "stdout",
          "text": [
            "First column: [20 44]\n",
            "Second column: [65 87]\n"
          ]
        }
      ]
    },
    {
      "cell_type": "markdown",
      "metadata": {
        "id": "OGc7N_bmWCnU"
      },
      "source": [
        "---"
      ]
    },
    {
      "cell_type": "code",
      "metadata": {
        "colab": {
          "base_uri": "https://localhost:8080/"
        },
        "id": "039LgDmAWDWI",
        "outputId": "43298108-5f14-499a-e365-057d27056e20"
      },
      "source": [
        "# QC Code\n",
        "price_list = [143.73, 145.83, 143.68, 144.02, 143.5, 142.62]\n",
        "price_array = np.array(price_list)\n",
        "np.log(price_array)"
      ],
      "execution_count": 277,
      "outputs": [
        {
          "output_type": "execute_result",
          "data": {
            "text/plain": [
              "array([4.96793654, 4.98244156, 4.9675886 , 4.96995218, 4.96633504,\n",
              "       4.96018375])"
            ]
          },
          "metadata": {},
          "execution_count": 277
        }
      ]
    },
    {
      "cell_type": "code",
      "metadata": {
        "colab": {
          "base_uri": "https://localhost:8080/"
        },
        "id": "74cmi-_mXOv6",
        "outputId": "454ccfa4-af55-4186-83f1-9b4e72493b37"
      },
      "source": [
        "# Changed code\n",
        "price_list = [487, 565, 154, 649, 523, 978]\n",
        "price_array = np.array(price_list)\n",
        "np.log(price_array)"
      ],
      "execution_count": 278,
      "outputs": [
        {
          "output_type": "execute_result",
          "data": {
            "text/plain": [
              "array([6.18826412, 6.33682573, 5.0369526 , 6.47543272, 6.25958146,\n",
              "       6.88550967])"
            ]
          },
          "metadata": {},
          "execution_count": 278
        }
      ]
    },
    {
      "cell_type": "markdown",
      "metadata": {
        "id": "-KfcqyG1XVgx"
      },
      "source": [
        "---"
      ]
    },
    {
      "cell_type": "code",
      "metadata": {
        "colab": {
          "base_uri": "https://localhost:8080/"
        },
        "id": "0_BvLoiiXWkF",
        "outputId": "212503eb-7752-4819-f34f-a6ce8d043c6a"
      },
      "source": [
        "# QC Code\n",
        "price_list = [143.73, 145.83, 143.68, 144.02, 143.5, 142.62]\n",
        "price_array = np.array(price_list)\n",
        "print(np.mean(price_array))\n",
        "print(np.std(price_array))\n",
        "print(np.sum(price_array))\n",
        "print(np.max(price_array))"
      ],
      "execution_count": 279,
      "outputs": [
        {
          "output_type": "stream",
          "name": "stdout",
          "text": [
            "143.89666666666668\n",
            "0.9673790478515796\n",
            "863.38\n",
            "145.83\n"
          ]
        }
      ]
    },
    {
      "cell_type": "code",
      "metadata": {
        "colab": {
          "base_uri": "https://localhost:8080/"
        },
        "id": "DDDjhMZDYIT_",
        "outputId": "d99578a1-a321-4404-9250-609811f59531"
      },
      "source": [
        "# Changed code\n",
        "price_list = [487, 565, 154, 649, 523, 978]\n",
        "price_array = np.array(price_list)\n",
        "print(np.mean(price_array))\n",
        "print(np.std(price_array))\n",
        "print(np.sum(price_array))\n",
        "print(np.max(price_array))"
      ],
      "execution_count": 280,
      "outputs": [
        {
          "output_type": "stream",
          "name": "stdout",
          "text": [
            "559.3333333333334\n",
            "242.96821922950244\n",
            "3356\n",
            "978\n"
          ]
        }
      ]
    },
    {
      "cell_type": "markdown",
      "metadata": {
        "id": "OILZNdprqUtB"
      },
      "source": [
        "### **4.2.** Pandas"
      ]
    },
    {
      "cell_type": "code",
      "metadata": {
        "id": "ToJEr_bZdpNm",
        "colab": {
          "base_uri": "https://localhost:8080/"
        },
        "outputId": "8674cf1d-2096-4359-f70f-1f80b1fde2bf"
      },
      "source": [
        "# QC Code\n",
        "import pandas as pd\n",
        "\n",
        "price = [143.73, 145.83, 143.68, 144.02, 143.5, 142.62]\n",
        "s = pd.Series(price)\n",
        "print(s)"
      ],
      "execution_count": 281,
      "outputs": [
        {
          "output_type": "stream",
          "name": "stdout",
          "text": [
            "0    143.73\n",
            "1    145.83\n",
            "2    143.68\n",
            "3    144.02\n",
            "4    143.50\n",
            "5    142.62\n",
            "dtype: float64\n"
          ]
        }
      ]
    },
    {
      "cell_type": "code",
      "metadata": {
        "colab": {
          "base_uri": "https://localhost:8080/"
        },
        "id": "-FegxnBhZShW",
        "outputId": "b271b460-f31c-4234-ec73-c326435e8f0a"
      },
      "source": [
        "# QC Code\n",
        "import pandas as pd\n",
        "\n",
        "price = [487, 565, 154, 649, 523, 978]\n",
        "s = pd.Series(price)\n",
        "print(s)"
      ],
      "execution_count": 282,
      "outputs": [
        {
          "output_type": "stream",
          "name": "stdout",
          "text": [
            "0    487\n",
            "1    565\n",
            "2    154\n",
            "3    649\n",
            "4    523\n",
            "5    978\n",
            "dtype: int64\n"
          ]
        }
      ]
    },
    {
      "cell_type": "markdown",
      "metadata": {
        "id": "WxueDRzpZmPq"
      },
      "source": [
        "---"
      ]
    },
    {
      "cell_type": "code",
      "metadata": {
        "colab": {
          "base_uri": "https://localhost:8080/"
        },
        "id": "PA-0a51wZnjZ",
        "outputId": "198b35f0-db9b-4ecd-ba0f-0142cee70270"
      },
      "source": [
        "# QC Code\n",
        "price = [143.73, 145.83, 143.68, 144.02, 143.5, 142.62]\n",
        "s = pd.Series(price, index = ['a', 'b', 'c', 'd', 'e', 'f'])\n",
        "print(s)"
      ],
      "execution_count": 283,
      "outputs": [
        {
          "output_type": "stream",
          "name": "stdout",
          "text": [
            "a    143.73\n",
            "b    145.83\n",
            "c    143.68\n",
            "d    144.02\n",
            "e    143.50\n",
            "f    142.62\n",
            "dtype: float64\n"
          ]
        }
      ]
    },
    {
      "cell_type": "code",
      "metadata": {
        "colab": {
          "base_uri": "https://localhost:8080/"
        },
        "id": "zcUNLPlwZ3oK",
        "outputId": "8026bc48-0cf4-4eef-b772-c0c6af1dc463"
      },
      "source": [
        "# Changed code\n",
        "price = [487, 565, 154, 649, 523, 978]\n",
        "s = pd.Series(price, index = ['Primero', 'Segundo', 'Tercero', 'Cuarto', 'Quinto', 'Sexto'])\n",
        "print(s)"
      ],
      "execution_count": 284,
      "outputs": [
        {
          "output_type": "stream",
          "name": "stdout",
          "text": [
            "Primero    487\n",
            "Segundo    565\n",
            "Tercero    154\n",
            "Cuarto     649\n",
            "Quinto     523\n",
            "Sexto      978\n",
            "dtype: int64\n"
          ]
        }
      ]
    },
    {
      "cell_type": "markdown",
      "metadata": {
        "id": "2NOF5yV2aEim"
      },
      "source": [
        "---"
      ]
    },
    {
      "cell_type": "code",
      "metadata": {
        "colab": {
          "base_uri": "https://localhost:8080/"
        },
        "id": "wWdvr3VfaFJq",
        "outputId": "d0fa6c3d-43ae-4587-94e4-3d46376498e8"
      },
      "source": [
        "# QC Code\n",
        "price = [143.73, 145.83, 143.68, 144.02, 143.5, 142.62]\n",
        "s = pd.Series(price, index = ['a', 'b', 'c', 'd', 'e', 'f'])\n",
        "s.index = [6,5,4,3,2,1]\n",
        "print(s)"
      ],
      "execution_count": 285,
      "outputs": [
        {
          "output_type": "stream",
          "name": "stdout",
          "text": [
            "6    143.73\n",
            "5    145.83\n",
            "4    143.68\n",
            "3    144.02\n",
            "2    143.50\n",
            "1    142.62\n",
            "dtype: float64\n"
          ]
        }
      ]
    },
    {
      "cell_type": "code",
      "metadata": {
        "colab": {
          "base_uri": "https://localhost:8080/"
        },
        "id": "Yamj-K_saQan",
        "outputId": "77761ff5-8fa3-441f-fb17-1f12997d63c6"
      },
      "source": [
        "# Changed code\n",
        "price = [487, 565, 154, 649, 523, 978]\n",
        "s = pd.Series(price, index = ['Primero', 'Segundo', 'Tercero', 'Cuarto', 'Quinto', 'Sexto'])\n",
        "s.index = [18,17,16,15,14,13]\n",
        "print(s)"
      ],
      "execution_count": 286,
      "outputs": [
        {
          "output_type": "stream",
          "name": "stdout",
          "text": [
            "18    487\n",
            "17    565\n",
            "16    154\n",
            "15    649\n",
            "14    523\n",
            "13    978\n",
            "dtype: int64\n"
          ]
        }
      ]
    },
    {
      "cell_type": "markdown",
      "metadata": {
        "id": "IOtLKV7pamJZ"
      },
      "source": [
        "---"
      ]
    },
    {
      "cell_type": "code",
      "metadata": {
        "colab": {
          "base_uri": "https://localhost:8080/"
        },
        "id": "UDvG7VnJanCt",
        "outputId": "50f88498-3f72-42ca-e227-f2067af67f7a"
      },
      "source": [
        "# QC Code\n",
        "price = [143.73, 145.83, 143.68, 144.02, 143.5, 142.62]\n",
        "s = pd.Series(price, index = ['a', 'b', 'c', 'd', 'e', 'f'])\n",
        "s.index = [6,5,4,3,2,1]\n",
        "print(s[1:])\n",
        "print(s[:-2])"
      ],
      "execution_count": 287,
      "outputs": [
        {
          "output_type": "stream",
          "name": "stdout",
          "text": [
            "5    145.83\n",
            "4    143.68\n",
            "3    144.02\n",
            "2    143.50\n",
            "1    142.62\n",
            "dtype: float64\n",
            "6    143.73\n",
            "5    145.83\n",
            "4    143.68\n",
            "3    144.02\n",
            "dtype: float64\n"
          ]
        }
      ]
    },
    {
      "cell_type": "code",
      "metadata": {
        "colab": {
          "base_uri": "https://localhost:8080/"
        },
        "id": "TFgKEEbPauMT",
        "outputId": "ba262bcd-4fd9-4165-eeef-cd87a5407124"
      },
      "source": [
        "# Changed code\n",
        "price = [487, 565, 154, 649, 523, 978]\n",
        "s = pd.Series(price, index = ['Primero', 'Segundo', 'Tercero', 'Cuarto', 'Quinto', 'Sexto'])\n",
        "s.index = [18,17,16,15,14,13]\n",
        "print(s[2:])\n",
        "print(s[:-5])"
      ],
      "execution_count": 288,
      "outputs": [
        {
          "output_type": "stream",
          "name": "stdout",
          "text": [
            "16    154\n",
            "15    649\n",
            "14    523\n",
            "13    978\n",
            "dtype: int64\n",
            "18    487\n",
            "dtype: int64\n"
          ]
        }
      ]
    },
    {
      "cell_type": "markdown",
      "metadata": {
        "id": "Y4r3_ZFAbiPs"
      },
      "source": [
        "---"
      ]
    },
    {
      "cell_type": "code",
      "metadata": {
        "colab": {
          "base_uri": "https://localhost:8080/"
        },
        "id": "CAN_dtcKbi9y",
        "outputId": "bc0c41d9-8350-465b-d346-b719d215a2e6"
      },
      "source": [
        "# QC Code\n",
        "price = [143.73, 145.83, 143.68, 144.02, 143.5, 142.62]\n",
        "s = pd.Series(price, index = ['a', 'b', 'c', 'd', 'e', 'f'])\n",
        "s.index = [6,5,4,3,2,1]\n",
        "print(s[4])\n",
        "s[4] = 0\n",
        "print(s)"
      ],
      "execution_count": 289,
      "outputs": [
        {
          "output_type": "stream",
          "name": "stdout",
          "text": [
            "143.68\n",
            "6    143.73\n",
            "5    145.83\n",
            "4      0.00\n",
            "3    144.02\n",
            "2    143.50\n",
            "1    142.62\n",
            "dtype: float64\n"
          ]
        }
      ]
    },
    {
      "cell_type": "code",
      "metadata": {
        "colab": {
          "base_uri": "https://localhost:8080/"
        },
        "id": "D1A7yf0obtYF",
        "outputId": "327e1781-81d1-4ef7-b95a-a604b35e17ac"
      },
      "source": [
        "# Changed code\n",
        "price2 = [487, 565, 154, 649, 523, 978]\n",
        "s2 = pd.Series(price2, index = ['Primero', 'Segundo', 'Tercero', 'Cuarto', 'Quinto', 'Sexto'])\n",
        "s2.index = [18,17,16,15,14,13]\n",
        "print(s2[18])\n",
        "s2[18] = 66.87\n",
        "print(s2)"
      ],
      "execution_count": 290,
      "outputs": [
        {
          "output_type": "stream",
          "name": "stdout",
          "text": [
            "487\n",
            "18     66\n",
            "17    565\n",
            "16    154\n",
            "15    649\n",
            "14    523\n",
            "13    978\n",
            "dtype: int64\n"
          ]
        }
      ]
    },
    {
      "cell_type": "markdown",
      "metadata": {
        "id": "o8Dcvl58cayQ"
      },
      "source": [
        "---"
      ]
    },
    {
      "cell_type": "code",
      "metadata": {
        "colab": {
          "base_uri": "https://localhost:8080/"
        },
        "id": "-aPtA2pEcbkp",
        "outputId": "42088fc0-ff2c-4b6b-f8e3-e8e1a5da17bb"
      },
      "source": [
        "# QC Code\n",
        "s = pd.Series(price, name = 'Apple Prices')\n",
        "s.index = [6,5,4,3,2,1]\n",
        "print(s)\n",
        "print(s.name)"
      ],
      "execution_count": 291,
      "outputs": [
        {
          "output_type": "stream",
          "name": "stdout",
          "text": [
            "6    143.73\n",
            "5    145.83\n",
            "4    143.68\n",
            "3    144.02\n",
            "2    143.50\n",
            "1    142.62\n",
            "Name: Apple Prices, dtype: float64\n",
            "Apple Prices\n"
          ]
        }
      ]
    },
    {
      "cell_type": "code",
      "metadata": {
        "colab": {
          "base_uri": "https://localhost:8080/"
        },
        "id": "TZar9gl5c-if",
        "outputId": "ef6f5b61-153e-4896-fef0-6903090c263e"
      },
      "source": [
        "# Changed code\n",
        "s2 = pd.Series(price2, name = 'Números de Lotería')\n",
        "s2.index= [18,17,16,15,14,13]\n",
        "print(s2)\n",
        "print(s2.name)"
      ],
      "execution_count": 292,
      "outputs": [
        {
          "output_type": "stream",
          "name": "stdout",
          "text": [
            "18    487\n",
            "17    565\n",
            "16    154\n",
            "15    649\n",
            "14    523\n",
            "13    978\n",
            "Name: Números de Lotería, dtype: int64\n",
            "Números de Lotería\n"
          ]
        }
      ]
    },
    {
      "cell_type": "markdown",
      "metadata": {
        "id": "HvOKcOOQd1AZ"
      },
      "source": [
        "---"
      ]
    },
    {
      "cell_type": "code",
      "metadata": {
        "colab": {
          "base_uri": "https://localhost:8080/"
        },
        "id": "bguK6lkTd1-V",
        "outputId": "86bfff09-375b-40ba-83b3-5092b90818c6"
      },
      "source": [
        "# QC Code\n",
        "print(s.describe())"
      ],
      "execution_count": 293,
      "outputs": [
        {
          "output_type": "stream",
          "name": "stdout",
          "text": [
            "count      6.000000\n",
            "mean     143.896667\n",
            "std        1.059711\n",
            "min      142.620000\n",
            "25%      143.545000\n",
            "50%      143.705000\n",
            "75%      143.947500\n",
            "max      145.830000\n",
            "Name: Apple Prices, dtype: float64\n"
          ]
        }
      ]
    },
    {
      "cell_type": "code",
      "metadata": {
        "colab": {
          "base_uri": "https://localhost:8080/"
        },
        "id": "SnzjhGuaeA5p",
        "outputId": "105d35d4-39ea-48c9-e79e-43f6de984b94"
      },
      "source": [
        "# Changed code\n",
        "print(s2.describe())"
      ],
      "execution_count": 294,
      "outputs": [
        {
          "output_type": "stream",
          "name": "stdout",
          "text": [
            "count      6.000000\n",
            "mean     559.333333\n",
            "std      266.158349\n",
            "min      154.000000\n",
            "25%      496.000000\n",
            "50%      544.000000\n",
            "75%      628.000000\n",
            "max      978.000000\n",
            "Name: Números de Lotería, dtype: float64\n"
          ]
        }
      ]
    },
    {
      "cell_type": "markdown",
      "metadata": {
        "id": "0XAzB_qheHef"
      },
      "source": [
        "---"
      ]
    },
    {
      "cell_type": "code",
      "metadata": {
        "colab": {
          "base_uri": "https://localhost:8080/"
        },
        "id": "Rz10XJKSeIil",
        "outputId": "e1cd340c-f0da-4349-8c4b-78c9dddb9e02"
      },
      "source": [
        "# QC Code\n",
        "time_index = pd.date_range('2017-01-01', periods = len(s), freq = 'D')\n",
        "print(time_index)\n",
        "s.index = time_index\n",
        "print(s)"
      ],
      "execution_count": 295,
      "outputs": [
        {
          "output_type": "stream",
          "name": "stdout",
          "text": [
            "DatetimeIndex(['2017-01-01', '2017-01-02', '2017-01-03', '2017-01-04',\n",
            "               '2017-01-05', '2017-01-06'],\n",
            "              dtype='datetime64[ns]', freq='D')\n",
            "2017-01-01    143.73\n",
            "2017-01-02    145.83\n",
            "2017-01-03    143.68\n",
            "2017-01-04    144.02\n",
            "2017-01-05    143.50\n",
            "2017-01-06    142.62\n",
            "Freq: D, Name: Apple Prices, dtype: float64\n"
          ]
        }
      ]
    },
    {
      "cell_type": "code",
      "metadata": {
        "colab": {
          "base_uri": "https://localhost:8080/"
        },
        "id": "Q33yzfx6f7P2",
        "outputId": "3657bbc7-ab84-4f34-a509-1520f74e9bb3"
      },
      "source": [
        "# Changed code\n",
        "time_index2 = pd.date_range('2077-07-07', periods = len(s2), freq = 'D')\n",
        "print(time_index2)\n",
        "s2.index = time_index2\n",
        "print(s2)"
      ],
      "execution_count": 296,
      "outputs": [
        {
          "output_type": "stream",
          "name": "stdout",
          "text": [
            "DatetimeIndex(['2077-07-07', '2077-07-08', '2077-07-09', '2077-07-10',\n",
            "               '2077-07-11', '2077-07-12'],\n",
            "              dtype='datetime64[ns]', freq='D')\n",
            "2077-07-07    487\n",
            "2077-07-08    565\n",
            "2077-07-09    154\n",
            "2077-07-10    649\n",
            "2077-07-11    523\n",
            "2077-07-12    978\n",
            "Freq: D, Name: Números de Lotería, dtype: int64\n"
          ]
        }
      ]
    },
    {
      "cell_type": "markdown",
      "metadata": {
        "id": "TuIKYGrGg9rj"
      },
      "source": [
        "---"
      ]
    },
    {
      "cell_type": "code",
      "metadata": {
        "colab": {
          "base_uri": "https://localhost:8080/"
        },
        "id": "x8Y_Nqptg-W2",
        "outputId": "bb6f9292-0e9b-44fb-98eb-3487d0769fb1"
      },
      "source": [
        "# QC Code\n",
        "s.index = [6,5,4,3,2,1]\n",
        "print(s)\n",
        "print(s[1])"
      ],
      "execution_count": 297,
      "outputs": [
        {
          "output_type": "stream",
          "name": "stdout",
          "text": [
            "6    143.73\n",
            "5    145.83\n",
            "4    143.68\n",
            "3    144.02\n",
            "2    143.50\n",
            "1    142.62\n",
            "Name: Apple Prices, dtype: float64\n",
            "142.62\n"
          ]
        }
      ]
    },
    {
      "cell_type": "code",
      "metadata": {
        "colab": {
          "base_uri": "https://localhost:8080/"
        },
        "id": "j74UpKIRhIVs",
        "outputId": "9fb0fdbb-06ff-4283-b8c0-8e64d89a405c"
      },
      "source": [
        "# Changed code\n",
        "s2.index = [18,17,16,15,14,13]\n",
        "print(s2)\n",
        "print(s2[13])"
      ],
      "execution_count": 298,
      "outputs": [
        {
          "output_type": "stream",
          "name": "stdout",
          "text": [
            "18    487\n",
            "17    565\n",
            "16    154\n",
            "15    649\n",
            "14    523\n",
            "13    978\n",
            "Name: Números de Lotería, dtype: int64\n",
            "978\n"
          ]
        }
      ]
    },
    {
      "cell_type": "markdown",
      "metadata": {
        "id": "7VuqOtDYhVUF"
      },
      "source": [
        "---"
      ]
    },
    {
      "cell_type": "code",
      "metadata": {
        "colab": {
          "base_uri": "https://localhost:8080/"
        },
        "id": "pEQSarhshWCF",
        "outputId": "262bfc05-17a7-4d64-fd56-be6e426aeeac"
      },
      "source": [
        "# QC Code\n",
        "print(s)\n",
        "print(s.iloc[1])"
      ],
      "execution_count": 299,
      "outputs": [
        {
          "output_type": "stream",
          "name": "stdout",
          "text": [
            "6    143.73\n",
            "5    145.83\n",
            "4    143.68\n",
            "3    144.02\n",
            "2    143.50\n",
            "1    142.62\n",
            "Name: Apple Prices, dtype: float64\n",
            "145.83\n"
          ]
        }
      ]
    },
    {
      "cell_type": "code",
      "metadata": {
        "colab": {
          "base_uri": "https://localhost:8080/"
        },
        "id": "hjepACtHhjfH",
        "outputId": "b38c05f4-fbe5-4edf-8b0f-66018a74800d"
      },
      "source": [
        "# Changed code\n",
        "print(s2)\n",
        "print(s2.iloc[1])"
      ],
      "execution_count": 300,
      "outputs": [
        {
          "output_type": "stream",
          "name": "stdout",
          "text": [
            "18    487\n",
            "17    565\n",
            "16    154\n",
            "15    649\n",
            "14    523\n",
            "13    978\n",
            "Name: Números de Lotería, dtype: int64\n",
            "565\n"
          ]
        }
      ]
    },
    {
      "cell_type": "markdown",
      "metadata": {
        "id": "pM7pY4pSiujM"
      },
      "source": [
        "---"
      ]
    },
    {
      "cell_type": "code",
      "metadata": {
        "colab": {
          "base_uri": "https://localhost:8080/"
        },
        "id": "WsCtjdBWivLr",
        "outputId": "8c5534af-74eb-4650-d819-aa807bac4e19"
      },
      "source": [
        "# QC Code\n",
        "s.index = time_index\n",
        "print(s['2017-01-03'])"
      ],
      "execution_count": 301,
      "outputs": [
        {
          "output_type": "stream",
          "name": "stdout",
          "text": [
            "143.68\n"
          ]
        }
      ]
    },
    {
      "cell_type": "code",
      "metadata": {
        "colab": {
          "base_uri": "https://localhost:8080/"
        },
        "id": "I3Kuewvti2gv",
        "outputId": "8a595839-49aa-4c5b-8593-55293dd9b719"
      },
      "source": [
        "# Changed code\n",
        "s2.index = time_index2\n",
        "print(s2['2077-07-08'])"
      ],
      "execution_count": 302,
      "outputs": [
        {
          "output_type": "stream",
          "name": "stdout",
          "text": [
            "565\n"
          ]
        }
      ]
    },
    {
      "cell_type": "markdown",
      "metadata": {
        "id": "e6AZgbR5jB4n"
      },
      "source": [
        "---"
      ]
    },
    {
      "cell_type": "code",
      "metadata": {
        "colab": {
          "base_uri": "https://localhost:8080/"
        },
        "id": "p0WzpCOHjCfG",
        "outputId": "d9245f5d-36b1-4ae6-9bf1-4133b881dc9a"
      },
      "source": [
        "# QC Code\n",
        "print(s['2017-01-02':'2017-01-05'])"
      ],
      "execution_count": 303,
      "outputs": [
        {
          "output_type": "stream",
          "name": "stdout",
          "text": [
            "2017-01-02    145.83\n",
            "2017-01-03    143.68\n",
            "2017-01-04    144.02\n",
            "2017-01-05    143.50\n",
            "Freq: D, Name: Apple Prices, dtype: float64\n"
          ]
        }
      ]
    },
    {
      "cell_type": "code",
      "metadata": {
        "colab": {
          "base_uri": "https://localhost:8080/"
        },
        "id": "8Q1Qf4nXjIlg",
        "outputId": "ee2d44db-0c32-4694-d83e-96054e2ef192"
      },
      "source": [
        "# Changed code\n",
        "print(s2['2077-07-08':'2077-07-11'])"
      ],
      "execution_count": 304,
      "outputs": [
        {
          "output_type": "stream",
          "name": "stdout",
          "text": [
            "2077-07-08    565\n",
            "2077-07-09    154\n",
            "2077-07-10    649\n",
            "2077-07-11    523\n",
            "Freq: D, Name: Números de Lotería, dtype: int64\n"
          ]
        }
      ]
    },
    {
      "cell_type": "markdown",
      "metadata": {
        "id": "uZy7AlipjSWx"
      },
      "source": [
        "---"
      ]
    },
    {
      "cell_type": "code",
      "metadata": {
        "colab": {
          "base_uri": "https://localhost:8080/"
        },
        "id": "E2X6VFK3jTFY",
        "outputId": "140a133d-9152-4344-c93b-01855b18ac75"
      },
      "source": [
        "# QC Code\n",
        "print(s[s < np.mean(s)])\n",
        "print(s[(s > np.mean(s)) & (s < np.mean(s) + 1.64*np.std(s))])"
      ],
      "execution_count": 305,
      "outputs": [
        {
          "output_type": "stream",
          "name": "stdout",
          "text": [
            "2017-01-01    143.73\n",
            "2017-01-03    143.68\n",
            "2017-01-05    143.50\n",
            "2017-01-06    142.62\n",
            "Name: Apple Prices, dtype: float64\n",
            "2017-01-04    144.02\n",
            "Freq: D, Name: Apple Prices, dtype: float64\n"
          ]
        }
      ]
    },
    {
      "cell_type": "code",
      "metadata": {
        "colab": {
          "base_uri": "https://localhost:8080/"
        },
        "id": "7yaXPb-1juH2",
        "outputId": "fd0d0b70-82ba-45f7-dc15-afc02b4d6ab3"
      },
      "source": [
        "# Changed code\n",
        "print(s2[s2 < np.mean(s2)])\n",
        "print(s2[(s2 > np.mean(s2)) & (s2 < np.mean(s2) + 1.64*np.std(s2))])"
      ],
      "execution_count": 306,
      "outputs": [
        {
          "output_type": "stream",
          "name": "stdout",
          "text": [
            "2077-07-07    487\n",
            "2077-07-09    154\n",
            "2077-07-11    523\n",
            "Name: Números de Lotería, dtype: int64\n",
            "2077-07-08    565\n",
            "2077-07-10    649\n",
            "Name: Números de Lotería, dtype: int64\n"
          ]
        }
      ]
    }
  ]
}