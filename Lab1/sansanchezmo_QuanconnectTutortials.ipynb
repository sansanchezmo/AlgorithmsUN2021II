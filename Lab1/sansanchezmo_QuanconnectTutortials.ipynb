{
  "nbformat": 4,
  "nbformat_minor": 0,
  "metadata": {
    "colab": {
      "name": "sansanchezmo_QuanconnectTutortials.ipynb",
      "provenance": []
    },
    "kernelspec": {
      "name": "python3",
      "display_name": "Python 3"
    },
    "language_info": {
      "name": "python"
    }
  },
  "cells": [
    {
      "cell_type": "markdown",
      "metadata": {
        "id": "72KFrlKbUdeB"
      },
      "source": [
        "## <font color='dodgerblue'>**LAB1:**</font> QuantConnect Tutorials\n",
        ">#### <font color='deepskyblue'>**Nombre:**</font> Santiago Sánchez Mora\n",
        ">#### <font color='deepskyblue'>**Asignatura:**</font> Algoritmos\n",
        ">#### <font color='deepskyblue'>**Grupo:**</font> 1\n",
        ">#### <font color='deepskyblue'>**Fecha:**</font> 17 de Octubre de 2021\n",
        "\n",
        "\n",
        "\n",
        "\n",
        "\n",
        "\n",
        "\n",
        "\n",
        "\n"
      ]
    },
    {
      "cell_type": "markdown",
      "metadata": {
        "id": "Lq4Ik51YYaAr"
      },
      "source": [
        "## <font color='dodgerblue'>1. **Data Types and Data Structures**</font>"
      ]
    },
    {
      "cell_type": "markdown",
      "metadata": {
        "id": "0Bx-XsMp49_i"
      },
      "source": [
        "### <font color='deepskyblue'>**1.1.** Basic Variable Types</font>"
      ]
    },
    {
      "cell_type": "code",
      "metadata": {
        "colab": {
          "base_uri": "https://localhost:8080/"
        },
        "id": "aq-RgOHFazkB",
        "outputId": "2082c7ad-b525-41ae-f468-a125aea174f1"
      },
      "source": [
        "# QC Code\n",
        "my_string1 = 'Welcome to'\n",
        "my_string2 = 'QuantConnect'\n",
        "print(my_string1 + ' ' + my_string2)"
      ],
      "execution_count": null,
      "outputs": [
        {
          "output_type": "stream",
          "name": "stdout",
          "text": [
            "Welcome to QuantConnect\n"
          ]
        }
      ]
    },
    {
      "cell_type": "code",
      "metadata": {
        "colab": {
          "base_uri": "https://localhost:8080/"
        },
        "id": "dMbukSXfcpiO",
        "outputId": "1dc397b4-36f0-4ce7-b42b-d7910f9f5715"
      },
      "source": [
        "# Changed code\n",
        "my_string1 = 'Esto es'\n",
        "my_string2 = 'UNcode falso'\n",
        "print(my_string1 + ' ' + my_string2)"
      ],
      "execution_count": null,
      "outputs": [
        {
          "output_type": "stream",
          "name": "stdout",
          "text": [
            "Esto es UNcode falso\n"
          ]
        }
      ]
    },
    {
      "cell_type": "markdown",
      "metadata": {
        "id": "VFaEU2-cqn3I"
      },
      "source": [
        "---"
      ]
    },
    {
      "cell_type": "code",
      "metadata": {
        "colab": {
          "base_uri": "https://localhost:8080/"
        },
        "id": "GhDQsNAjqpTF",
        "outputId": "6f4c6dfc-7cff-4d71-c344-a39e13a958d6"
      },
      "source": [
        "# QC Code\n",
        "my_int = 10\n",
        "print(my_int)\n",
        "print(type(my_int))"
      ],
      "execution_count": null,
      "outputs": [
        {
          "output_type": "stream",
          "name": "stdout",
          "text": [
            "10\n",
            "<class 'int'>\n"
          ]
        }
      ]
    },
    {
      "cell_type": "code",
      "metadata": {
        "colab": {
          "base_uri": "https://localhost:8080/"
        },
        "id": "KTMkTx_mr4Tr",
        "outputId": "84d7ca53-2fcb-402b-de0f-ab4e17f54a3b"
      },
      "source": [
        "# Changed code\n",
        "my_int = 4725132\n",
        "print(my_int)\n",
        "print(type(my_int))"
      ],
      "execution_count": null,
      "outputs": [
        {
          "output_type": "stream",
          "name": "stdout",
          "text": [
            "4725132\n",
            "<class 'int'>\n"
          ]
        }
      ]
    },
    {
      "cell_type": "markdown",
      "metadata": {
        "id": "xpdgSFjIr_0r"
      },
      "source": [
        "---"
      ]
    },
    {
      "cell_type": "code",
      "metadata": {
        "colab": {
          "base_uri": "https://localhost:8080/"
        },
        "id": "U0NmWCWXsAj2",
        "outputId": "af12d73a-4c67-4c46-9d50-8cc76ea34fc1"
      },
      "source": [
        "# QC Code\n",
        "my_string = \"100\"\n",
        "print(type(my_string))\n",
        "my_int = int(my_string)\n",
        "print(type(my_int))"
      ],
      "execution_count": null,
      "outputs": [
        {
          "output_type": "stream",
          "name": "stdout",
          "text": [
            "<class 'str'>\n",
            "<class 'int'>\n"
          ]
        }
      ]
    },
    {
      "cell_type": "code",
      "metadata": {
        "colab": {
          "base_uri": "https://localhost:8080/"
        },
        "id": "vh-ajK6SsQNM",
        "outputId": "60c1da81-ce0e-4671-be77-54f79553fa2c"
      },
      "source": [
        "# Changed code\n",
        "my_string = \"4725132\"\n",
        "print(type(my_string))\n",
        "my_int = int(my_string)\n",
        "print(type(my_int))"
      ],
      "execution_count": null,
      "outputs": [
        {
          "output_type": "stream",
          "name": "stdout",
          "text": [
            "<class 'str'>\n",
            "<class 'int'>\n"
          ]
        }
      ]
    },
    {
      "cell_type": "markdown",
      "metadata": {
        "id": "el8i6WABsVRx"
      },
      "source": [
        "---\n"
      ]
    },
    {
      "cell_type": "code",
      "metadata": {
        "colab": {
          "base_uri": "https://localhost:8080/"
        },
        "id": "Lur4VIsssWV9",
        "outputId": "f08cd2df-cb72-4d49-eb3a-39f570f5a200"
      },
      "source": [
        "# QC Code\n",
        "my_float = 1.0\n",
        "print(type(my_float))\n",
        "my_int = 1\n",
        "print(type(my_int))"
      ],
      "execution_count": null,
      "outputs": [
        {
          "output_type": "stream",
          "name": "stdout",
          "text": [
            "<class 'float'>\n",
            "<class 'int'>\n"
          ]
        }
      ]
    },
    {
      "cell_type": "code",
      "metadata": {
        "colab": {
          "base_uri": "https://localhost:8080/"
        },
        "id": "J_ahPvWhsm2z",
        "outputId": "fe391238-e7e3-481e-d1be-bc5d2da78ffd"
      },
      "source": [
        "# Changed code\n",
        "my_float = 4725132.0\n",
        "print(type(my_float))\n",
        "my_int = 4725132\n",
        "print(type(my_int))"
      ],
      "execution_count": null,
      "outputs": [
        {
          "output_type": "stream",
          "name": "stdout",
          "text": [
            "<class 'float'>\n",
            "<class 'int'>\n"
          ]
        }
      ]
    },
    {
      "cell_type": "markdown",
      "metadata": {
        "id": "s-oKZ8IBs-xG"
      },
      "source": [
        "---"
      ]
    },
    {
      "cell_type": "code",
      "metadata": {
        "colab": {
          "base_uri": "https://localhost:8080/"
        },
        "id": "vOiYVBKctAEd",
        "outputId": "ad430251-893f-49e8-9bc4-071af3e422cd"
      },
      "source": [
        "# QC Code\n",
        "my_string = \"100\"\n",
        "my_float = float(my_string)\n",
        "print(type(my_float))"
      ],
      "execution_count": null,
      "outputs": [
        {
          "output_type": "stream",
          "name": "stdout",
          "text": [
            "<class 'float'>\n"
          ]
        }
      ]
    },
    {
      "cell_type": "code",
      "metadata": {
        "colab": {
          "base_uri": "https://localhost:8080/"
        },
        "id": "VpV3o6EvtTFX",
        "outputId": "a5314034-f76b-4213-a82d-efdfa4f506a4"
      },
      "source": [
        "# Changed code\n",
        "my_string = \"4725132\"\n",
        "my_float = float(my_string)\n",
        "print(type(my_float))"
      ],
      "execution_count": null,
      "outputs": [
        {
          "output_type": "stream",
          "name": "stdout",
          "text": [
            "<class 'float'>\n"
          ]
        }
      ]
    },
    {
      "cell_type": "markdown",
      "metadata": {
        "id": "H0xpTqbPtbF9"
      },
      "source": [
        "---"
      ]
    },
    {
      "cell_type": "code",
      "metadata": {
        "colab": {
          "base_uri": "https://localhost:8080/"
        },
        "id": "lXyVS602tc5j",
        "outputId": "ce1a581a-7c5b-4f42-f6d4-2c6b8580661f"
      },
      "source": [
        "# QC Code\n",
        "my_bool = False\n",
        "print(my_bool)\n",
        "print(type(my_bool))"
      ],
      "execution_count": null,
      "outputs": [
        {
          "output_type": "stream",
          "name": "stdout",
          "text": [
            "False\n",
            "<class 'bool'>\n"
          ]
        }
      ]
    },
    {
      "cell_type": "code",
      "metadata": {
        "colab": {
          "base_uri": "https://localhost:8080/"
        },
        "id": "rHAgV4gctoW3",
        "outputId": "f63cab20-11bb-4e01-c163-ebe758352117"
      },
      "source": [
        "# Changed code\n",
        "my_bool = True\n",
        "print(my_bool)\n",
        "print(type(my_bool))"
      ],
      "execution_count": null,
      "outputs": [
        {
          "output_type": "stream",
          "name": "stdout",
          "text": [
            "True\n",
            "<class 'bool'>\n"
          ]
        }
      ]
    },
    {
      "cell_type": "markdown",
      "metadata": {
        "id": "P6_WsHAkc5ut"
      },
      "source": [
        "### <font color='deepskyblue'> **1.2.** Basic Math Operations</font>"
      ]
    },
    {
      "cell_type": "code",
      "metadata": {
        "colab": {
          "base_uri": "https://localhost:8080/"
        },
        "id": "mnLRIKN_uEjB",
        "outputId": "5132ecfa-afb2-439d-c6d0-8a0393e41e8f"
      },
      "source": [
        "# QC Code\n",
        "print(\"Addition \", 1+1)\n",
        "print(\"Subtraction \", 5-2)\n",
        "print(\"Multiplication \", 2*3)\n",
        "print(\"Division\", 10/2)\n",
        "print(\"exponent\", 2**3)"
      ],
      "execution_count": null,
      "outputs": [
        {
          "output_type": "stream",
          "name": "stdout",
          "text": [
            "Addition  2\n",
            "Subtraction  3\n",
            "Multiplication  6\n",
            "Division 5.0\n",
            "exponent 8\n"
          ]
        }
      ]
    },
    {
      "cell_type": "code",
      "metadata": {
        "colab": {
          "base_uri": "https://localhost:8080/"
        },
        "id": "m3LPu339ubRa",
        "outputId": "ccc4af8d-b510-48b4-9262-bf95a25a5937"
      },
      "source": [
        "# Changed code\n",
        "print(\"Suma \", 2+2)\n",
        "print(\"Resta \", 9-8)\n",
        "print(\"Multiplicación \", 6*6)\n",
        "print(\"División\", 36/6)\n",
        "print(\"Potencia\", 5**2)"
      ],
      "execution_count": null,
      "outputs": [
        {
          "output_type": "stream",
          "name": "stdout",
          "text": [
            "Suma  4\n",
            "Resta  1\n",
            "Multiplicación  36\n",
            "División 6.0\n",
            "Potencia 25\n"
          ]
        }
      ]
    },
    {
      "cell_type": "markdown",
      "metadata": {
        "id": "7cJ6A19DeP33"
      },
      "source": [
        "### <font color='deepskyblue'> **1.3.** Data Collections</font>"
      ]
    },
    {
      "cell_type": "code",
      "metadata": {
        "colab": {
          "base_uri": "https://localhost:8080/"
        },
        "id": "3nc46MS-uycj",
        "outputId": "291b77fc-4e97-4d1f-e5c8-400c0179983d"
      },
      "source": [
        "# QC Code\n",
        "my_list = ['Quant', 'Connect', 1,2,3]\n",
        "print(my_list)"
      ],
      "execution_count": null,
      "outputs": [
        {
          "output_type": "stream",
          "name": "stdout",
          "text": [
            "['Quant', 'Connect', 1, 2, 3]\n"
          ]
        }
      ]
    },
    {
      "cell_type": "code",
      "metadata": {
        "colab": {
          "base_uri": "https://localhost:8080/"
        },
        "id": "8QRghuIEu4F6",
        "outputId": "491adc24-c03e-4dff-a458-3247945ba9a2"
      },
      "source": [
        "# Changed code\n",
        "my_list = ['Número', 1, 'Piña', 48]\n",
        "print(my_list)"
      ],
      "execution_count": null,
      "outputs": [
        {
          "output_type": "stream",
          "name": "stdout",
          "text": [
            "['Número', 1, 'Piña', 48]\n"
          ]
        }
      ]
    },
    {
      "cell_type": "markdown",
      "metadata": {
        "id": "LpBiAnTcvcMM"
      },
      "source": [
        "---"
      ]
    },
    {
      "cell_type": "code",
      "metadata": {
        "colab": {
          "base_uri": "https://localhost:8080/"
        },
        "id": "rGUKc8NGvdFo",
        "outputId": "d0d047f5-bcf5-4d3d-c861-04f9628c359c"
      },
      "source": [
        "# QC Code\n",
        "my_list = ['Quant', 'Connect', 1,2,3]\n",
        "print(len(my_list))\n",
        "print(my_list[0])\n",
        "print(my_list[len(my_list) - 1])"
      ],
      "execution_count": null,
      "outputs": [
        {
          "output_type": "stream",
          "name": "stdout",
          "text": [
            "5\n",
            "Quant\n",
            "3\n"
          ]
        }
      ]
    },
    {
      "cell_type": "code",
      "metadata": {
        "colab": {
          "base_uri": "https://localhost:8080/"
        },
        "id": "5-Kyr13mvmhf",
        "outputId": "a98c5e89-1939-49da-8141-9330cb5ab4c6"
      },
      "source": [
        "# Changed code\n",
        "my_list = ['Número', 1, 'Piña', 48]\n",
        "print(len(my_list))\n",
        "print(my_list[0])\n",
        "print(my_list[len(my_list) - 1])"
      ],
      "execution_count": null,
      "outputs": [
        {
          "output_type": "stream",
          "name": "stdout",
          "text": [
            "4\n",
            "Número\n",
            "48\n"
          ]
        }
      ]
    },
    {
      "cell_type": "markdown",
      "metadata": {
        "id": "8tsAvCmAvw9X"
      },
      "source": [
        "---"
      ]
    },
    {
      "cell_type": "code",
      "metadata": {
        "colab": {
          "base_uri": "https://localhost:8080/"
        },
        "id": "vkry63Y9vx2B",
        "outputId": "07a07953-4ef8-4551-d1ae-0527ad9f15a4"
      },
      "source": [
        "# QC Code\n",
        "my_list = ['Quant','Connect',1,2,3]\n",
        "my_list[2] = 'go'\n",
        "print(my_list)"
      ],
      "execution_count": null,
      "outputs": [
        {
          "output_type": "stream",
          "name": "stdout",
          "text": [
            "['Quant', 'Connect', 'go', 2, 3]\n"
          ]
        }
      ]
    },
    {
      "cell_type": "code",
      "metadata": {
        "colab": {
          "base_uri": "https://localhost:8080/"
        },
        "id": "l4PlQV7ev5Xt",
        "outputId": "a9169b2b-08c1-4fb1-f80f-e1cae00e7013"
      },
      "source": [
        "# Changed code\n",
        "my_list = ['Número', 1, 'Piña', 48]\n",
        "my_list[0] = 'go'\n",
        "print(my_list)"
      ],
      "execution_count": null,
      "outputs": [
        {
          "output_type": "stream",
          "name": "stdout",
          "text": [
            "['go', 1, 'Piña', 48]\n"
          ]
        }
      ]
    },
    {
      "cell_type": "markdown",
      "metadata": {
        "id": "HBjax84pwDyM"
      },
      "source": [
        "---"
      ]
    },
    {
      "cell_type": "code",
      "metadata": {
        "colab": {
          "base_uri": "https://localhost:8080/"
        },
        "id": "UjmDtu-mwEvo",
        "outputId": "cbb9e74c-691f-4a30-bc6a-6756ff7e72b8"
      },
      "source": [
        "# QC Code\n",
        "my_list = ['Quant','Connect',1,2,3]\n",
        "print(my_list[1:3])"
      ],
      "execution_count": null,
      "outputs": [
        {
          "output_type": "stream",
          "name": "stdout",
          "text": [
            "['Connect', 1]\n"
          ]
        }
      ]
    },
    {
      "cell_type": "code",
      "metadata": {
        "colab": {
          "base_uri": "https://localhost:8080/"
        },
        "id": "z0tp1YCdwLhW",
        "outputId": "6fc3b748-8c70-490e-b12d-e04a47049dfa"
      },
      "source": [
        "# Changed code\n",
        "my_list = ['Número', 1, 'Piña', 48]\n",
        "print(my_list[1:3])"
      ],
      "execution_count": null,
      "outputs": [
        {
          "output_type": "stream",
          "name": "stdout",
          "text": [
            "[1, 'Piña']\n"
          ]
        }
      ]
    },
    {
      "cell_type": "markdown",
      "metadata": {
        "id": "l78QRrg-wYGD"
      },
      "source": [
        "---"
      ]
    },
    {
      "cell_type": "code",
      "metadata": {
        "colab": {
          "base_uri": "https://localhost:8080/"
        },
        "id": "2ozAapHAwYrs",
        "outputId": "232be32c-e864-4091-bde6-c0f4e6ea804c"
      },
      "source": [
        "# QC Code\n",
        "my_list = ['Quant','Connect',1,2,3]\n",
        "print(my_list[1:])"
      ],
      "execution_count": null,
      "outputs": [
        {
          "output_type": "stream",
          "name": "stdout",
          "text": [
            "['Connect', 1, 2, 3]\n"
          ]
        }
      ]
    },
    {
      "cell_type": "code",
      "metadata": {
        "colab": {
          "base_uri": "https://localhost:8080/"
        },
        "id": "An4Me-Giwk3c",
        "outputId": "e6feb393-a85b-4308-cec3-79083021bac4"
      },
      "source": [
        "# Changed code\n",
        "my_list = ['Número', 1, 'Piña', 48]\n",
        "print(my_list[1:])"
      ],
      "execution_count": null,
      "outputs": [
        {
          "output_type": "stream",
          "name": "stdout",
          "text": [
            "[1, 'Piña', 48]\n"
          ]
        }
      ]
    },
    {
      "cell_type": "markdown",
      "metadata": {
        "id": "rSOOJ9UbwysE"
      },
      "source": [
        "---"
      ]
    },
    {
      "cell_type": "code",
      "metadata": {
        "colab": {
          "base_uri": "https://localhost:8080/"
        },
        "id": "Spb296xMwzYU",
        "outputId": "b38eeeff-3d51-43da-f5b6-6fc0582e2834"
      },
      "source": [
        "# QC Code\n",
        "my_list = ['Quant','Connect',1,2,3]\n",
        "print(my_list[:3])"
      ],
      "execution_count": null,
      "outputs": [
        {
          "output_type": "stream",
          "name": "stdout",
          "text": [
            "['Quant', 'Connect', 1]\n"
          ]
        }
      ]
    },
    {
      "cell_type": "code",
      "metadata": {
        "colab": {
          "base_uri": "https://localhost:8080/"
        },
        "id": "oqrldSrsw5qf",
        "outputId": "272af6e6-9307-4604-d600-8054553c31e5"
      },
      "source": [
        "# Changed code\n",
        "my_list = ['Número', 1, 'Piña', 48]\n",
        "print(my_list[:3])"
      ],
      "execution_count": null,
      "outputs": [
        {
          "output_type": "stream",
          "name": "stdout",
          "text": [
            "['Número', 1, 'Piña']\n"
          ]
        }
      ]
    },
    {
      "cell_type": "markdown",
      "metadata": {
        "id": "r0Fv9updxJR2"
      },
      "source": [
        "---"
      ]
    },
    {
      "cell_type": "code",
      "metadata": {
        "colab": {
          "base_uri": "https://localhost:8080/"
        },
        "id": "tmZCStbcxKjC",
        "outputId": "325a059f-4461-46ec-e9f2-5c9d06b7acb9"
      },
      "source": [
        "# QC Code\n",
        "my_list = ['Hello', 'Quant']\n",
        "my_list.append('Hello')\n",
        "print(my_list)\n",
        "my_list.remove('Hello')\n",
        "print(my_list)"
      ],
      "execution_count": null,
      "outputs": [
        {
          "output_type": "stream",
          "name": "stdout",
          "text": [
            "['Hello', 'Quant', 'Hello']\n",
            "['Quant', 'Hello']\n"
          ]
        }
      ]
    },
    {
      "cell_type": "code",
      "metadata": {
        "colab": {
          "base_uri": "https://localhost:8080/"
        },
        "id": "wTAg4u4axUvF",
        "outputId": "3105bed9-f0a7-419a-a365-05269f1925d0"
      },
      "source": [
        "# Changed code\n",
        "my_list = ['Número', 1, 'Piña', 48]\n",
        "my_list.append('Piña')\n",
        "print(my_list)\n",
        "my_list.remove('Piña')\n",
        "print(my_list)"
      ],
      "execution_count": null,
      "outputs": [
        {
          "output_type": "stream",
          "name": "stdout",
          "text": [
            "['Número', 1, 'Piña', 48, 'Piña']\n",
            "['Número', 1, 48, 'Piña']\n"
          ]
        }
      ]
    },
    {
      "cell_type": "markdown",
      "metadata": {
        "id": "_-Np1xjNxn-T"
      },
      "source": [
        "---"
      ]
    },
    {
      "cell_type": "code",
      "metadata": {
        "id": "lKvtQVrHxovd",
        "colab": {
          "base_uri": "https://localhost:8080/"
        },
        "outputId": "66ec8090-dfc8-403a-f1a7-29d0eddd2add"
      },
      "source": [
        "# QC Code\n",
        "my_tuple = ('Welcome','to','QuantConnect')\n",
        "print(my_tuple[1:]) "
      ],
      "execution_count": null,
      "outputs": [
        {
          "output_type": "stream",
          "name": "stdout",
          "text": [
            "('to', 'QuantConnect')\n"
          ]
        }
      ]
    },
    {
      "cell_type": "code",
      "metadata": {
        "colab": {
          "base_uri": "https://localhost:8080/"
        },
        "id": "rkc39VeazWZJ",
        "outputId": "980af387-5556-4780-d6c6-c49fa978aa37"
      },
      "source": [
        "# Changed code\n",
        "my_tuple = ('Hola','Piñata','Perro')\n",
        "print(my_tuple[1:]) "
      ],
      "execution_count": null,
      "outputs": [
        {
          "output_type": "stream",
          "name": "stdout",
          "text": [
            "('Piñata', 'Perro')\n"
          ]
        }
      ]
    },
    {
      "cell_type": "markdown",
      "metadata": {
        "id": "8NB_jsUE0NUI"
      },
      "source": [
        "---"
      ]
    },
    {
      "cell_type": "code",
      "metadata": {
        "colab": {
          "base_uri": "https://localhost:8080/"
        },
        "id": "-U9yW7S20OPT",
        "outputId": "5f5a8cd1-ba29-4caa-a212-c530787a4ab5"
      },
      "source": [
        "# QC Code\n",
        "stock_list = ['AAPL','GOOG','IBM','AAPL','IBM','FB','F','GOOG']\n",
        "stock_set = set(stock_list)\n",
        "print(stock_set)"
      ],
      "execution_count": null,
      "outputs": [
        {
          "output_type": "stream",
          "name": "stdout",
          "text": [
            "{'AAPL', 'FB', 'IBM', 'GOOG', 'F'}\n"
          ]
        }
      ]
    },
    {
      "cell_type": "code",
      "metadata": {
        "colab": {
          "base_uri": "https://localhost:8080/"
        },
        "id": "hLdKVyVP0bP_",
        "outputId": "5c347bec-a37a-4450-eb9f-713bd372c73a"
      },
      "source": [
        "# Changed code\n",
        "stock_list = ['Antonio','Benito','Carlos','Daniela','Elena','Fernando','Gabriela','Hernán', 'Antonio', 'Fernando']\n",
        "stock_set = set(stock_list)\n",
        "print(stock_set)"
      ],
      "execution_count": null,
      "outputs": [
        {
          "output_type": "stream",
          "name": "stdout",
          "text": [
            "{'Fernando', 'Carlos', 'Daniela', 'Antonio', 'Hernán', 'Elena', 'Gabriela', 'Benito'}\n"
          ]
        }
      ]
    },
    {
      "cell_type": "markdown",
      "metadata": {
        "id": "uOyWWylB0wTi"
      },
      "source": [
        "---"
      ]
    },
    {
      "cell_type": "code",
      "metadata": {
        "colab": {
          "base_uri": "https://localhost:8080/"
        },
        "id": "LVVFgTm60w66",
        "outputId": "464ef828-4163-4317-8836-61976547fae6"
      },
      "source": [
        "# QC Code\n",
        "my_dic = {'AAPL': 'Apple', 'FB': 'FaceBook', 'GOOG': 'Alphabet'}\n",
        "print(my_dic['GOOG'])"
      ],
      "execution_count": null,
      "outputs": [
        {
          "output_type": "stream",
          "name": "stdout",
          "text": [
            "Alphabet\n"
          ]
        }
      ]
    },
    {
      "cell_type": "code",
      "metadata": {
        "colab": {
          "base_uri": "https://localhost:8080/"
        },
        "id": "fLhVLNfh1Lkj",
        "outputId": "fa51c96f-0e2a-44ed-a476-7a820fbc4038"
      },
      "source": [
        "# Changed code\n",
        "my_dic = {'item1': 48, 'FBI': 'CSI', 'key': 'DOG'}\n",
        "print(my_dic['FBI'])"
      ],
      "execution_count": null,
      "outputs": [
        {
          "output_type": "stream",
          "name": "stdout",
          "text": [
            "CSI\n"
          ]
        }
      ]
    },
    {
      "cell_type": "markdown",
      "metadata": {
        "id": "_iIbwuUI1gve"
      },
      "source": [
        "---"
      ]
    },
    {
      "cell_type": "code",
      "metadata": {
        "colab": {
          "base_uri": "https://localhost:8080/"
        },
        "id": "w1CM2oWc1hni",
        "outputId": "f4236294-c6d5-40fc-e58a-ce91cf320219"
      },
      "source": [
        "# QC Code\n",
        "my_dic = {'AAPL': 'Apple', 'FB': 'FaceBook', 'GOOG': 'Alphabet'}\n",
        "my_dic['GOOG'] = 'Alphabet Company'\n",
        "print(my_dic['GOOG'])"
      ],
      "execution_count": null,
      "outputs": [
        {
          "output_type": "stream",
          "name": "stdout",
          "text": [
            "Alphabet Company\n"
          ]
        }
      ]
    },
    {
      "cell_type": "code",
      "metadata": {
        "colab": {
          "base_uri": "https://localhost:8080/"
        },
        "id": "NGaa0KvH1pjO",
        "outputId": "900d8746-d3db-4b82-87df-75a60d24ed00"
      },
      "source": [
        "# Changed code\n",
        "my_dic = {'item1': 48, 'FBI': 'CSI', 'key': 'DOG'}\n",
        "my_dic['FBI'] = 'Criminal Minds'\n",
        "print(my_dic['FBI'])"
      ],
      "execution_count": null,
      "outputs": [
        {
          "output_type": "stream",
          "name": "stdout",
          "text": [
            "Criminal Minds\n"
          ]
        }
      ]
    },
    {
      "cell_type": "markdown",
      "metadata": {
        "id": "hmu-k-v217Iu"
      },
      "source": [
        "---"
      ]
    },
    {
      "cell_type": "code",
      "metadata": {
        "colab": {
          "base_uri": "https://localhost:8080/"
        },
        "id": "ffeP3sjS17zu",
        "outputId": "7901c4c7-07a6-4e71-ffb1-e97499e00144"
      },
      "source": [
        "# QC Code\n",
        "my_dic = {'AAPL': 'Apple', 'FB': 'FaceBook', 'GOOG': 'Alphabet'}\n",
        "print(my_dic.keys())"
      ],
      "execution_count": null,
      "outputs": [
        {
          "output_type": "stream",
          "name": "stdout",
          "text": [
            "dict_keys(['AAPL', 'FB', 'GOOG'])\n"
          ]
        }
      ]
    },
    {
      "cell_type": "code",
      "metadata": {
        "colab": {
          "base_uri": "https://localhost:8080/"
        },
        "id": "Wu7HM1ES2DOD",
        "outputId": "5984fb74-7060-4eaf-f82c-d04f38dc8d9a"
      },
      "source": [
        "# Changed code\n",
        "my_dic = {'item1': 48, 'FBI': 'CSI', 'key': 'DOG'}\n",
        "print(my_dic.keys())"
      ],
      "execution_count": null,
      "outputs": [
        {
          "output_type": "stream",
          "name": "stdout",
          "text": [
            "dict_keys(['item1', 'FBI', 'key'])\n"
          ]
        }
      ]
    },
    {
      "cell_type": "markdown",
      "metadata": {
        "id": "Vc3HNwEQeXcs"
      },
      "source": [
        "### <font color='deepskyblue'> **1.4.** Common String Operations</font>"
      ]
    },
    {
      "cell_type": "code",
      "metadata": {
        "colab": {
          "base_uri": "https://localhost:8080/"
        },
        "id": "DaZ37D2D2SZ0",
        "outputId": "096c929d-3a20-4465-b667-04d7ffb41405"
      },
      "source": [
        "# QC Code\n",
        "my_str = 'Welcome to QuantConnect'\n",
        "print(my_str[8:])"
      ],
      "execution_count": null,
      "outputs": [
        {
          "output_type": "stream",
          "name": "stdout",
          "text": [
            "to QuantConnect\n"
          ]
        }
      ]
    },
    {
      "cell_type": "code",
      "metadata": {
        "colab": {
          "base_uri": "https://localhost:8080/"
        },
        "id": "7B-NUjtr2Xjs",
        "outputId": "06015684-b88e-4175-cdf5-790303cdcf7d"
      },
      "source": [
        "# Changed code\n",
        "my_str = 'Slicing desde el caracter en la posición 7'\n",
        "print(my_str[7:])"
      ],
      "execution_count": null,
      "outputs": [
        {
          "output_type": "stream",
          "name": "stdout",
          "text": [
            " desde el caracter en la posición 7\n"
          ]
        }
      ]
    },
    {
      "cell_type": "markdown",
      "metadata": {
        "id": "eIuyJERw2mW6"
      },
      "source": [
        "---"
      ]
    },
    {
      "cell_type": "code",
      "metadata": {
        "colab": {
          "base_uri": "https://localhost:8080/"
        },
        "id": "CA7Vf0jQ2nEJ",
        "outputId": "f735dd7d-a67b-4d68-c55a-f9ab70096341"
      },
      "source": [
        "# QC Code\n",
        "print(\"Counting the number of e's in this sentence\".count('e'))\n",
        "print('The first time e appears in this sentence'.find('e'))\n",
        "print('all the a in this sentence now becomes e'.replace('a','e'))"
      ],
      "execution_count": null,
      "outputs": [
        {
          "output_type": "stream",
          "name": "stdout",
          "text": [
            "6\n",
            "2\n",
            "ell the e in this sentence now becomes e\n"
          ]
        }
      ]
    },
    {
      "cell_type": "code",
      "metadata": {
        "colab": {
          "base_uri": "https://localhost:8080/"
        },
        "id": "z_XIXfhr2vlI",
        "outputId": "190a9f01-3cfb-400d-87c1-456545792c6e"
      },
      "source": [
        "# Changed code\n",
        "print(\"Este semestre es excelente\".count('e'))\n",
        "print('El número que resultará de aplicar este método es el 6'.find('e'))\n",
        "print('Este semestre es excelente'.replace('e','3')) "
      ],
      "execution_count": null,
      "outputs": [
        {
          "output_type": "stream",
          "name": "stdout",
          "text": [
            "9\n",
            "6\n",
            "Est3 s3m3str3 3s 3xc3l3nt3\n"
          ]
        }
      ]
    },
    {
      "cell_type": "markdown",
      "metadata": {
        "id": "XiyX7tFt4AmI"
      },
      "source": [
        "---"
      ]
    },
    {
      "cell_type": "code",
      "metadata": {
        "colab": {
          "base_uri": "https://localhost:8080/"
        },
        "id": "5J8B6uHs4BQV",
        "outputId": "0be5b8ec-f29a-4436-9c9a-95380a536a11"
      },
      "source": [
        "# QC Code\n",
        "Time = '2016-04-01 09:43:00'\n",
        "splited_list = Time.split(' ')\n",
        "date = splited_list[0]\n",
        "time = splited_list[1]\n",
        "print(date, time)\n",
        "hour = time.split(':')[0]\n",
        "print(hour)"
      ],
      "execution_count": null,
      "outputs": [
        {
          "output_type": "stream",
          "name": "stdout",
          "text": [
            "2016-04-01 09:43:00\n",
            "09\n"
          ]
        }
      ]
    },
    {
      "cell_type": "code",
      "metadata": {
        "colab": {
          "base_uri": "https://localhost:8080/"
        },
        "id": "7qLHcmrO4XqK",
        "outputId": "6632165a-128a-43d3-c490-752ecebdd513"
      },
      "source": [
        "# Changed code\n",
        "Time = '2077-07-07 12:13:14'\n",
        "splited_list = Time.split(' ')\n",
        "date = splited_list[0]\n",
        "time = splited_list[1]\n",
        "print(date, time)\n",
        "hour = time.split(':')[1]\n",
        "print(hour)"
      ],
      "execution_count": null,
      "outputs": [
        {
          "output_type": "stream",
          "name": "stdout",
          "text": [
            "2077-07-07 12:13:14\n",
            "13\n"
          ]
        }
      ]
    },
    {
      "cell_type": "markdown",
      "metadata": {
        "id": "wiZ65ZHA4lB7"
      },
      "source": [
        "---"
      ]
    },
    {
      "cell_type": "code",
      "metadata": {
        "colab": {
          "base_uri": "https://localhost:8080/"
        },
        "id": "S52b8pFD4lu7",
        "outputId": "e05d826c-757b-4299-db65-d55c8a82d507"
      },
      "source": [
        "# QC Code\n",
        "my_time = 'Hour: {}, Minute: {}'.format(9, 43)\n",
        "print(my_time)"
      ],
      "execution_count": null,
      "outputs": [
        {
          "output_type": "stream",
          "name": "stdout",
          "text": [
            "Hour: 9, Minute: 43\n"
          ]
        }
      ]
    },
    {
      "cell_type": "code",
      "metadata": {
        "colab": {
          "base_uri": "https://localhost:8080/"
        },
        "id": "f_WiBS2K5Y2d",
        "outputId": "7ecbf973-d9a9-447a-af35-3e8ee87895ce"
      },
      "source": [
        "# Changed code\n",
        "my_time = 'Name: {}, Age: {}, Work: {}'.format('Albertito', 18, 'Baker')\n",
        "print(my_time)"
      ],
      "execution_count": null,
      "outputs": [
        {
          "output_type": "stream",
          "name": "stdout",
          "text": [
            "Name: Albertito, Age: 18, Work: Baker\n"
          ]
        }
      ]
    },
    {
      "cell_type": "markdown",
      "metadata": {
        "id": "EiKFjpNW5woJ"
      },
      "source": [
        "---"
      ]
    },
    {
      "cell_type": "code",
      "metadata": {
        "colab": {
          "base_uri": "https://localhost:8080/"
        },
        "id": "JY_l8N5g5xWy",
        "outputId": "d160b435-d8c8-4f5f-d1e9-402c3a0e4f1f"
      },
      "source": [
        "# QC Code\n",
        "print('pi is %f' % 3.14)\n",
        "print('%s to %s' % ('Welcome', 'QuantConnect'))"
      ],
      "execution_count": null,
      "outputs": [
        {
          "output_type": "stream",
          "name": "stdout",
          "text": [
            "pi is 3.140000\n",
            "Welcome to QuantConnect\n"
          ]
        }
      ]
    },
    {
      "cell_type": "code",
      "metadata": {
        "colab": {
          "base_uri": "https://localhost:8080/"
        },
        "id": "r0Y_hBDo6FYe",
        "outputId": "43e22398-660c-481e-a5ed-77c7f864eba1"
      },
      "source": [
        "# Changed code\n",
        "print('euler is not %f' % 4)\n",
        "print('%s to %s' % ('Welcome', 'the Jungle'))"
      ],
      "execution_count": null,
      "outputs": [
        {
          "output_type": "stream",
          "name": "stdout",
          "text": [
            "euler is not 4.000000\n",
            "Welcome to the Jungle\n"
          ]
        }
      ]
    },
    {
      "cell_type": "markdown",
      "metadata": {
        "id": "pAI-aIkKedxK"
      },
      "source": [
        "## <font color='dodgerblue'>2. **Logical Operations and Loops**</font>"
      ]
    },
    {
      "cell_type": "markdown",
      "metadata": {
        "id": "PPHDubvGoiz0"
      },
      "source": [
        "### <font color='deepskyblue'> **2.1.** Logical Operations</font>"
      ]
    },
    {
      "cell_type": "code",
      "metadata": {
        "colab": {
          "base_uri": "https://localhost:8080/"
        },
        "id": "WgMS-wV_6leM",
        "outputId": "666a1532-dd06-483c-fac8-638a0567afe4"
      },
      "source": [
        "# QC Code\n",
        "print(1 == 0)    # 1 equals 0\n",
        "print(1 == 1)    # 1 equals 1\n",
        "print(1 != 0)    # 1 is not equal to 0\n",
        "print(5 >= 5)    # 5 is greater than or equal to 5\n",
        "print(5 >= 6)    # 5 is greater than or equal to 6"
      ],
      "execution_count": null,
      "outputs": [
        {
          "output_type": "stream",
          "name": "stdout",
          "text": [
            "False\n",
            "True\n",
            "True\n",
            "True\n",
            "False\n"
          ]
        }
      ]
    },
    {
      "cell_type": "code",
      "metadata": {
        "colab": {
          "base_uri": "https://localhost:8080/"
        },
        "id": "3OW612tY7DCU",
        "outputId": "a2246bd9-23e2-44b3-b52a-dbec443660e2"
      },
      "source": [
        "# Changed code\n",
        "print(9 == 9)    # 1 equals 0\n",
        "print(1 != 1)    # 1 equals 1\n",
        "print(1 != 1)    # 1 is not equal to 0\n",
        "print(48 >= 5)   # 5 is greater than or equal to 5\n",
        "print(13 >= 34)  # 5 is greater than or equal to 6"
      ],
      "execution_count": null,
      "outputs": [
        {
          "output_type": "stream",
          "name": "stdout",
          "text": [
            "True\n",
            "False\n",
            "False\n",
            "True\n",
            "False\n"
          ]
        }
      ]
    },
    {
      "cell_type": "markdown",
      "metadata": {
        "id": "Hypg6lx27QHG"
      },
      "source": [
        "---"
      ]
    },
    {
      "cell_type": "code",
      "metadata": {
        "colab": {
          "base_uri": "https://localhost:8080/"
        },
        "id": "oC78BtKt7Q0m",
        "outputId": "d2f03fe6-b3b3-4eac-8952-c806f53a8bcd"
      },
      "source": [
        "# QC Code\n",
        "print(2 > 1 and 3 > 2)\n",
        "print(2 > 1 and 3 < 2)\n",
        "print(2 > 1 or  3 < 2)\n",
        "print(2 < 1 and 3 < 2)"
      ],
      "execution_count": null,
      "outputs": [
        {
          "output_type": "stream",
          "name": "stdout",
          "text": [
            "True\n",
            "False\n",
            "True\n",
            "False\n"
          ]
        }
      ]
    },
    {
      "cell_type": "code",
      "metadata": {
        "colab": {
          "base_uri": "https://localhost:8080/"
        },
        "id": "wF81HKBW7boP",
        "outputId": "63f52870-b238-41bf-f9c4-c25fb15345b9"
      },
      "source": [
        "# Changed code\n",
        "print(3 > 4 and 3 > 2)\n",
        "print(72 > 14 and 93 < 7)\n",
        "print(22 > 11 or  38 < 52)\n",
        "print(3 < 1 and 4 < 5)"
      ],
      "execution_count": null,
      "outputs": [
        {
          "output_type": "stream",
          "name": "stdout",
          "text": [
            "False\n",
            "False\n",
            "True\n",
            "False\n"
          ]
        }
      ]
    },
    {
      "cell_type": "markdown",
      "metadata": {
        "id": "34NuudWC7xpp"
      },
      "source": [
        "---"
      ]
    },
    {
      "cell_type": "code",
      "metadata": {
        "colab": {
          "base_uri": "https://localhost:8080/"
        },
        "id": "E4_A60Iw7yPv",
        "outputId": "068f13ea-c8b6-4d85-8db0-206f61269277"
      },
      "source": [
        "# QC Code\n",
        "print((3 > 2 or 1 < 3) and (1!=3 and 4>3) and not ( 3 < 2 or 1 < 3 and (1!=3 and 4>3)))\n",
        "print(3 > 2 or 1 < 3 and (1!=3 and 4>3) and not ( 3 < 2 or 1 < 3 and (1!=3 and 4>3)))"
      ],
      "execution_count": null,
      "outputs": [
        {
          "output_type": "stream",
          "name": "stdout",
          "text": [
            "False\n",
            "True\n"
          ]
        }
      ]
    },
    {
      "cell_type": "code",
      "metadata": {
        "colab": {
          "base_uri": "https://localhost:8080/"
        },
        "id": "CqncL5T478vn",
        "outputId": "8cc529fe-ac67-4bb4-e89b-bca83ffefe15"
      },
      "source": [
        "# Changed code\n",
        "print((1 == 1) and (2 > 0) and (4 != 9) and (0 == 0) or (7 < 2))\n",
        "print(1 == 1 and 2 > 0 and 4 != 9 and (0 != 0 or 7 < 2))"
      ],
      "execution_count": null,
      "outputs": [
        {
          "output_type": "stream",
          "name": "stdout",
          "text": [
            "True\n",
            "False\n"
          ]
        }
      ]
    },
    {
      "cell_type": "markdown",
      "metadata": {
        "id": "GwZ4ecXaovow"
      },
      "source": [
        "### <font color='deepskyblue'> **2.2.** If Statement</font>"
      ]
    },
    {
      "cell_type": "code",
      "metadata": {
        "colab": {
          "base_uri": "https://localhost:8080/"
        },
        "id": "rl-8cBZf9LvP",
        "outputId": "b066f7eb-25e6-4ac5-aa12-b487f2b88483"
      },
      "source": [
        "# QC Code\n",
        "i = 0\n",
        "if i == 0: print('i == 0 is True')"
      ],
      "execution_count": null,
      "outputs": [
        {
          "output_type": "stream",
          "name": "stdout",
          "text": [
            "i == 0 is True\n"
          ]
        }
      ]
    },
    {
      "cell_type": "code",
      "metadata": {
        "colab": {
          "base_uri": "https://localhost:8080/"
        },
        "id": "x_rgChlu9SIZ",
        "outputId": "0475eba0-3eac-4a4a-cea4-60f55ecedfa0"
      },
      "source": [
        "# Changed code\n",
        "i = 4725132\n",
        "if i == 4725132: print('i == 4725135 is False')"
      ],
      "execution_count": null,
      "outputs": [
        {
          "output_type": "stream",
          "name": "stdout",
          "text": [
            "i == 4725135 is False\n"
          ]
        }
      ]
    },
    {
      "cell_type": "markdown",
      "metadata": {
        "id": "VMph_AYb9eOX"
      },
      "source": [
        "---"
      ]
    },
    {
      "cell_type": "code",
      "metadata": {
        "colab": {
          "base_uri": "https://localhost:8080/"
        },
        "id": "6rRbJNsG9eya",
        "outputId": "0c275a63-ec49-45c5-8719-920cab929cce"
      },
      "source": [
        "# QC Code\n",
        "p = 1 > 0\n",
        "q = 2 > 3\n",
        "if p and q:\n",
        "    print('p and q is true')\n",
        "elif p and not q:\n",
        "    print('q is false')\n",
        "elif q and not p:\n",
        "    print('p is false')\n",
        "else:\n",
        "    print('None of p and q is true')"
      ],
      "execution_count": null,
      "outputs": [
        {
          "output_type": "stream",
          "name": "stdout",
          "text": [
            "q is false\n"
          ]
        }
      ]
    },
    {
      "cell_type": "code",
      "metadata": {
        "colab": {
          "base_uri": "https://localhost:8080/"
        },
        "id": "1a1_p6mo9rr0",
        "outputId": "782aa464-f5d1-4170-d2ce-5679d17bcd4c"
      },
      "source": [
        "# Changed code\n",
        "p = 0 == 0\n",
        "q = 4725132 < 4725133\n",
        "if p and q:\n",
        "    print('p and q is true')\n",
        "elif p and not q:\n",
        "    print('q is false')\n",
        "elif q and not p:\n",
        "    print('p is false')\n",
        "else:\n",
        "    print('None of p and q is true')"
      ],
      "execution_count": null,
      "outputs": [
        {
          "output_type": "stream",
          "name": "stdout",
          "text": [
            "p and q is true\n"
          ]
        }
      ]
    },
    {
      "cell_type": "markdown",
      "metadata": {
        "id": "hSzJd-TupMfx"
      },
      "source": [
        "### <font color='deepskyblue'> **2.3.** Loop Structure</font>"
      ]
    },
    {
      "cell_type": "code",
      "metadata": {
        "colab": {
          "base_uri": "https://localhost:8080/"
        },
        "id": "_i4uSjP4-AO0",
        "outputId": "2e2e69e4-0462-42bd-d324-6e597dae90f2"
      },
      "source": [
        "# QC Code\n",
        "i = 0\n",
        "while i < 5:\n",
        "    print(i)\n",
        "    i += 1"
      ],
      "execution_count": null,
      "outputs": [
        {
          "output_type": "stream",
          "name": "stdout",
          "text": [
            "0\n",
            "1\n",
            "2\n",
            "3\n",
            "4\n"
          ]
        }
      ]
    },
    {
      "cell_type": "code",
      "metadata": {
        "colab": {
          "base_uri": "https://localhost:8080/"
        },
        "id": "NzTTEdoT-Eoi",
        "outputId": "c0c2a9d7-d6c4-4a2e-f3bc-41ef0db75714"
      },
      "source": [
        "# Changed code\n",
        "i = 4725132\n",
        "while i <= 4725140:\n",
        "    print(i)\n",
        "    i += 1"
      ],
      "execution_count": null,
      "outputs": [
        {
          "output_type": "stream",
          "name": "stdout",
          "text": [
            "4725132\n",
            "4725133\n",
            "4725134\n",
            "4725135\n",
            "4725136\n",
            "4725137\n",
            "4725138\n",
            "4725139\n",
            "4725140\n"
          ]
        }
      ]
    },
    {
      "cell_type": "markdown",
      "metadata": {
        "id": "copDn-SP-UZn"
      },
      "source": [
        "---"
      ]
    },
    {
      "cell_type": "code",
      "metadata": {
        "colab": {
          "base_uri": "https://localhost:8080/"
        },
        "id": "9weCnTnK-U-C",
        "outputId": "5bf1236e-a108-4920-bb72-a0b0f2ef2434"
      },
      "source": [
        "# QC Code\n",
        "for x in [1,2,3,4,5]: print(x)"
      ],
      "execution_count": null,
      "outputs": [
        {
          "output_type": "stream",
          "name": "stdout",
          "text": [
            "1\n",
            "2\n",
            "3\n",
            "4\n",
            "5\n"
          ]
        }
      ]
    },
    {
      "cell_type": "code",
      "metadata": {
        "colab": {
          "base_uri": "https://localhost:8080/"
        },
        "id": "HWAOpSXJ-ZZb",
        "outputId": "531c162a-2758-4209-fc99-21292434534b"
      },
      "source": [
        "# Changed code\n",
        "for x in ['Uno', 'Dos', 'Tres', 'Cuatro']: print(x)"
      ],
      "execution_count": null,
      "outputs": [
        {
          "output_type": "stream",
          "name": "stdout",
          "text": [
            "Uno\n",
            "Dos\n",
            "Tres\n",
            "Cuatro\n"
          ]
        }
      ]
    },
    {
      "cell_type": "markdown",
      "metadata": {
        "id": "2zurh6w--my8"
      },
      "source": [
        "---"
      ]
    },
    {
      "cell_type": "code",
      "metadata": {
        "colab": {
          "base_uri": "https://localhost:8080/"
        },
        "id": "DWaVUFxu-nxM",
        "outputId": "e791f08d-c304-4a5a-e032-be87b4d79b06"
      },
      "source": [
        "# QC Code\n",
        "stocks = ['AAPL','GOOG','IBM','FB','F','V', 'G', 'GE']\n",
        "selected = ['AAPL','IBM']\n",
        "new_list = []\n",
        "for stock in stocks:\n",
        "    if stock not in selected:\n",
        "        new_list.append(stock)\n",
        "print(new_list)"
      ],
      "execution_count": null,
      "outputs": [
        {
          "output_type": "stream",
          "name": "stdout",
          "text": [
            "['GOOG', 'FB', 'F', 'V', 'G', 'GE']\n"
          ]
        }
      ]
    },
    {
      "cell_type": "code",
      "metadata": {
        "colab": {
          "base_uri": "https://localhost:8080/"
        },
        "id": "Pt9iYAgT-uDT",
        "outputId": "cf712811-72a3-4480-9abc-849bc5cd75c8"
      },
      "source": [
        "# Changed code\n",
        "stocks = ['Manzana', 'Piña', 'Lechuga', 'Tomate']\n",
        "selected = ['Manzana','Lechuga']\n",
        "new_list = []\n",
        "for stock in stocks:\n",
        "    if stock not in selected:\n",
        "        new_list.append(stock)\n",
        "print(new_list)"
      ],
      "execution_count": null,
      "outputs": [
        {
          "output_type": "stream",
          "name": "stdout",
          "text": [
            "['Piña', 'Tomate']\n"
          ]
        }
      ]
    },
    {
      "cell_type": "markdown",
      "metadata": {
        "id": "8V1XchsT_qv8"
      },
      "source": [
        "---"
      ]
    },
    {
      "cell_type": "code",
      "metadata": {
        "colab": {
          "base_uri": "https://localhost:8080/"
        },
        "id": "q9HcO8jR_rvW",
        "outputId": "0cec1d6c-1a74-4248-b9b1-914f88c872ef"
      },
      "source": [
        "# QC Code\n",
        "stocks = ['AAPL','GOOG','IBM','FB','F','V', 'G', 'GE']\n",
        "for stock in stocks:\n",
        "    print(stock)\n",
        "    if stock == 'FB': break"
      ],
      "execution_count": null,
      "outputs": [
        {
          "output_type": "stream",
          "name": "stdout",
          "text": [
            "AAPL\n",
            "GOOG\n",
            "IBM\n",
            "FB\n"
          ]
        }
      ]
    },
    {
      "cell_type": "code",
      "metadata": {
        "colab": {
          "base_uri": "https://localhost:8080/"
        },
        "id": "pOcFECpiArcT",
        "outputId": "e6b29249-7698-4626-9f1c-3ec7066a8daf"
      },
      "source": [
        "# Changed code\n",
        "stocks = ['Manzana', 'Piña', 'Lechuga', 'Tomate']\n",
        "for stock in stocks:\n",
        "    print(stock)\n",
        "    if stock == 'Piña': break"
      ],
      "execution_count": null,
      "outputs": [
        {
          "output_type": "stream",
          "name": "stdout",
          "text": [
            "Manzana\n",
            "Piña\n"
          ]
        }
      ]
    },
    {
      "cell_type": "markdown",
      "metadata": {
        "id": "WvWoXcVBA7ul"
      },
      "source": [
        "---"
      ]
    },
    {
      "cell_type": "code",
      "metadata": {
        "colab": {
          "base_uri": "https://localhost:8080/"
        },
        "id": "TnXnpZ1aA8VX",
        "outputId": "3954fc32-7eff-48d4-fbff-9020e0b3a161"
      },
      "source": [
        "# QC Code\n",
        "stocks = ['AAPL','GOOG','IBM','FB','F','V', 'G', 'GE']\n",
        "for stock in stocks:\n",
        "    if stock == 'FB': continue\n",
        "    print(stock)"
      ],
      "execution_count": null,
      "outputs": [
        {
          "output_type": "stream",
          "name": "stdout",
          "text": [
            "AAPL\n",
            "GOOG\n",
            "IBM\n",
            "F\n",
            "V\n",
            "G\n",
            "GE\n"
          ]
        }
      ]
    },
    {
      "cell_type": "code",
      "metadata": {
        "colab": {
          "base_uri": "https://localhost:8080/"
        },
        "id": "TLVpLt-kBBFu",
        "outputId": "6a5f96a6-ebca-4d03-de54-025f170202e8"
      },
      "source": [
        "# Changed code\n",
        "stocks = ['Manzana', 'Piña', 'Lechuga', 'Tomate']\n",
        "for stock in stocks:\n",
        "    if stock == 'Piña': continue\n",
        "    print(stock)"
      ],
      "execution_count": null,
      "outputs": [
        {
          "output_type": "stream",
          "name": "stdout",
          "text": [
            "Manzana\n",
            "Lechuga\n",
            "Tomate\n"
          ]
        }
      ]
    },
    {
      "cell_type": "markdown",
      "metadata": {
        "id": "YRlhhCTVpSib"
      },
      "source": [
        "### <font color='deepskyblue'> **2.4.** List Comprehension</font>"
      ]
    },
    {
      "cell_type": "code",
      "metadata": {
        "colab": {
          "base_uri": "https://localhost:8080/"
        },
        "id": "-FmigbwCBNYL",
        "outputId": "8cfeb37e-0599-4af6-d392-9c34d2a0f1e2"
      },
      "source": [
        "# QC Code\n",
        "squares = []\n",
        "for i in [1,2,3,4,5]:\n",
        "    squares.append(i**2)\n",
        "print(squares)"
      ],
      "execution_count": null,
      "outputs": [
        {
          "output_type": "stream",
          "name": "stdout",
          "text": [
            "[1, 4, 9, 16, 25]\n"
          ]
        }
      ]
    },
    {
      "cell_type": "code",
      "metadata": {
        "colab": {
          "base_uri": "https://localhost:8080/"
        },
        "id": "WNi5OuihBTVE",
        "outputId": "3ba30cb7-9db1-4e97-c44d-141c9c9b9324"
      },
      "source": [
        "# Changed code\n",
        "squares = []\n",
        "for i in ['a','b','c','d','e']:\n",
        "    squares.append(i*3)\n",
        "print(squares)"
      ],
      "execution_count": null,
      "outputs": [
        {
          "output_type": "stream",
          "name": "stdout",
          "text": [
            "['aaa', 'bbb', 'ccc', 'ddd', 'eee']\n"
          ]
        }
      ]
    },
    {
      "cell_type": "markdown",
      "metadata": {
        "id": "qPRnynSpB6fJ"
      },
      "source": [
        "---"
      ]
    },
    {
      "cell_type": "code",
      "metadata": {
        "colab": {
          "base_uri": "https://localhost:8080/"
        },
        "id": "kEbG5EIGB7LA",
        "outputId": "53bb3e2d-8f18-48ca-97c0-cbce7f65f44b"
      },
      "source": [
        "# QC Code\n",
        "foo = [1,2,3,4,5]\n",
        "squares = [x**2 for x in foo]\n",
        "print(squares)"
      ],
      "execution_count": null,
      "outputs": [
        {
          "output_type": "stream",
          "name": "stdout",
          "text": [
            "[1, 4, 9, 16, 25]\n"
          ]
        }
      ]
    },
    {
      "cell_type": "code",
      "metadata": {
        "colab": {
          "base_uri": "https://localhost:8080/"
        },
        "id": "w_k7QC_PCCYe",
        "outputId": "cab01373-ac93-442f-b8bf-5de829ead70b"
      },
      "source": [
        "# Changed code\n",
        "foo = ['a', 'b', 'c', 'd', 'e']\n",
        "squares = [x*3 for x in foo]\n",
        "print(squares)"
      ],
      "execution_count": null,
      "outputs": [
        {
          "output_type": "stream",
          "name": "stdout",
          "text": [
            "['aaa', 'bbb', 'ccc', 'ddd', 'eee']\n"
          ]
        }
      ]
    },
    {
      "cell_type": "markdown",
      "metadata": {
        "id": "7oCUf0XyCUOW"
      },
      "source": [
        "---"
      ]
    },
    {
      "cell_type": "code",
      "metadata": {
        "colab": {
          "base_uri": "https://localhost:8080/"
        },
        "id": "HSAkgL6qCU2H",
        "outputId": "6e201fb8-1030-4ff5-c705-5e4cdf0ac620"
      },
      "source": [
        "# QC Code\n",
        "stocks = ['AAPL','GOOG','IBM','FB','F','V', 'G', 'GE']\n",
        "selected = ['AAPL','IBM']\n",
        "new_list = [x for x in stocks if x not in selected]\n",
        "print(new_list)"
      ],
      "execution_count": null,
      "outputs": [
        {
          "output_type": "stream",
          "name": "stdout",
          "text": [
            "['GOOG', 'FB', 'F', 'V', 'G', 'GE']\n"
          ]
        }
      ]
    },
    {
      "cell_type": "code",
      "metadata": {
        "colab": {
          "base_uri": "https://localhost:8080/"
        },
        "id": "09REmHbCCcfV",
        "outputId": "37efca07-a7fb-4205-c2f6-d6b4fc5358fd"
      },
      "source": [
        "# Changed code\n",
        "stocks = ['Lápiz','Papel','Esfero','Borrador','Compás','Regla']\n",
        "selected = ['Compás','Esfero']\n",
        "new_list = [x for x in stocks if x not in selected]\n",
        "print(new_list)"
      ],
      "execution_count": null,
      "outputs": [
        {
          "output_type": "stream",
          "name": "stdout",
          "text": [
            "['Lápiz', 'Papel', 'Borrador', 'Regla']\n"
          ]
        }
      ]
    },
    {
      "cell_type": "markdown",
      "metadata": {
        "id": "NeO7toL4C5Aw"
      },
      "source": [
        "---"
      ]
    },
    {
      "cell_type": "code",
      "metadata": {
        "colab": {
          "base_uri": "https://localhost:8080/"
        },
        "id": "Ynd8N3-ZC5qS",
        "outputId": "671a210d-9d8c-49f6-e268-5c829747ed0e"
      },
      "source": [
        "# QC Code\n",
        "print([(x, y) for x in [1,2,3] for y in [3,1,4] if x != y])\n",
        "print([str(x) + ' vs ' + str(y) for x in ['AAPL','GOOG','IBM','FB']\n",
        "                                for y in ['F','V','G','GE'] if x != y])"
      ],
      "execution_count": null,
      "outputs": [
        {
          "output_type": "stream",
          "name": "stdout",
          "text": [
            "[(1, 3), (1, 4), (2, 3), (2, 1), (2, 4), (3, 1), (3, 4)]\n",
            "['AAPL vs F', 'AAPL vs V', 'AAPL vs G', 'AAPL vs GE', 'GOOG vs F', 'GOOG vs V', 'GOOG vs G', 'GOOG vs GE', 'IBM vs F', 'IBM vs V', 'IBM vs G', 'IBM vs GE', 'FB vs F', 'FB vs V', 'FB vs G', 'FB vs GE']\n"
          ]
        }
      ]
    },
    {
      "cell_type": "code",
      "metadata": {
        "colab": {
          "base_uri": "https://localhost:8080/"
        },
        "id": "EVicvmqHEOka",
        "outputId": "92200b66-1339-4b17-b1ce-018753d441d7"
      },
      "source": [
        "# Changed code\n",
        "print([(x, y) for x in ['Andrés','Santiago','Joaquin'] for y in ['Alberto','Santiago','Andrés'] if x != y])\n",
        "print([str(x) + ' vs ' + str(y) for x in ['Andrés','Santiago','Joaquin']\n",
        "                                for y in ['Alberto','Santiago','Andrés'] if x != y])"
      ],
      "execution_count": null,
      "outputs": [
        {
          "output_type": "stream",
          "name": "stdout",
          "text": [
            "[('Andrés', 'Alberto'), ('Andrés', 'Santiago'), ('Santiago', 'Alberto'), ('Santiago', 'Andrés'), ('Joaquin', 'Alberto'), ('Joaquin', 'Santiago'), ('Joaquin', 'Andrés')]\n",
            "['Andrés vs Alberto', 'Andrés vs Santiago', 'Santiago vs Alberto', 'Santiago vs Andrés', 'Joaquin vs Alberto', 'Joaquin vs Santiago', 'Joaquin vs Andrés']\n"
          ]
        }
      ]
    },
    {
      "cell_type": "markdown",
      "metadata": {
        "id": "JCn0pNa9pY04"
      },
      "source": [
        "## <font color='dodgerblue'>3. **Functions and Objective-Oriented Programming**</font>"
      ]
    },
    {
      "cell_type": "markdown",
      "metadata": {
        "id": "Mb8AbiCCpo9c"
      },
      "source": [
        "### <font color='deepskyblue'> **3.1.** Functions</font>"
      ]
    },
    {
      "cell_type": "code",
      "metadata": {
        "colab": {
          "base_uri": "https://localhost:8080/"
        },
        "id": "5f7Ekc-xFsv5",
        "outputId": "c5751ab7-126d-47cd-dd63-cf98d59bb02f"
      },
      "source": [
        "# QC Code\n",
        "def product(x,y):\n",
        "    return x*y\n",
        "print(product(2,3))\n",
        "print(product(5,10))"
      ],
      "execution_count": null,
      "outputs": [
        {
          "output_type": "stream",
          "name": "stdout",
          "text": [
            "6\n",
            "50\n"
          ]
        }
      ]
    },
    {
      "cell_type": "code",
      "metadata": {
        "colab": {
          "base_uri": "https://localhost:8080/"
        },
        "id": "Q-VvfFrMF0Mu",
        "outputId": "43108d1a-ea3b-45d8-8225-b4069650f3c2"
      },
      "source": [
        "# Changed code\n",
        "def product(x,y):\n",
        "    return x*y\n",
        "print(product('Andrea ',4))\n",
        "print(product(2,30))"
      ],
      "execution_count": null,
      "outputs": [
        {
          "output_type": "stream",
          "name": "stdout",
          "text": [
            "Andrea Andrea Andrea Andrea \n",
            "60\n"
          ]
        }
      ]
    },
    {
      "cell_type": "markdown",
      "metadata": {
        "id": "Q4n63VbmGCjm"
      },
      "source": [
        "---"
      ]
    },
    {
      "cell_type": "code",
      "metadata": {
        "colab": {
          "base_uri": "https://localhost:8080/"
        },
        "id": "haaQVbQ8GFMw",
        "outputId": "450e5ea4-5b20-47c7-c357-b8496a483b72"
      },
      "source": [
        "# QC Code\n",
        "def say_hi():\n",
        "    print('Welcome to QuantConnect')\n",
        "say_hi()"
      ],
      "execution_count": null,
      "outputs": [
        {
          "output_type": "stream",
          "name": "stdout",
          "text": [
            "Welcome to QuantConnect\n"
          ]
        }
      ]
    },
    {
      "cell_type": "code",
      "metadata": {
        "colab": {
          "base_uri": "https://localhost:8080/"
        },
        "id": "OOTM15QDGRrZ",
        "outputId": "05c5adb1-bf25-41b3-ed0c-d247404346ad"
      },
      "source": [
        "# Changed code\n",
        "def say_hi():\n",
        "    print('Bienvenido a la Universidad Nacional de Colombia')\n",
        "say_hi()"
      ],
      "execution_count": null,
      "outputs": [
        {
          "output_type": "stream",
          "name": "stdout",
          "text": [
            "Bienvenido a la Universidad Nacional de Colombia\n"
          ]
        }
      ]
    },
    {
      "cell_type": "markdown",
      "metadata": {
        "id": "N_8SdF4upymm"
      },
      "source": [
        "### <font color='deepskyblue'> **3.2.** Built-in Function</font>"
      ]
    },
    {
      "cell_type": "code",
      "metadata": {
        "colab": {
          "base_uri": "https://localhost:8080/"
        },
        "id": "9rGsml5YGYNu",
        "outputId": "56a1c4cb-1bf2-4874-ff70-c1f271c1e254"
      },
      "source": [
        "# QC Code\n",
        "print(range(10))\n",
        "print(range(1, 11))\n",
        "print(range(1, 11, 2))"
      ],
      "execution_count": null,
      "outputs": [
        {
          "output_type": "stream",
          "name": "stdout",
          "text": [
            "range(0, 10)\n",
            "range(1, 11)\n",
            "range(1, 11, 2)\n"
          ]
        }
      ]
    },
    {
      "cell_type": "code",
      "metadata": {
        "colab": {
          "base_uri": "https://localhost:8080/"
        },
        "id": "qabqbWaeG4o8",
        "outputId": "26569f24-0f8b-46e2-c8e3-c973a2b12425"
      },
      "source": [
        "# Changed code\n",
        "print(range(4725132))\n",
        "print(range(1, 4725132))\n",
        "print(range(1, 4725132, 100))"
      ],
      "execution_count": null,
      "outputs": [
        {
          "output_type": "stream",
          "name": "stdout",
          "text": [
            "range(0, 4725132)\n",
            "range(1, 4725132)\n",
            "range(1, 4725132, 100)\n"
          ]
        }
      ]
    },
    {
      "cell_type": "markdown",
      "metadata": {
        "id": "7QPVAb1DHAte"
      },
      "source": [
        "---"
      ]
    },
    {
      "cell_type": "code",
      "metadata": {
        "colab": {
          "base_uri": "https://localhost:8080/"
        },
        "id": "vbEVfNThHBdV",
        "outputId": "63ef623e-30dd-4c45-c030-a0344cb63fc0"
      },
      "source": [
        "# QC Code\n",
        "tickers = ['AAPL', 'GOOGL', 'IBM', 'FB', 'F', 'V', 'G', 'GE']\n",
        "print(\"The number of tickers is {}\".format(len(tickers)))\n",
        "for k in range(len(tickers)):\n",
        "    print(k + 1, tickers[k])"
      ],
      "execution_count": null,
      "outputs": [
        {
          "output_type": "stream",
          "name": "stdout",
          "text": [
            "The number of tickers is 8\n",
            "1 AAPL\n",
            "2 GOOGL\n",
            "3 IBM\n",
            "4 FB\n",
            "5 F\n",
            "6 V\n",
            "7 G\n",
            "8 GE\n"
          ]
        }
      ]
    },
    {
      "cell_type": "code",
      "metadata": {
        "colab": {
          "base_uri": "https://localhost:8080/"
        },
        "id": "1juqxAfXHbG-",
        "outputId": "3f301437-c97a-4030-bc60-78ac5e6032af"
      },
      "source": [
        "# Changed code\n",
        "tickers = ['Papel higiénico', 'Fresas', 'Durex', 'GForce RTX 3090', 'Tabaco', 'Ariel líquido', 'Oka Loka', 'Diablo Rojo']\n",
        "print(\"Hay que comprar {} cosas para completar el mercado:\".format(len(tickers)))\n",
        "for k in range(len(tickers)):\n",
        "    print(k + 1, tickers[k])"
      ],
      "execution_count": null,
      "outputs": [
        {
          "output_type": "stream",
          "name": "stdout",
          "text": [
            "Hay que comprar 8 cosas para completar el mercado:\n",
            "1 Papel higiénico\n",
            "2 Fresas\n",
            "3 Durex\n",
            "4 GForce RTX 3090\n",
            "5 Tabaco\n",
            "6 Ariel líquido\n",
            "7 Oka Loka\n",
            "8 Diablo Rojo\n"
          ]
        }
      ]
    },
    {
      "cell_type": "markdown",
      "metadata": {
        "id": "4XwQmjP1IB1z"
      },
      "source": [
        "---"
      ]
    },
    {
      "cell_type": "code",
      "metadata": {
        "colab": {
          "base_uri": "https://localhost:8080/"
        },
        "id": "GyrUBJKhICm9",
        "outputId": "8e77e0b0-8275-48c0-feab-812b1403bf75"
      },
      "source": [
        "# QC Code\n",
        "tickers = ['AAPL','GOOG','IBM','FB','F','V', 'G', 'GE']\n",
        "print(list(map(len,tickers)))"
      ],
      "execution_count": null,
      "outputs": [
        {
          "output_type": "stream",
          "name": "stdout",
          "text": [
            "[4, 4, 3, 2, 1, 1, 1, 2]\n"
          ]
        }
      ]
    },
    {
      "cell_type": "code",
      "metadata": {
        "colab": {
          "base_uri": "https://localhost:8080/"
        },
        "id": "PRqi_ifHIGcT",
        "outputId": "3b20c0d1-f030-48f7-cc96-c2ac94a676fa"
      },
      "source": [
        "# Changed code\n",
        "tickers = ['AAPL', (1,2), 4, {'Arroz'},'Foca', 4.56]\n",
        "print(list(map(type,tickers)))"
      ],
      "execution_count": null,
      "outputs": [
        {
          "output_type": "stream",
          "name": "stdout",
          "text": [
            "[<class 'str'>, <class 'tuple'>, <class 'int'>, <class 'set'>, <class 'str'>, <class 'float'>]\n"
          ]
        }
      ]
    },
    {
      "cell_type": "markdown",
      "metadata": {
        "id": "eeRKXKzrInMj"
      },
      "source": [
        "---"
      ]
    },
    {
      "cell_type": "code",
      "metadata": {
        "colab": {
          "base_uri": "https://localhost:8080/"
        },
        "id": "tC_SJb6uIoW7",
        "outputId": "a0077eda-a004-4273-d920-83d23566a6ae"
      },
      "source": [
        "# QC Code\n",
        "a = map(lambda x: x**2, range(10))\n",
        "print(list(a))"
      ],
      "execution_count": null,
      "outputs": [
        {
          "output_type": "stream",
          "name": "stdout",
          "text": [
            "[0, 1, 4, 9, 16, 25, 36, 49, 64, 81]\n"
          ]
        }
      ]
    },
    {
      "cell_type": "code",
      "metadata": {
        "colab": {
          "base_uri": "https://localhost:8080/"
        },
        "id": "ZnzmG9xTI5E2",
        "outputId": "f795c9fb-e60b-4ad6-c876-c223ac8e8ec1"
      },
      "source": [
        "# Changed code\n",
        "a = map(lambda x: x-1, range(5))\n",
        "print(list(a))"
      ],
      "execution_count": null,
      "outputs": [
        {
          "output_type": "stream",
          "name": "stdout",
          "text": [
            "[-1, 0, 1, 2, 3]\n"
          ]
        }
      ]
    },
    {
      "cell_type": "markdown",
      "metadata": {
        "id": "UJcHXtXfJbwG"
      },
      "source": [
        "---"
      ]
    },
    {
      "cell_type": "code",
      "metadata": {
        "colab": {
          "base_uri": "https://localhost:8080/"
        },
        "id": "bYwMoDujJcY1",
        "outputId": "801dc4ec-0b0d-45f5-e41f-f2a33f13c5d2"
      },
      "source": [
        "# QC Code\n",
        "a = map(lambda x, y: x+y, [1,2,3,4,5], [5,4,3,2,1])\n",
        "print(list(a))"
      ],
      "execution_count": null,
      "outputs": [
        {
          "output_type": "stream",
          "name": "stdout",
          "text": [
            "[6, 6, 6, 6, 6]\n"
          ]
        }
      ]
    },
    {
      "cell_type": "code",
      "metadata": {
        "colab": {
          "base_uri": "https://localhost:8080/"
        },
        "id": "chvMwnY4KExf",
        "outputId": "6fd15ee3-1150-459c-b09a-b657408635f9"
      },
      "source": [
        "# Changed code\n",
        "a = map(lambda x, y: x+y, ['Quiero ','por ','no ','podido ','...'], ['saber ','qué ','he ','olvidarla','...'])\n",
        "for x in list(a): print(x, end='')"
      ],
      "execution_count": null,
      "outputs": [
        {
          "output_type": "stream",
          "name": "stdout",
          "text": [
            "Quiero saber por qué no he podido olvidarla......"
          ]
        }
      ]
    },
    {
      "cell_type": "markdown",
      "metadata": {
        "id": "FxeNOqT7LJB0"
      },
      "source": [
        "---"
      ]
    },
    {
      "cell_type": "code",
      "metadata": {
        "colab": {
          "base_uri": "https://localhost:8080/"
        },
        "id": "SZR-V4pmLJkF",
        "outputId": "87a40388-43f9-41f3-9526-f5c5c47d4584"
      },
      "source": [
        "# QC Code\n",
        "sorted([5,2,3,4,1])"
      ],
      "execution_count": null,
      "outputs": [
        {
          "output_type": "execute_result",
          "data": {
            "text/plain": [
              "[1, 2, 3, 4, 5]"
            ]
          },
          "metadata": {},
          "execution_count": 131
        }
      ]
    },
    {
      "cell_type": "code",
      "metadata": {
        "colab": {
          "base_uri": "https://localhost:8080/"
        },
        "id": "bSsYJe3bLOBo",
        "outputId": "5b2919d9-8471-4bfa-8392-bf3757e183ca"
      },
      "source": [
        "# Changed code\n",
        "sorted(['a', 'b', 'h', 'd', 'g', 'c', 'e', 'f'])"
      ],
      "execution_count": null,
      "outputs": [
        {
          "output_type": "execute_result",
          "data": {
            "text/plain": [
              "['a', 'b', 'c', 'd', 'e', 'f', 'g', 'h']"
            ]
          },
          "metadata": {},
          "execution_count": 132
        }
      ]
    },
    {
      "cell_type": "markdown",
      "metadata": {
        "id": "SynVcfP8LfNZ"
      },
      "source": [
        "---"
      ]
    },
    {
      "cell_type": "code",
      "metadata": {
        "colab": {
          "base_uri": "https://localhost:8080/"
        },
        "id": "qr5GxsnELf9V",
        "outputId": "26c6bfe0-65c4-40b1-b59a-475f5cd965f4"
      },
      "source": [
        "# QC Code\n",
        "price_list = [('AAPL', 144.09), ('GOOGL', 911.71), ('MSFT', 69), ('FB', 150), ('WMT', 75.32)]\n",
        "sorted(price_list, key = lambda x: x[1])"
      ],
      "execution_count": null,
      "outputs": [
        {
          "output_type": "execute_result",
          "data": {
            "text/plain": [
              "[('MSFT', 69),\n",
              " ('WMT', 75.32),\n",
              " ('AAPL', 144.09),\n",
              " ('FB', 150),\n",
              " ('GOOGL', 911.71)]"
            ]
          },
          "metadata": {},
          "execution_count": 133
        }
      ]
    },
    {
      "cell_type": "code",
      "metadata": {
        "colab": {
          "base_uri": "https://localhost:8080/"
        },
        "id": "MeyQdsO8N8L0",
        "outputId": "de8fb29a-d886-4005-dc04-67f7bcab20b5"
      },
      "source": [
        "# Changed code\n",
        "price_list = [('Barriletes', 2000), ('Lasagna', 5000), ('Desodorante', 8000), ('Papel higiénico', 10000)]\n",
        "sorted(price_list, key = lambda x: x[0])"
      ],
      "execution_count": null,
      "outputs": [
        {
          "output_type": "execute_result",
          "data": {
            "text/plain": [
              "[('Barriletes', 2000),\n",
              " ('Desodorante', 8000),\n",
              " ('Lasagna', 5000),\n",
              " ('Papel higiénico', 10000)]"
            ]
          },
          "metadata": {},
          "execution_count": 135
        }
      ]
    },
    {
      "cell_type": "markdown",
      "metadata": {
        "id": "oXTcrpuBOfVF"
      },
      "source": [
        "---"
      ]
    },
    {
      "cell_type": "code",
      "metadata": {
        "colab": {
          "base_uri": "https://localhost:8080/"
        },
        "id": "VsCEmyGMOgEm",
        "outputId": "c010fdbf-e4da-4d18-8955-b0abcca633d3"
      },
      "source": [
        "# QC Code\n",
        "price_list = [('AAPL', 144.09), ('GOOGL', 911.71), ('MSFT', 69), ('FB', 150), ('WMT', 75.32)]\n",
        "sorted(price_list, key = lambda x: x[1], reverse = True)"
      ],
      "execution_count": null,
      "outputs": [
        {
          "output_type": "execute_result",
          "data": {
            "text/plain": [
              "[('GOOGL', 911.71),\n",
              " ('FB', 150),\n",
              " ('AAPL', 144.09),\n",
              " ('WMT', 75.32),\n",
              " ('MSFT', 69)]"
            ]
          },
          "metadata": {},
          "execution_count": 136
        }
      ]
    },
    {
      "cell_type": "code",
      "metadata": {
        "colab": {
          "base_uri": "https://localhost:8080/"
        },
        "id": "7eP_1aG6REVM",
        "outputId": "ff7fc2b9-ce48-4f56-881f-38fb8a0a57f0"
      },
      "source": [
        "# Changed code\n",
        "price_list = [('Barriletes', 2000), ('Lasagna', 5000), ('Desodorante', 8000), ('Papel higiénico', 10000)]\n",
        "sorted(price_list, key = lambda x: x[0], reverse = True)"
      ],
      "execution_count": null,
      "outputs": [
        {
          "output_type": "execute_result",
          "data": {
            "text/plain": [
              "[('Papel higiénico', 10000),\n",
              " ('Lasagna', 5000),\n",
              " ('Desodorante', 8000),\n",
              " ('Barriletes', 2000)]"
            ]
          },
          "metadata": {},
          "execution_count": 137
        }
      ]
    },
    {
      "cell_type": "markdown",
      "metadata": {
        "id": "fy-ZuejiRLGh"
      },
      "source": [
        "---"
      ]
    },
    {
      "cell_type": "code",
      "metadata": {
        "colab": {
          "base_uri": "https://localhost:8080/"
        },
        "id": "zApMaeEXRL4d",
        "outputId": "7af56928-f9c4-4ded-d98d-2eeb816e572f"
      },
      "source": [
        "# QC Code\n",
        "price_list = [('AAPL', 144.09), ('GOOGL', 911.71), ('MSFT', 69), ('FB', 150), ('WMT', 75.32)]\n",
        "price_list.sort(key = lambda x: x[1])\n",
        "print(price_list)"
      ],
      "execution_count": null,
      "outputs": [
        {
          "output_type": "stream",
          "name": "stdout",
          "text": [
            "[('MSFT', 69), ('WMT', 75.32), ('AAPL', 144.09), ('FB', 150), ('GOOGL', 911.71)]\n"
          ]
        }
      ]
    },
    {
      "cell_type": "code",
      "metadata": {
        "colab": {
          "base_uri": "https://localhost:8080/"
        },
        "id": "olVpZitaR5WA",
        "outputId": "fc307c60-5be4-4ca3-ec0d-db8dc75b8b4f"
      },
      "source": [
        "# Changed code\n",
        "price_list = [('Barriletes', 2000), ('Lasagna', 5000), ('Desodorante', 8000), ('Papel higiénico', 10000)]\n",
        "price_list.sort(key = lambda x: x[0])\n",
        "print(price_list)"
      ],
      "execution_count": null,
      "outputs": [
        {
          "output_type": "stream",
          "name": "stdout",
          "text": [
            "[('Barriletes', 2000), ('Desodorante', 8000), ('Lasagna', 5000), ('Papel higiénico', 10000)]\n"
          ]
        }
      ]
    },
    {
      "cell_type": "markdown",
      "metadata": {
        "id": "AeQ8I153p4MQ"
      },
      "source": [
        "### <font color='deepskyblue'> **3.3.** Object-Oriented Programming</font>"
      ]
    },
    {
      "cell_type": "code",
      "metadata": {
        "colab": {
          "base_uri": "https://localhost:8080/"
        },
        "id": "BTTzSqi2zcic",
        "outputId": "5e879f65-ca46-47d2-c6fd-a47bebafa48f"
      },
      "source": [
        "# QC Code\n",
        "class Stock:\n",
        "    def __init__(self, ticker, open, close, volume):\n",
        "        self.ticker = ticker\n",
        "        self.open = open\n",
        "        self.close = close\n",
        "        self.volume = volume\n",
        "        self.rate_return = float(close)/open - 1\n",
        "\n",
        "    def update(self, open, close):\n",
        "        self.open = open\n",
        "        self.close = close\n",
        "        self.rate_return = float(self.close)/self.open - 1\n",
        "\n",
        "    def print_return(self):\n",
        "        print(self.rate_return)\n",
        "apple  = Stock('AAPL', 143.69, 144.09, 20109375)\n",
        "google = Stock('GOOGL', 898.7, 911.7, 1561616)\n",
        "print(apple.ticker)\n",
        "google.print_return()\n",
        "google.update(912.8,913.4)\n",
        "google.print_return()"
      ],
      "execution_count": 4,
      "outputs": [
        {
          "output_type": "stream",
          "name": "stdout",
          "text": [
            "AAPL\n",
            "0.014465338822744034\n",
            "0.0006573181419806673\n"
          ]
        }
      ]
    },
    {
      "cell_type": "code",
      "metadata": {
        "colab": {
          "base_uri": "https://localhost:8080/"
        },
        "id": "u75Rb_jW5puS",
        "outputId": "d0dedac3-f435-41b3-f16e-91ecdc2d19d3"
      },
      "source": [
        "# Changed code\n",
        "class Fruta:\n",
        "    def __init__(self, Nombre, Caducidad, Cantidad, Precio):\n",
        "        self.nombre = Nombre\n",
        "        self.caducidad = Caducidad\n",
        "        self.cantidad = Cantidad\n",
        "        self.precio = Precio\n",
        "        self.total_price = Cantidad * Precio\n",
        "\n",
        "    def update(self, Cantidad, Precio):\n",
        "        self.cantidad = Cantidad\n",
        "        self.precio = Precio\n",
        "        self.total_price = Cantidad * Precio\n",
        "\n",
        "    def print_total_price(self):\n",
        "        print(self.total_price)\n",
        "fruit  = Fruta('Apple', '07/07/21', 14, 5000)\n",
        "pineapple = Fruta('Pineapple', '09/07/21', 10, 8000)\n",
        "print(fruit.nombre)\n",
        "pineapple.print_total_price()\n",
        "pineapple.update(20, 7500)\n",
        "pineapple.print_total_price()"
      ],
      "execution_count": 5,
      "outputs": [
        {
          "output_type": "stream",
          "name": "stdout",
          "text": [
            "Apple\n",
            "80000\n",
            "150000\n"
          ]
        }
      ]
    },
    {
      "cell_type": "markdown",
      "metadata": {
        "id": "N6tLroT-8rum"
      },
      "source": [
        "---"
      ]
    },
    {
      "cell_type": "code",
      "metadata": {
        "colab": {
          "base_uri": "https://localhost:8080/",
          "height": 35
        },
        "id": "4xF3q-h78sUo",
        "outputId": "7fd54760-f53d-43ca-9a09-d7b178970ae1"
      },
      "source": [
        "# QC Code\n",
        "apple.ceo = 'Tim Cook'\n",
        "apple.ceo"
      ],
      "execution_count": 8,
      "outputs": [
        {
          "output_type": "execute_result",
          "data": {
            "application/vnd.google.colaboratory.intrinsic+json": {
              "type": "string"
            },
            "text/plain": [
              "'Tim Cook'"
            ]
          },
          "metadata": {},
          "execution_count": 8
        }
      ]
    },
    {
      "cell_type": "code",
      "metadata": {
        "colab": {
          "base_uri": "https://localhost:8080/",
          "height": 35
        },
        "id": "OdzzN-cf8xf-",
        "outputId": "9dd398cd-5f07-48a6-9ea3-74856b251934"
      },
      "source": [
        "# Changed code\n",
        "fruit.owner = 'Pablo Palacios'\n",
        "fruit.owner"
      ],
      "execution_count": 9,
      "outputs": [
        {
          "output_type": "execute_result",
          "data": {
            "application/vnd.google.colaboratory.intrinsic+json": {
              "type": "string"
            },
            "text/plain": [
              "'Pablo Palacios'"
            ]
          },
          "metadata": {},
          "execution_count": 9
        }
      ]
    },
    {
      "cell_type": "markdown",
      "metadata": {
        "id": "p7rWZYZM8-h7"
      },
      "source": [
        "---"
      ]
    },
    {
      "cell_type": "code",
      "metadata": {
        "colab": {
          "base_uri": "https://localhost:8080/"
        },
        "id": "XdeBU7aM8_aK",
        "outputId": "5f85e81c-87ed-48f7-d6f0-58a0a227ef5b"
      },
      "source": [
        "# QC Code\n",
        "dir(apple)"
      ],
      "execution_count": 10,
      "outputs": [
        {
          "output_type": "execute_result",
          "data": {
            "text/plain": [
              "['__class__',\n",
              " '__delattr__',\n",
              " '__dict__',\n",
              " '__dir__',\n",
              " '__doc__',\n",
              " '__eq__',\n",
              " '__format__',\n",
              " '__ge__',\n",
              " '__getattribute__',\n",
              " '__gt__',\n",
              " '__hash__',\n",
              " '__init__',\n",
              " '__init_subclass__',\n",
              " '__le__',\n",
              " '__lt__',\n",
              " '__module__',\n",
              " '__ne__',\n",
              " '__new__',\n",
              " '__reduce__',\n",
              " '__reduce_ex__',\n",
              " '__repr__',\n",
              " '__setattr__',\n",
              " '__sizeof__',\n",
              " '__str__',\n",
              " '__subclasshook__',\n",
              " '__weakref__',\n",
              " 'ceo',\n",
              " 'close',\n",
              " 'open',\n",
              " 'print_return',\n",
              " 'rate_return',\n",
              " 'ticker',\n",
              " 'update',\n",
              " 'volume']"
            ]
          },
          "metadata": {},
          "execution_count": 10
        }
      ]
    },
    {
      "cell_type": "code",
      "metadata": {
        "colab": {
          "base_uri": "https://localhost:8080/"
        },
        "id": "zoNaG2vz_H81",
        "outputId": "cf8debc6-cf8d-432e-da05-c8b2188274d7"
      },
      "source": [
        "# Changed code\n",
        "dir(fruit)"
      ],
      "execution_count": 11,
      "outputs": [
        {
          "output_type": "execute_result",
          "data": {
            "text/plain": [
              "['__class__',\n",
              " '__delattr__',\n",
              " '__dict__',\n",
              " '__dir__',\n",
              " '__doc__',\n",
              " '__eq__',\n",
              " '__format__',\n",
              " '__ge__',\n",
              " '__getattribute__',\n",
              " '__gt__',\n",
              " '__hash__',\n",
              " '__init__',\n",
              " '__init_subclass__',\n",
              " '__le__',\n",
              " '__lt__',\n",
              " '__module__',\n",
              " '__ne__',\n",
              " '__new__',\n",
              " '__reduce__',\n",
              " '__reduce_ex__',\n",
              " '__repr__',\n",
              " '__setattr__',\n",
              " '__sizeof__',\n",
              " '__str__',\n",
              " '__subclasshook__',\n",
              " '__weakref__',\n",
              " 'caducidad',\n",
              " 'cantidad',\n",
              " 'nombre',\n",
              " 'owner',\n",
              " 'precio',\n",
              " 'print_total_price',\n",
              " 'total_price',\n",
              " 'update']"
            ]
          },
          "metadata": {},
          "execution_count": 11
        }
      ]
    },
    {
      "cell_type": "markdown",
      "metadata": {
        "id": "t77Gqyt0QdM1"
      },
      "source": [
        "---"
      ]
    },
    {
      "cell_type": "code",
      "metadata": {
        "colab": {
          "base_uri": "https://localhost:8080/"
        },
        "id": "Q679Hk5vQeWj",
        "outputId": "f4e220dd-8e80-41af-ad3c-5955df5d08c8"
      },
      "source": [
        "class Child(Stock):\n",
        "    def __init__(self, name):\n",
        "        self.name = name\n",
        "aa = Child('AA')\n",
        "print(aa.name)\n",
        "aa.update(100, 102)\n",
        "print(aa.open)\n",
        "print(aa.close)\n",
        "aa.print_return()"
      ],
      "execution_count": 18,
      "outputs": [
        {
          "output_type": "stream",
          "name": "stdout",
          "text": [
            "AA\n",
            "100\n",
            "102\n",
            "0.020000000000000018\n"
          ]
        }
      ]
    },
    {
      "cell_type": "code",
      "metadata": {
        "colab": {
          "base_uri": "https://localhost:8080/"
        },
        "id": "6UgMt2DzRtWv",
        "outputId": "f634c2ce-f6c4-4ce1-9bd5-5d3a75546fd4"
      },
      "source": [
        "class Frutita(Fruta):\n",
        "    def __init__(self, nombre):\n",
        "        self.nombre = nombre\n",
        "aa = Frutita('Manzanita')\n",
        "print(aa.nombre)\n",
        "aa.update(15, 10000)\n",
        "print(aa.cantidad)\n",
        "print(aa.precio)\n",
        "aa.print_total_price()"
      ],
      "execution_count": 19,
      "outputs": [
        {
          "output_type": "stream",
          "name": "stdout",
          "text": [
            "Manzanita\n",
            "15\n",
            "10000\n",
            "150000\n"
          ]
        }
      ]
    },
    {
      "cell_type": "markdown",
      "metadata": {
        "id": "t-MoCFexp_3S"
      },
      "source": [
        "## <font color='dodgerblue'>4. **NumPy and Basic Pandas**</font>"
      ]
    },
    {
      "cell_type": "markdown",
      "metadata": {
        "id": "dpQB3gJTqQMr"
      },
      "source": [
        "### <font color='deepskyblue'> **4.1.** NumPy</font>"
      ]
    },
    {
      "cell_type": "code",
      "metadata": {
        "colab": {
          "base_uri": "https://localhost:8080/"
        },
        "id": "BJH0NcE0Tjuw",
        "outputId": "74287619-0d01-47b5-e9c6-785c1bb4b35d"
      },
      "source": [
        "# QC Code\n",
        "import numpy as np\n",
        "\n",
        "price_list = [143.73, 145.83, 143.68, 144.02, 143.5, 142.62]\n",
        "price_array = np.array(price_list)\n",
        "print(price_array, type(price_array))\n"
      ],
      "execution_count": 21,
      "outputs": [
        {
          "output_type": "stream",
          "name": "stdout",
          "text": [
            "[143.73 145.83 143.68 144.02 143.5  142.62] <class 'numpy.ndarray'>\n"
          ]
        }
      ]
    },
    {
      "cell_type": "code",
      "metadata": {
        "colab": {
          "base_uri": "https://localhost:8080/"
        },
        "id": "0Sqt5hmkT9rM",
        "outputId": "72beca15-4096-445a-aa14-d11293d3d857"
      },
      "source": [
        "# Changed code\n",
        "import numpy as np\n",
        "\n",
        "price_list = [487, 565, 154, 649, 523, 978]\n",
        "price_array = np.array(price_list)\n",
        "print(price_array, type(price_array))\n"
      ],
      "execution_count": 22,
      "outputs": [
        {
          "output_type": "stream",
          "name": "stdout",
          "text": [
            "['item1' 'item2' 'item3' 'item4' 'item5' 'item6'] <class 'numpy.ndarray'>\n"
          ]
        }
      ]
    },
    {
      "cell_type": "markdown",
      "metadata": {
        "id": "01m3eGRvUNS3"
      },
      "source": [
        "---"
      ]
    },
    {
      "cell_type": "code",
      "metadata": {
        "colab": {
          "base_uri": "https://localhost:8080/"
        },
        "id": "PxBgpo6uUOHM",
        "outputId": "1ecc230e-400d-4d44-9a3e-6e628a216f23"
      },
      "source": [
        "# QC Code\n",
        "Ar = np.array([[1,3], [2,4]])\n",
        "print(Ar, type(Ar))"
      ],
      "execution_count": 23,
      "outputs": [
        {
          "output_type": "stream",
          "name": "stdout",
          "text": [
            "[[1 3]\n",
            " [2 4]] <class 'numpy.ndarray'>\n"
          ]
        }
      ]
    },
    {
      "cell_type": "code",
      "metadata": {
        "colab": {
          "base_uri": "https://localhost:8080/"
        },
        "id": "pJg7HTLbUfj9",
        "outputId": "e3805b49-6064-44f1-dfa4-7c8ecb93cb16"
      },
      "source": [
        "# QC Code\n",
        "Ar = np.array([[20,65, 84], [44,87,46]])\n",
        "print(Ar, type(Ar))"
      ],
      "execution_count": 28,
      "outputs": [
        {
          "output_type": "stream",
          "name": "stdout",
          "text": [
            "[[20 65 84]\n",
            " [44 87 46]] <class 'numpy.ndarray'>\n"
          ]
        }
      ]
    },
    {
      "cell_type": "markdown",
      "metadata": {
        "id": "h4gmJJEdUurO"
      },
      "source": [
        "---"
      ]
    },
    {
      "cell_type": "code",
      "metadata": {
        "colab": {
          "base_uri": "https://localhost:8080/"
        },
        "id": "Mc5zSE40UvXi",
        "outputId": "a54b727c-4b8f-4290-bd42-c379437e2a1f"
      },
      "source": [
        "# QC Code\n",
        "Ar = np.array([[1,3], [2,4]])\n",
        "print(Ar.shape)"
      ],
      "execution_count": 30,
      "outputs": [
        {
          "output_type": "stream",
          "name": "stdout",
          "text": [
            "(2, 2)\n"
          ]
        }
      ]
    },
    {
      "cell_type": "code",
      "metadata": {
        "colab": {
          "base_uri": "https://localhost:8080/"
        },
        "id": "6_FZxljQVETQ",
        "outputId": "4633a2cf-afdb-4af4-e41c-571fba2a697b"
      },
      "source": [
        "# Changed code\n",
        "Ar = np.array([[20,65, 84], [44,87,46]])\n",
        "print(Ar.shape)"
      ],
      "execution_count": 31,
      "outputs": [
        {
          "output_type": "stream",
          "name": "stdout",
          "text": [
            "(2, 3)\n"
          ]
        }
      ]
    },
    {
      "cell_type": "markdown",
      "metadata": {
        "id": "fLV8JYs5VN_8"
      },
      "source": [
        "---"
      ]
    },
    {
      "cell_type": "code",
      "metadata": {
        "colab": {
          "base_uri": "https://localhost:8080/"
        },
        "id": "8J82uFwtVOzk",
        "outputId": "0505efb1-03bf-4261-b8b1-8b74fe6822af"
      },
      "source": [
        "# QC Code\n",
        "Ar = np.array([[1,3], [2,4]])\n",
        "print(Ar[0])\n",
        "print(Ar[1])"
      ],
      "execution_count": 32,
      "outputs": [
        {
          "output_type": "stream",
          "name": "stdout",
          "text": [
            "[1 3]\n",
            "[2 4]\n"
          ]
        }
      ]
    },
    {
      "cell_type": "code",
      "metadata": {
        "colab": {
          "base_uri": "https://localhost:8080/"
        },
        "id": "HnVR0rGyVagW",
        "outputId": "e0cad99e-04f1-4372-f8cc-b700ebea6072"
      },
      "source": [
        "# Changed code\n",
        "Ar = np.array([[20,65, 84], [44,87,46]])\n",
        "print(Ar[0])\n",
        "print(Ar[1])"
      ],
      "execution_count": 33,
      "outputs": [
        {
          "output_type": "stream",
          "name": "stdout",
          "text": [
            "[20 65 84]\n",
            "[44 87 46]\n"
          ]
        }
      ]
    },
    {
      "cell_type": "markdown",
      "metadata": {
        "id": "Cl3IaiuoVg_m"
      },
      "source": [
        "---"
      ]
    },
    {
      "cell_type": "code",
      "metadata": {
        "colab": {
          "base_uri": "https://localhost:8080/"
        },
        "id": "6-z33Cx4Vht_",
        "outputId": "aa8fe340-83d7-4069-9e33-23a77c7be13f"
      },
      "source": [
        "# QC Code\n",
        "Ar = np.array([[1,3], [2,4]])\n",
        "print('First column:', Ar[:,0])\n",
        "print('Second column:', Ar[:,1])"
      ],
      "execution_count": 35,
      "outputs": [
        {
          "output_type": "stream",
          "name": "stdout",
          "text": [
            "First column: [1 2]\n",
            "Second column: [3 4]\n"
          ]
        }
      ]
    },
    {
      "cell_type": "code",
      "metadata": {
        "colab": {
          "base_uri": "https://localhost:8080/"
        },
        "id": "LFWDm_F9Vvyk",
        "outputId": "33425eff-8b99-4cce-fb53-f55402317a1b"
      },
      "source": [
        "# Changed code\n",
        "Ar = np.array([[20,65, 84], [44,87,46]])\n",
        "print('First column:', Ar[:,0])\n",
        "print('Second column:', Ar[:,1])"
      ],
      "execution_count": 38,
      "outputs": [
        {
          "output_type": "stream",
          "name": "stdout",
          "text": [
            "First column: [20 44]\n",
            "Second column: [65 87]\n"
          ]
        }
      ]
    },
    {
      "cell_type": "markdown",
      "metadata": {
        "id": "OGc7N_bmWCnU"
      },
      "source": [
        "---"
      ]
    },
    {
      "cell_type": "code",
      "metadata": {
        "colab": {
          "base_uri": "https://localhost:8080/"
        },
        "id": "039LgDmAWDWI",
        "outputId": "0e5179e0-6203-4019-a5d0-5099eb061f16"
      },
      "source": [
        "# QC Code\n",
        "price_list = [143.73, 145.83, 143.68, 144.02, 143.5, 142.62]\n",
        "price_array = np.array(price_list)\n",
        "np.log(price_array)"
      ],
      "execution_count": 40,
      "outputs": [
        {
          "output_type": "execute_result",
          "data": {
            "text/plain": [
              "array([4.96793654, 4.98244156, 4.9675886 , 4.96995218, 4.96633504,\n",
              "       4.96018375])"
            ]
          },
          "metadata": {},
          "execution_count": 40
        }
      ]
    },
    {
      "cell_type": "code",
      "metadata": {
        "colab": {
          "base_uri": "https://localhost:8080/"
        },
        "id": "74cmi-_mXOv6",
        "outputId": "f3f156dd-7248-49f3-fc1c-755d45005b29"
      },
      "source": [
        "# Changed code\n",
        "price_list = [487, 565, 154, 649, 523, 978]\n",
        "price_array = np.array(price_list)\n",
        "np.log(price_array)"
      ],
      "execution_count": 41,
      "outputs": [
        {
          "output_type": "execute_result",
          "data": {
            "text/plain": [
              "array([6.18826412, 6.33682573, 5.0369526 , 6.47543272, 6.25958146,\n",
              "       6.88550967])"
            ]
          },
          "metadata": {},
          "execution_count": 41
        }
      ]
    },
    {
      "cell_type": "markdown",
      "metadata": {
        "id": "-KfcqyG1XVgx"
      },
      "source": [
        "---"
      ]
    },
    {
      "cell_type": "code",
      "metadata": {
        "colab": {
          "base_uri": "https://localhost:8080/"
        },
        "id": "0_BvLoiiXWkF",
        "outputId": "a1db088f-3193-4547-bcb7-7ba636f1ae77"
      },
      "source": [
        "# QC Code\n",
        "price_list = [143.73, 145.83, 143.68, 144.02, 143.5, 142.62]\n",
        "price_array = np.array(price_list)\n",
        "print(np.mean(price_array))\n",
        "print(np.std(price_array))\n",
        "print(np.sum(price_array))\n",
        "print(np.max(price_array))"
      ],
      "execution_count": 45,
      "outputs": [
        {
          "output_type": "stream",
          "name": "stdout",
          "text": [
            "143.89666666666668\n",
            "0.9673790478515796\n",
            "863.38\n",
            "145.83\n"
          ]
        }
      ]
    },
    {
      "cell_type": "code",
      "metadata": {
        "colab": {
          "base_uri": "https://localhost:8080/"
        },
        "id": "DDDjhMZDYIT_",
        "outputId": "44c0c84c-e129-422f-fb75-d4c40fae6fd1"
      },
      "source": [
        "# Changed code\n",
        "price_list = [487, 565, 154, 649, 523, 978]\n",
        "price_array = np.array(price_list)\n",
        "print(np.mean(price_array))\n",
        "print(np.std(price_array))\n",
        "print(np.sum(price_array))\n",
        "print(np.max(price_array))"
      ],
      "execution_count": 46,
      "outputs": [
        {
          "output_type": "stream",
          "name": "stdout",
          "text": [
            "559.3333333333334\n",
            "242.96821922950244\n",
            "3356\n",
            "978\n"
          ]
        }
      ]
    },
    {
      "cell_type": "markdown",
      "metadata": {
        "id": "OILZNdprqUtB"
      },
      "source": [
        "### <font color='deepskyblue'> **4.2.** Pandas</font>"
      ]
    },
    {
      "cell_type": "code",
      "metadata": {
        "id": "ToJEr_bZdpNm",
        "colab": {
          "base_uri": "https://localhost:8080/"
        },
        "outputId": "7f6ffbfb-3a2d-4ee4-87ed-654c1c6e4af6"
      },
      "source": [
        "# QC Code\n",
        "import pandas as pd\n",
        "\n",
        "price = [143.73, 145.83, 143.68, 144.02, 143.5, 142.62]\n",
        "s = pd.Series(price)\n",
        "print(s)"
      ],
      "execution_count": 49,
      "outputs": [
        {
          "output_type": "stream",
          "name": "stdout",
          "text": [
            "0    143.73\n",
            "1    145.83\n",
            "2    143.68\n",
            "3    144.02\n",
            "4    143.50\n",
            "5    142.62\n",
            "dtype: float64\n"
          ]
        }
      ]
    },
    {
      "cell_type": "code",
      "metadata": {
        "colab": {
          "base_uri": "https://localhost:8080/"
        },
        "id": "-FegxnBhZShW",
        "outputId": "a44829fe-6922-4ba6-c79e-ac489fd4a933"
      },
      "source": [
        "# QC Code\n",
        "import pandas as pd\n",
        "\n",
        "price = [487, 565, 154, 649, 523, 978]\n",
        "s = pd.Series(price)\n",
        "print(s)"
      ],
      "execution_count": 50,
      "outputs": [
        {
          "output_type": "stream",
          "name": "stdout",
          "text": [
            "0    487\n",
            "1    565\n",
            "2    154\n",
            "3    649\n",
            "4    523\n",
            "5    978\n",
            "dtype: int64\n"
          ]
        }
      ]
    },
    {
      "cell_type": "markdown",
      "metadata": {
        "id": "WxueDRzpZmPq"
      },
      "source": [
        "---"
      ]
    },
    {
      "cell_type": "code",
      "metadata": {
        "colab": {
          "base_uri": "https://localhost:8080/"
        },
        "id": "PA-0a51wZnjZ",
        "outputId": "73e700c9-b417-4097-af31-0bcf192ae849"
      },
      "source": [
        "# QC Code\n",
        "price = [143.73, 145.83, 143.68, 144.02, 143.5, 142.62]\n",
        "s = pd.Series(price, index = ['a', 'b', 'c', 'd', 'e', 'f'])\n",
        "print(s)"
      ],
      "execution_count": 52,
      "outputs": [
        {
          "output_type": "stream",
          "name": "stdout",
          "text": [
            "a    143.73\n",
            "b    145.83\n",
            "c    143.68\n",
            "d    144.02\n",
            "e    143.50\n",
            "f    142.62\n",
            "dtype: float64\n"
          ]
        }
      ]
    },
    {
      "cell_type": "code",
      "metadata": {
        "colab": {
          "base_uri": "https://localhost:8080/"
        },
        "id": "zcUNLPlwZ3oK",
        "outputId": "ee4ada70-bba6-4d90-fd88-bdb48dffef75"
      },
      "source": [
        "# Changed code\n",
        "price = [487, 565, 154, 649, 523, 978]\n",
        "s = pd.Series(price, index = ['Primero', 'Segundo', 'Tercero', 'Cuarto', 'Quinto', 'Sexto'])\n",
        "print(s)"
      ],
      "execution_count": 53,
      "outputs": [
        {
          "output_type": "stream",
          "name": "stdout",
          "text": [
            "Primero    487\n",
            "Segundo    565\n",
            "Tercero    154\n",
            "Cuarto     649\n",
            "Quinto     523\n",
            "Sexto      978\n",
            "dtype: int64\n"
          ]
        }
      ]
    },
    {
      "cell_type": "markdown",
      "metadata": {
        "id": "2NOF5yV2aEim"
      },
      "source": [
        "---"
      ]
    },
    {
      "cell_type": "code",
      "metadata": {
        "colab": {
          "base_uri": "https://localhost:8080/"
        },
        "id": "wWdvr3VfaFJq",
        "outputId": "26457a7d-16b9-47c5-ace0-b15bbc891e5f"
      },
      "source": [
        "# QC Code\n",
        "price = [143.73, 145.83, 143.68, 144.02, 143.5, 142.62]\n",
        "s = pd.Series(price, index = ['a', 'b', 'c', 'd', 'e', 'f'])\n",
        "s.index = [6,5,4,3,2,1]\n",
        "print(s)"
      ],
      "execution_count": 54,
      "outputs": [
        {
          "output_type": "stream",
          "name": "stdout",
          "text": [
            "6    143.73\n",
            "5    145.83\n",
            "4    143.68\n",
            "3    144.02\n",
            "2    143.50\n",
            "1    142.62\n",
            "dtype: float64\n"
          ]
        }
      ]
    },
    {
      "cell_type": "code",
      "metadata": {
        "colab": {
          "base_uri": "https://localhost:8080/"
        },
        "id": "Yamj-K_saQan",
        "outputId": "0513634d-e226-4e8d-c425-06b79e50320e"
      },
      "source": [
        "# Changed code\n",
        "price = [487, 565, 154, 649, 523, 978]\n",
        "s = pd.Series(price, index = ['Primero', 'Segundo', 'Tercero', 'Cuarto', 'Quinto', 'Sexto'])\n",
        "s.index = [18,17,16,15,14,13]\n",
        "print(s)"
      ],
      "execution_count": 56,
      "outputs": [
        {
          "output_type": "stream",
          "name": "stdout",
          "text": [
            "6    487\n",
            "5    565\n",
            "4    154\n",
            "3    649\n",
            "2    523\n",
            "1    978\n",
            "dtype: int64\n"
          ]
        }
      ]
    },
    {
      "cell_type": "markdown",
      "metadata": {
        "id": "IOtLKV7pamJZ"
      },
      "source": [
        "---"
      ]
    },
    {
      "cell_type": "code",
      "metadata": {
        "colab": {
          "base_uri": "https://localhost:8080/"
        },
        "id": "UDvG7VnJanCt",
        "outputId": "fb888321-0c91-438a-b512-d2896637eecf"
      },
      "source": [
        "# QC Code\n",
        "price = [143.73, 145.83, 143.68, 144.02, 143.5, 142.62]\n",
        "s = pd.Series(price, index = ['a', 'b', 'c', 'd', 'e', 'f'])\n",
        "s.index = [6,5,4,3,2,1]\n",
        "print(s[1:])\n",
        "print(s[:-2])"
      ],
      "execution_count": 58,
      "outputs": [
        {
          "output_type": "stream",
          "name": "stdout",
          "text": [
            "5    145.83\n",
            "4    143.68\n",
            "3    144.02\n",
            "2    143.50\n",
            "1    142.62\n",
            "dtype: float64\n",
            "6    143.73\n",
            "5    145.83\n",
            "4    143.68\n",
            "3    144.02\n",
            "dtype: float64\n"
          ]
        }
      ]
    },
    {
      "cell_type": "code",
      "metadata": {
        "colab": {
          "base_uri": "https://localhost:8080/"
        },
        "id": "TFgKEEbPauMT",
        "outputId": "05c2338d-6d44-4260-a9cb-a9a2c621bac3"
      },
      "source": [
        "# Changed code\n",
        "price = [487, 565, 154, 649, 523, 978]\n",
        "s = pd.Series(price, index = ['Primero', 'Segundo', 'Tercero', 'Cuarto', 'Quinto', 'Sexto'])\n",
        "s.index = [18,17,16,15,14,13]\n",
        "print(s[2:])\n",
        "print(s[:-5])"
      ],
      "execution_count": 62,
      "outputs": [
        {
          "output_type": "stream",
          "name": "stdout",
          "text": [
            "16    154\n",
            "15    649\n",
            "14    523\n",
            "13    978\n",
            "dtype: int64\n",
            "18    487\n",
            "dtype: int64\n"
          ]
        }
      ]
    },
    {
      "cell_type": "markdown",
      "metadata": {
        "id": "Y4r3_ZFAbiPs"
      },
      "source": [
        "---"
      ]
    },
    {
      "cell_type": "code",
      "metadata": {
        "colab": {
          "base_uri": "https://localhost:8080/"
        },
        "id": "CAN_dtcKbi9y",
        "outputId": "a0c9b0e0-1d9d-4da1-f2d1-aebf351c2938"
      },
      "source": [
        "# QC Code\n",
        "price = [143.73, 145.83, 143.68, 144.02, 143.5, 142.62]\n",
        "s = pd.Series(price, index = ['a', 'b', 'c', 'd', 'e', 'f'])\n",
        "s.index = [6,5,4,3,2,1]\n",
        "print(s[4])\n",
        "s[4] = 0\n",
        "print(s)"
      ],
      "execution_count": 72,
      "outputs": [
        {
          "output_type": "stream",
          "name": "stdout",
          "text": [
            "143.68\n",
            "6    143.73\n",
            "5    145.83\n",
            "4      0.00\n",
            "3    144.02\n",
            "2    143.50\n",
            "1    142.62\n",
            "dtype: float64\n"
          ]
        }
      ]
    },
    {
      "cell_type": "code",
      "metadata": {
        "colab": {
          "base_uri": "https://localhost:8080/"
        },
        "id": "D1A7yf0obtYF",
        "outputId": "5ef4a3e2-9584-4896-f9f8-cb3d88246cf7"
      },
      "source": [
        "# Changed code\n",
        "price2 = [487, 565, 154, 649, 523, 978]\n",
        "s2 = pd.Series(price2, index = ['Primero', 'Segundo', 'Tercero', 'Cuarto', 'Quinto', 'Sexto'])\n",
        "s2.index = [18,17,16,15,14,13]\n",
        "print(s2[18])\n",
        "s2[18] = 66.87\n",
        "print(s2)"
      ],
      "execution_count": 79,
      "outputs": [
        {
          "output_type": "stream",
          "name": "stdout",
          "text": [
            "487\n",
            "18     66\n",
            "17    565\n",
            "16    154\n",
            "15    649\n",
            "14    523\n",
            "13    978\n",
            "dtype: int64\n"
          ]
        }
      ]
    },
    {
      "cell_type": "markdown",
      "metadata": {
        "id": "o8Dcvl58cayQ"
      },
      "source": [
        "---"
      ]
    },
    {
      "cell_type": "code",
      "metadata": {
        "colab": {
          "base_uri": "https://localhost:8080/"
        },
        "id": "-aPtA2pEcbkp",
        "outputId": "1e7d5b65-552b-484d-85a2-abed04eda114"
      },
      "source": [
        "# QC Code\n",
        "s = pd.Series(price, name = 'Apple Prices')\n",
        "s.index = [6,5,4,3,2,1]\n",
        "print(s)\n",
        "print(s.name)"
      ],
      "execution_count": 82,
      "outputs": [
        {
          "output_type": "stream",
          "name": "stdout",
          "text": [
            "6    143.73\n",
            "5    145.83\n",
            "4    143.68\n",
            "3    144.02\n",
            "2    143.50\n",
            "1    142.62\n",
            "Name: Apple Prices, dtype: float64\n",
            "Apple Prices\n"
          ]
        }
      ]
    },
    {
      "cell_type": "code",
      "metadata": {
        "colab": {
          "base_uri": "https://localhost:8080/"
        },
        "id": "TZar9gl5c-if",
        "outputId": "038b099e-a316-45fc-e910-e2c75b9afde8"
      },
      "source": [
        "# Changed code\n",
        "s2 = pd.Series(price2, name = 'Números de Lotería')\n",
        "s2.index= [18,17,16,15,14,13]\n",
        "print(s2)\n",
        "print(s2.name)"
      ],
      "execution_count": 81,
      "outputs": [
        {
          "output_type": "stream",
          "name": "stdout",
          "text": [
            "18    487\n",
            "17    565\n",
            "16    154\n",
            "15    649\n",
            "14    523\n",
            "13    978\n",
            "Name: Números de Lotería, dtype: int64\n",
            "Números de Lotería\n"
          ]
        }
      ]
    },
    {
      "cell_type": "markdown",
      "metadata": {
        "id": "HvOKcOOQd1AZ"
      },
      "source": [
        "---"
      ]
    },
    {
      "cell_type": "code",
      "metadata": {
        "colab": {
          "base_uri": "https://localhost:8080/"
        },
        "id": "bguK6lkTd1-V",
        "outputId": "b082cd55-e81c-4f9d-9148-d544726d26fb"
      },
      "source": [
        "# QC Code\n",
        "print(s.describe())"
      ],
      "execution_count": 83,
      "outputs": [
        {
          "output_type": "stream",
          "name": "stdout",
          "text": [
            "count      6.000000\n",
            "mean     143.896667\n",
            "std        1.059711\n",
            "min      142.620000\n",
            "25%      143.545000\n",
            "50%      143.705000\n",
            "75%      143.947500\n",
            "max      145.830000\n",
            "Name: Apple Prices, dtype: float64\n"
          ]
        }
      ]
    },
    {
      "cell_type": "code",
      "metadata": {
        "colab": {
          "base_uri": "https://localhost:8080/"
        },
        "id": "SnzjhGuaeA5p",
        "outputId": "e1638abd-d915-4fa3-c599-6122ebac13b8"
      },
      "source": [
        "# Changed code\n",
        "print(s2.describe())"
      ],
      "execution_count": 84,
      "outputs": [
        {
          "output_type": "stream",
          "name": "stdout",
          "text": [
            "count      6.000000\n",
            "mean     559.333333\n",
            "std      266.158349\n",
            "min      154.000000\n",
            "25%      496.000000\n",
            "50%      544.000000\n",
            "75%      628.000000\n",
            "max      978.000000\n",
            "Name: Números de Lotería, dtype: float64\n"
          ]
        }
      ]
    },
    {
      "cell_type": "markdown",
      "metadata": {
        "id": "0XAzB_qheHef"
      },
      "source": [
        "---"
      ]
    },
    {
      "cell_type": "code",
      "metadata": {
        "colab": {
          "base_uri": "https://localhost:8080/"
        },
        "id": "Rz10XJKSeIil",
        "outputId": "2081afff-37f7-40f3-f682-11d0ff9e1019"
      },
      "source": [
        "# QC Code\n",
        "time_index = pd.date_range('2017-01-01', periods = len(s), freq = 'D')\n",
        "print(time_index)\n",
        "s.index = time_index\n",
        "print(s)"
      ],
      "execution_count": 99,
      "outputs": [
        {
          "output_type": "stream",
          "name": "stdout",
          "text": [
            "DatetimeIndex(['2017-01-01', '2017-01-02', '2017-01-03', '2017-01-04',\n",
            "               '2017-01-05', '2017-01-06'],\n",
            "              dtype='datetime64[ns]', freq='D')\n",
            "2017-01-01    143.73\n",
            "2017-01-02    145.83\n",
            "2017-01-03    143.68\n",
            "2017-01-04    144.02\n",
            "2017-01-05    143.50\n",
            "2017-01-06    142.62\n",
            "Freq: D, Name: Apple Prices, dtype: float64\n"
          ]
        }
      ]
    },
    {
      "cell_type": "code",
      "metadata": {
        "colab": {
          "base_uri": "https://localhost:8080/"
        },
        "id": "Q33yzfx6f7P2",
        "outputId": "38eb3d9b-b7f2-4134-9e41-3d510c5dcd71"
      },
      "source": [
        "# Changed code\n",
        "time_index2 = pd.date_range('2077-07-07', periods = len(s2), freq = 'D')\n",
        "print(time_index2)\n",
        "s2.index = time_index2\n",
        "print(s2)"
      ],
      "execution_count": 100,
      "outputs": [
        {
          "output_type": "stream",
          "name": "stdout",
          "text": [
            "DatetimeIndex(['2077-07-07', '2077-07-08', '2077-07-09', '2077-07-10',\n",
            "               '2077-07-11', '2077-07-12'],\n",
            "              dtype='datetime64[ns]', freq='D')\n",
            "2077-07-07    487\n",
            "2077-07-08    565\n",
            "2077-07-09    154\n",
            "2077-07-10    649\n",
            "2077-07-11    523\n",
            "2077-07-12    978\n",
            "Freq: D, Name: Números de Lotería, dtype: int64\n"
          ]
        }
      ]
    },
    {
      "cell_type": "markdown",
      "metadata": {
        "id": "TuIKYGrGg9rj"
      },
      "source": [
        "---"
      ]
    },
    {
      "cell_type": "code",
      "metadata": {
        "colab": {
          "base_uri": "https://localhost:8080/"
        },
        "id": "x8Y_Nqptg-W2",
        "outputId": "9ca175d3-d86f-4689-d8cf-d835e3718b64"
      },
      "source": [
        "# QC Code\n",
        "s.index = [6,5,4,3,2,1]\n",
        "print(s)\n",
        "print(s[1])"
      ],
      "execution_count": 88,
      "outputs": [
        {
          "output_type": "stream",
          "name": "stdout",
          "text": [
            "6    143.73\n",
            "5    145.83\n",
            "4    143.68\n",
            "3    144.02\n",
            "2    143.50\n",
            "1    142.62\n",
            "Name: Apple Prices, dtype: float64\n",
            "142.62\n"
          ]
        }
      ]
    },
    {
      "cell_type": "code",
      "metadata": {
        "colab": {
          "base_uri": "https://localhost:8080/"
        },
        "id": "j74UpKIRhIVs",
        "outputId": "75cb3437-d5d1-4ccc-a3ce-5109f9059280"
      },
      "source": [
        "# Changed code\n",
        "s2.index = [18,17,16,15,14,13]\n",
        "print(s2)\n",
        "print(s2[13])"
      ],
      "execution_count": 90,
      "outputs": [
        {
          "output_type": "stream",
          "name": "stdout",
          "text": [
            "18    487\n",
            "17    565\n",
            "16    154\n",
            "15    649\n",
            "14    523\n",
            "13    978\n",
            "Name: Números de Lotería, dtype: int64\n",
            "978\n"
          ]
        }
      ]
    },
    {
      "cell_type": "markdown",
      "metadata": {
        "id": "7VuqOtDYhVUF"
      },
      "source": [
        "---"
      ]
    },
    {
      "cell_type": "code",
      "metadata": {
        "colab": {
          "base_uri": "https://localhost:8080/"
        },
        "id": "pEQSarhshWCF",
        "outputId": "2636194f-2614-4718-c536-406e3f8d1328"
      },
      "source": [
        "# QC Code\n",
        "print(s)\n",
        "print(s.iloc[1])"
      ],
      "execution_count": 98,
      "outputs": [
        {
          "output_type": "stream",
          "name": "stdout",
          "text": [
            "6    143.73\n",
            "5    145.83\n",
            "4    143.68\n",
            "3    144.02\n",
            "2    143.50\n",
            "1    142.62\n",
            "Name: Apple Prices, dtype: float64\n",
            "145.83\n"
          ]
        }
      ]
    },
    {
      "cell_type": "code",
      "metadata": {
        "colab": {
          "base_uri": "https://localhost:8080/"
        },
        "id": "hjepACtHhjfH",
        "outputId": "a7d6026f-eeca-4eae-fd38-ab42a6a50815"
      },
      "source": [
        "# Changed code\n",
        "print(s2)\n",
        "print(s2.iloc[1])"
      ],
      "execution_count": 97,
      "outputs": [
        {
          "output_type": "stream",
          "name": "stdout",
          "text": [
            "18    487\n",
            "17    565\n",
            "16    154\n",
            "15    649\n",
            "14    523\n",
            "13    978\n",
            "Name: Números de Lotería, dtype: int64\n",
            "565\n"
          ]
        }
      ]
    },
    {
      "cell_type": "markdown",
      "metadata": {
        "id": "pM7pY4pSiujM"
      },
      "source": [
        "---"
      ]
    },
    {
      "cell_type": "code",
      "metadata": {
        "colab": {
          "base_uri": "https://localhost:8080/"
        },
        "id": "WsCtjdBWivLr",
        "outputId": "ad52d8db-b642-4c81-cfd2-6ba4fbc64a69"
      },
      "source": [
        "# QC Code\n",
        "s.index = time_index\n",
        "print(s['2017-01-03'])"
      ],
      "execution_count": 102,
      "outputs": [
        {
          "output_type": "stream",
          "name": "stdout",
          "text": [
            "143.68\n"
          ]
        }
      ]
    },
    {
      "cell_type": "code",
      "metadata": {
        "colab": {
          "base_uri": "https://localhost:8080/"
        },
        "id": "I3Kuewvti2gv",
        "outputId": "3c204674-4db7-48ad-9cab-f4de0058a0dd"
      },
      "source": [
        "# Changed code\n",
        "s2.index = time_index2\n",
        "print(s2['2077-07-08'])"
      ],
      "execution_count": 105,
      "outputs": [
        {
          "output_type": "stream",
          "name": "stdout",
          "text": [
            "565\n"
          ]
        }
      ]
    },
    {
      "cell_type": "markdown",
      "metadata": {
        "id": "e6AZgbR5jB4n"
      },
      "source": [
        "---"
      ]
    },
    {
      "cell_type": "code",
      "metadata": {
        "colab": {
          "base_uri": "https://localhost:8080/"
        },
        "id": "p0WzpCOHjCfG",
        "outputId": "00572383-c520-4116-e9f7-e1c6977bbb85"
      },
      "source": [
        "# QC Code\n",
        "print(s['2017-01-02':'2017-01-05'])"
      ],
      "execution_count": 106,
      "outputs": [
        {
          "output_type": "stream",
          "name": "stdout",
          "text": [
            "2017-01-02    145.83\n",
            "2017-01-03    143.68\n",
            "2017-01-04    144.02\n",
            "2017-01-05    143.50\n",
            "Freq: D, Name: Apple Prices, dtype: float64\n"
          ]
        }
      ]
    },
    {
      "cell_type": "code",
      "metadata": {
        "colab": {
          "base_uri": "https://localhost:8080/"
        },
        "id": "8Q1Qf4nXjIlg",
        "outputId": "d0430104-0ab6-4dda-93c4-ad9ff397d196"
      },
      "source": [
        "# Changed code\n",
        "print(s2['2077-07-08':'2077-07-11'])"
      ],
      "execution_count": 108,
      "outputs": [
        {
          "output_type": "stream",
          "name": "stdout",
          "text": [
            "2077-07-08    565\n",
            "2077-07-09    154\n",
            "2077-07-10    649\n",
            "2077-07-11    523\n",
            "Freq: D, Name: Números de Lotería, dtype: int64\n"
          ]
        }
      ]
    },
    {
      "cell_type": "markdown",
      "metadata": {
        "id": "uZy7AlipjSWx"
      },
      "source": [
        "---"
      ]
    },
    {
      "cell_type": "code",
      "metadata": {
        "colab": {
          "base_uri": "https://localhost:8080/"
        },
        "id": "E2X6VFK3jTFY",
        "outputId": "713012b0-84cb-4c6b-ec32-f2286d73fd23"
      },
      "source": [
        "# QC Code\n",
        "print(s[s < np.mean(s)])\n",
        "print(s[(s > np.mean(s)) & (s < np.mean(s) + 1.64*np.std(s))])"
      ],
      "execution_count": 109,
      "outputs": [
        {
          "output_type": "stream",
          "name": "stdout",
          "text": [
            "2017-01-01    143.73\n",
            "2017-01-03    143.68\n",
            "2017-01-05    143.50\n",
            "2017-01-06    142.62\n",
            "Name: Apple Prices, dtype: float64\n",
            "2017-01-04    144.02\n",
            "Freq: D, Name: Apple Prices, dtype: float64\n"
          ]
        }
      ]
    },
    {
      "cell_type": "code",
      "metadata": {
        "colab": {
          "base_uri": "https://localhost:8080/"
        },
        "id": "7yaXPb-1juH2",
        "outputId": "25aabf0f-feba-4ac6-8e5c-aa1cd8a87f7e"
      },
      "source": [
        "# Changed code\n",
        "print(s2[s2 < np.mean(s2)])\n",
        "print(s2[(s2 > np.mean(s2)) & (s2 < np.mean(s2) + 1.64*np.std(s2))])"
      ],
      "execution_count": 110,
      "outputs": [
        {
          "output_type": "stream",
          "name": "stdout",
          "text": [
            "2077-07-07    487\n",
            "2077-07-09    154\n",
            "2077-07-11    523\n",
            "Name: Números de Lotería, dtype: int64\n",
            "2077-07-08    565\n",
            "2077-07-10    649\n",
            "Name: Números de Lotería, dtype: int64\n"
          ]
        }
      ]
    }
  ]
}